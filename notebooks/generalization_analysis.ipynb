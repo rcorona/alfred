{
 "cells": [
  {
   "cell_type": "markdown",
   "metadata": {},
   "source": [
    "# setup"
   ]
  },
  {
   "cell_type": "code",
   "execution_count": 1,
   "metadata": {},
   "outputs": [
    {
     "name": "stdout",
     "output_type": "stream",
     "text": [
      "/data/dfried/projects/alfred/alfred\n"
     ]
    }
   ],
   "source": [
    "cd /data/dfried/projects/alfred/alfred"
   ]
  },
  {
   "cell_type": "code",
   "execution_count": 2,
   "metadata": {},
   "outputs": [],
   "source": [
    "!export ALFRED_ROOT=\"/data/dfried/projects/alfred/alfred\""
   ]
  },
  {
   "cell_type": "code",
   "execution_count": 3,
   "metadata": {},
   "outputs": [],
   "source": [
    "import pandas"
   ]
  },
  {
   "cell_type": "code",
   "execution_count": 4,
   "metadata": {},
   "outputs": [],
   "source": [
    "import matplotlib.pyplot as plt"
   ]
  },
  {
   "cell_type": "code",
   "execution_count": 5,
   "metadata": {},
   "outputs": [],
   "source": [
    "%matplotlib inline"
   ]
  },
  {
   "cell_type": "code",
   "execution_count": 6,
   "metadata": {},
   "outputs": [],
   "source": [
    "from analysis import *"
   ]
  },
  {
   "cell_type": "code",
   "execution_count": 7,
   "metadata": {},
   "outputs": [],
   "source": [
    "with open(SPLITS) as f:\n",
    "    splits = json.load(f)"
   ]
  },
  {
   "cell_type": "code",
   "execution_count": 8,
   "metadata": {},
   "outputs": [],
   "source": [
    "train = splits['train']\n",
    "valid_seen = splits['valid_seen']\n",
    "valid_unseen = splits['valid_unseen']\n",
    "tests_unseen = splits['tests_unseen']\n",
    "tests_seen = splits['tests_seen']"
   ]
  },
  {
   "cell_type": "code",
   "execution_count": 9,
   "metadata": {},
   "outputs": [],
   "source": [
    "def extract_pddl_actions(task_data):\n",
    "    high_pddl = task_data['plan']['high_pddl']\n",
    "    return [\n",
    "        action['discrete_action'] for action in high_pddl\n",
    "    ]"
   ]
  },
  {
   "cell_type": "code",
   "execution_count": 10,
   "metadata": {},
   "outputs": [],
   "source": [
    "import tqdm.notebook"
   ]
  },
  {
   "cell_type": "code",
   "execution_count": 11,
   "metadata": {},
   "outputs": [],
   "source": [
    "from collections import namedtuple\n",
    "TaskInfo = namedtuple(\"TaskInfo\", [\"path\", \"high_level_task\", \"high_level_params\", \"scene\"])"
   ]
  },
  {
   "cell_type": "code",
   "execution_count": 12,
   "metadata": {},
   "outputs": [],
   "source": [
    "def parse_task_info(task_path):\n",
    "    tokens = task_path.split('/')[0].split('-')\n",
    "    return TaskInfo(\n",
    "        path=task_path,\n",
    "        high_level_task=tokens[0],\n",
    "        high_level_params=tuple(tokens[1:-1]),\n",
    "        scene=int(tokens[-1])\n",
    "    )"
   ]
  },
  {
   "cell_type": "code",
   "execution_count": 13,
   "metadata": {},
   "outputs": [],
   "source": [
    "def get_high_level_actions(tasks):\n",
    "    for task in tqdm.notebook.tqdm(tasks):\n",
    "        data = load_task_json(task)\n",
    "        yield(extract_pddl_actions(data))"
   ]
  },
  {
   "cell_type": "code",
   "execution_count": 14,
   "metadata": {},
   "outputs": [],
   "source": [
    "def build_data_frame(tasks):\n",
    "    all_actions = []\n",
    "    all_actions_flat = []\n",
    "    for task in tqdm.notebook.tqdm(tasks):\n",
    "        data = load_task_json(task)\n",
    "        task_info = parse_task_info(task['task'])._asdict()\n",
    "        task_info['repeat_idx'] = task['repeat_idx']\n",
    "\n",
    "        actions = extract_pddl_actions(data)\n",
    "        all_actions.append(actions)\n",
    "        \n",
    "        task_info['high_level_task_and_params'] = (task_info['high_level_task'],) + task_info['high_level_params']\n",
    "\n",
    "        task_info['num_high_level_actions'] = len(actions)\n",
    "        task_info['num_low_level_actions'] = len(data['plan']['low_actions'])\n",
    "\n",
    "        for action in actions:\n",
    "            this_data = {k: tuple(v) if isinstance(v, list) else v for k, v in {\n",
    "                **action,\n",
    "                **task_info\n",
    "            }.items()}\n",
    "            this_data['action_and_args'] = (this_data['action'],) + this_data['args']\n",
    "            all_actions_flat.append(this_data)\n",
    "    return pandas.DataFrame(all_actions_flat)"
   ]
  },
  {
   "cell_type": "code",
   "execution_count": 15,
   "metadata": {},
   "outputs": [],
   "source": [
    "data = load_task_json(train[0])\n",
    "# data['ann']['instr']"
   ]
  },
  {
   "cell_type": "code",
   "execution_count": 16,
   "metadata": {},
   "outputs": [],
   "source": [
    "def get_segmented_instructions(tasks):\n",
    "    for task in tqdm.notebook.tqdm(tasks):\n",
    "        data = load_task_json(task)\n",
    "        plan = data['plan']['high_pddl']\n",
    "        seg_instr = data['ann']['instr']\n",
    "        if len(seg_instr) != len(plan):\n",
    "            continue\n",
    "        yield list(zip([ac['discrete_action']['action'] for ac in plan], seg_instr))"
   ]
  },
  {
   "cell_type": "code",
   "execution_count": 17,
   "metadata": {},
   "outputs": [],
   "source": [
    "import numpy as np"
   ]
  },
  {
   "cell_type": "code",
   "execution_count": 18,
   "metadata": {},
   "outputs": [],
   "source": [
    "# data['plan']['high_pddl']"
   ]
  },
  {
   "cell_type": "code",
   "execution_count": 19,
   "metadata": {},
   "outputs": [],
   "source": [
    "from collections import Counter, defaultdict"
   ]
  },
  {
   "cell_type": "code",
   "execution_count": 20,
   "metadata": {},
   "outputs": [],
   "source": [
    "def get_segment_stats(tasks):\n",
    "    num_segments = []\n",
    "    segment_lengths = []\n",
    "    segment_lengths_by_label = defaultdict(list)\n",
    "    total_lengths = []\n",
    "    for labelled_seg_instr in get_segmented_instructions(tasks):\n",
    "        num_segments.append(len(labelled_seg_instr))\n",
    "        for label, segment in labelled_seg_instr:\n",
    "            segment_lengths.append(len(segment))\n",
    "            segment_lengths_by_label[label].append(len(segment))\n",
    "        total_lengths.append(sum(len(s) for l, s in labelled_seg_instr))\n",
    "    print('max number of segments: {}'.format(max(num_segments)))\n",
    "    print('avg number of segments: {}'.format(np.mean(num_segments)))\n",
    "    print('std dev number of segments: {}'.format(np.std(num_segments)))\n",
    "    print('max segment length: {}'.format(max(segment_lengths)))\n",
    "    print('avg segment length: {}'.format(np.mean(num_segments)))\n",
    "    print('avg segment length: {}'.format(np.mean(segment_lengths)))\n",
    "    print('avg total lengths: {}'.format(np.mean(total_lengths)))\n",
    "    print('std dev total lengths: {}'.format(np.std(total_lengths)))\n",
    "    return segment_lengths_by_label"
   ]
  },
  {
   "cell_type": "code",
   "execution_count": 21,
   "metadata": {},
   "outputs": [
    {
     "data": {
      "application/vnd.jupyter.widget-view+json": {
       "model_id": "53b759fc2909427b9a3d5f093d11ccbc",
       "version_major": 2,
       "version_minor": 0
      },
      "text/plain": [
       "HBox(children=(FloatProgress(value=0.0, max=21023.0), HTML(value='')))"
      ]
     },
     "metadata": {},
     "output_type": "display_data"
    },
    {
     "name": "stdout",
     "output_type": "stream",
     "text": [
      "\n",
      "max number of segments: 20\n",
      "avg number of segments: 7.714122464527188\n",
      "std dev number of segments: 2.489341064458155\n",
      "max segment length: 62\n",
      "avg segment length: 7.714122464527188\n",
      "avg segment length: 10.834185122089721\n",
      "avg total lengths: 83.57623083515855\n",
      "std dev total lengths: 37.153109045965415\n"
     ]
    }
   ],
   "source": [
    "train_len_by_label = get_segment_stats(train)"
   ]
  },
  {
   "cell_type": "code",
   "execution_count": 22,
   "metadata": {},
   "outputs": [],
   "source": [
    "# train_len_by_label"
   ]
  },
  {
   "cell_type": "code",
   "execution_count": 23,
   "metadata": {},
   "outputs": [],
   "source": [
    "import matplotlib.pyplot as plt"
   ]
  },
  {
   "cell_type": "code",
   "execution_count": 24,
   "metadata": {},
   "outputs": [],
   "source": [
    "%matplotlib inline"
   ]
  },
  {
   "cell_type": "code",
   "execution_count": 25,
   "metadata": {
    "scrolled": false
   },
   "outputs": [
    {
     "data": {
      "image/png": "[encoded data removed]",
      "text/plain": [
       "<Figure size 432x288 with 1 Axes>"
      ]
     },
     "metadata": {
      "needs_background": "light"
     },
     "output_type": "display_data"
    },
    {
     "data": {
      "image/png": "[encoded data removed]",
      "text/plain": [
       "<Figure size 432x288 with 1 Axes>"
      ]
     },
     "metadata": {
      "needs_background": "light"
     },
     "output_type": "display_data"
    },
    {
     "data": {
      "image/png": "[encoded data removed]",
      "text/plain": [
       "<Figure size 432x288 with 1 Axes>"
      ]
     },
     "metadata": {
      "needs_background": "light"
     },
     "output_type": "display_data"
    },
    {
     "data": {
      "image/png": "[encoded data removed]",
      "text/plain": [
       "<Figure size 432x288 with 1 Axes>"
      ]
     },
     "metadata": {
      "needs_background": "light"
     },
     "output_type": "display_data"
    },
    {
     "data": {
      "image/png": "[encoded data removed]",
      "text/plain": [
       "<Figure size 432x288 with 1 Axes>"
      ]
     },
     "metadata": {
      "needs_background": "light"
     },
     "output_type": "display_data"
    },
    {
     "data": {
      "image/png": "[encoded data removed]",
      "text/plain": [
       "<Figure size 432x288 with 1 Axes>"
      ]
     },
     "metadata": {
      "needs_background": "light"
     },
     "output_type": "display_data"
    },
    {
     "data": {
      "image/png": "[encoded data removed]",
      "text/plain": [
       "<Figure size 432x288 with 1 Axes>"
      ]
     },
     "metadata": {
      "needs_background": "light"
     },
     "output_type": "display_data"
    },
    {
     "data": {
      "image/png": "[encoded data removed]",
      "text/plain": [
       "<Figure size 432x288 with 1 Axes>"
      ]
     },
     "metadata": {
      "needs_background": "light"
     },
     "output_type": "display_data"
    },
    {
     "data": {
      "image/png": "[encoded data removed]",
      "text/plain": [
       "<Figure size 432x288 with 1 Axes>"
      ]
     },
     "metadata": {
      "needs_background": "light"
     },
     "output_type": "display_data"
    }
   ],
   "source": [
    "for label, counts in train_len_by_label.items():\n",
    "    plt.hist(counts, density=False, bins=30,)\n",
    "    plt.title(label)\n",
    "    plt.show()"
   ]
  },
  {
   "cell_type": "code",
   "execution_count": 26,
   "metadata": {},
   "outputs": [
    {
     "data": {
      "text/plain": [
       "<function matplotlib.pyplot.plot(*args, scalex=True, scaley=True, data=None, **kwargs)>"
      ]
     },
     "execution_count": 26,
     "metadata": {},
     "output_type": "execute_result"
    }
   ],
   "source": [
    "plt.plot"
   ]
  },
  {
   "cell_type": "code",
   "execution_count": 27,
   "metadata": {},
   "outputs": [
    {
     "data": {
      "application/vnd.jupyter.widget-view+json": {
       "model_id": "39edd7e096534385a8c2fe9f406a3545",
       "version_major": 2,
       "version_minor": 0
      },
      "text/plain": [
       "HBox(children=(FloatProgress(value=0.0, max=820.0), HTML(value='')))"
      ]
     },
     "metadata": {},
     "output_type": "display_data"
    },
    {
     "name": "stdout",
     "output_type": "stream",
     "text": [
      "\n",
      "max number of segments: 17\n",
      "avg number of segments: 7.7926829268292686\n",
      "std dev number of segments: 2.7258375525477003\n",
      "max segment length: 54\n",
      "avg segment length: 7.7926829268292686\n",
      "avg segment length: 10.696870109546166\n",
      "avg total lengths: 83.35731707317073\n",
      "std dev total lengths: 41.12047003885702\n"
     ]
    },
    {
     "data": {
      "application/vnd.jupyter.widget-view+json": {
       "model_id": "46e9c96c007a479f815fb95f39a4c238",
       "version_major": 2,
       "version_minor": 0
      },
      "text/plain": [
       "HBox(children=(FloatProgress(value=0.0, max=821.0), HTML(value='')))"
      ]
     },
     "metadata": {},
     "output_type": "display_data"
    },
    {
     "name": "stdout",
     "output_type": "stream",
     "text": [
      "\n",
      "max number of segments: 15\n",
      "avg number of segments: 7.21840490797546\n",
      "std dev number of segments: 2.283878932245277\n",
      "max segment length: 49\n",
      "avg segment length: 7.21840490797546\n",
      "avg segment length: 10.97467278599354\n",
      "avg total lengths: 79.21963190184049\n",
      "std dev total lengths: 36.082347635754644\n"
     ]
    }
   ],
   "source": [
    "_ = get_segment_stats(valid_seen)\n",
    "_ = get_segment_stats(valid_unseen)"
   ]
  },
  {
   "cell_type": "code",
   "execution_count": 28,
   "metadata": {},
   "outputs": [
    {
     "data": {
      "application/vnd.jupyter.widget-view+json": {
       "model_id": "1c049066a3f141ebb85e858993818e4d",
       "version_major": 2,
       "version_minor": 0
      },
      "text/plain": [
       "HBox(children=(FloatProgress(value=0.0, max=21023.0), HTML(value='')))"
      ]
     },
     "metadata": {},
     "output_type": "display_data"
    },
    {
     "name": "stdout",
     "output_type": "stream",
     "text": [
      "\n"
     ]
    },
    {
     "data": {
      "application/vnd.jupyter.widget-view+json": {
       "model_id": "58f6425e344249ff83c7378f8691324b",
       "version_major": 2,
       "version_minor": 0
      },
      "text/plain": [
       "HBox(children=(FloatProgress(value=0.0, max=820.0), HTML(value='')))"
      ]
     },
     "metadata": {},
     "output_type": "display_data"
    },
    {
     "name": "stdout",
     "output_type": "stream",
     "text": [
      "\n"
     ]
    },
    {
     "data": {
      "application/vnd.jupyter.widget-view+json": {
       "model_id": "d5c8e930659348a597ed2593d03447b1",
       "version_major": 2,
       "version_minor": 0
      },
      "text/plain": [
       "HBox(children=(FloatProgress(value=0.0, max=821.0), HTML(value='')))"
      ]
     },
     "metadata": {},
     "output_type": "display_data"
    },
    {
     "name": "stdout",
     "output_type": "stream",
     "text": [
      "\n"
     ]
    }
   ],
   "source": [
    "train_df = build_data_frame(train)\n",
    "valid_seen_df = build_data_frame(valid_seen)\n",
    "valid_unseen_df = build_data_frame(valid_unseen)"
   ]
  },
  {
   "cell_type": "code",
   "execution_count": 29,
   "metadata": {},
   "outputs": [
    {
     "data": {
      "text/html": [
       "<div>\n",
       "<style scoped>\n",
       "    .dataframe tbody tr th:only-of-type {\n",
       "        vertical-align: middle;\n",
       "    }\n",
       "\n",
       "    .dataframe tbody tr th {\n",
       "        vertical-align: top;\n",
       "    }\n",
       "\n",
       "    .dataframe thead th {\n",
       "        text-align: right;\n",
       "    }\n",
       "</style>\n",
       "<table border=\"1\" class=\"dataframe\">\n",
       "  <thead>\n",
       "    <tr style=\"text-align: right;\">\n",
       "      <th></th>\n",
       "      <th>action</th>\n",
       "      <th>args</th>\n",
       "      <th>path</th>\n",
       "      <th>high_level_task</th>\n",
       "      <th>high_level_params</th>\n",
       "      <th>scene</th>\n",
       "      <th>repeat_idx</th>\n",
       "      <th>high_level_task_and_params</th>\n",
       "      <th>num_high_level_actions</th>\n",
       "      <th>num_low_level_actions</th>\n",
       "      <th>action_and_args</th>\n",
       "    </tr>\n",
       "  </thead>\n",
       "  <tbody>\n",
       "    <tr>\n",
       "      <th>0</th>\n",
       "      <td>GotoLocation</td>\n",
       "      <td>(diningtable,)</td>\n",
       "      <td>pick_cool_then_place_in_recep-LettuceSliced-No...</td>\n",
       "      <td>pick_cool_then_place_in_recep</td>\n",
       "      <td>(LettuceSliced, None, DiningTable)</td>\n",
       "      <td>17</td>\n",
       "      <td>0</td>\n",
       "      <td>(pick_cool_then_place_in_recep, LettuceSliced,...</td>\n",
       "      <td>12</td>\n",
       "      <td>67</td>\n",
       "      <td>(GotoLocation, diningtable)</td>\n",
       "    </tr>\n",
       "    <tr>\n",
       "      <th>1</th>\n",
       "      <td>PickupObject</td>\n",
       "      <td>(knife,)</td>\n",
       "      <td>pick_cool_then_place_in_recep-LettuceSliced-No...</td>\n",
       "      <td>pick_cool_then_place_in_recep</td>\n",
       "      <td>(LettuceSliced, None, DiningTable)</td>\n",
       "      <td>17</td>\n",
       "      <td>0</td>\n",
       "      <td>(pick_cool_then_place_in_recep, LettuceSliced,...</td>\n",
       "      <td>12</td>\n",
       "      <td>67</td>\n",
       "      <td>(PickupObject, knife)</td>\n",
       "    </tr>\n",
       "    <tr>\n",
       "      <th>2</th>\n",
       "      <td>SliceObject</td>\n",
       "      <td>(lettuce,)</td>\n",
       "      <td>pick_cool_then_place_in_recep-LettuceSliced-No...</td>\n",
       "      <td>pick_cool_then_place_in_recep</td>\n",
       "      <td>(LettuceSliced, None, DiningTable)</td>\n",
       "      <td>17</td>\n",
       "      <td>0</td>\n",
       "      <td>(pick_cool_then_place_in_recep, LettuceSliced,...</td>\n",
       "      <td>12</td>\n",
       "      <td>67</td>\n",
       "      <td>(SliceObject, lettuce)</td>\n",
       "    </tr>\n",
       "    <tr>\n",
       "      <th>3</th>\n",
       "      <td>GotoLocation</td>\n",
       "      <td>(fridge,)</td>\n",
       "      <td>pick_cool_then_place_in_recep-LettuceSliced-No...</td>\n",
       "      <td>pick_cool_then_place_in_recep</td>\n",
       "      <td>(LettuceSliced, None, DiningTable)</td>\n",
       "      <td>17</td>\n",
       "      <td>0</td>\n",
       "      <td>(pick_cool_then_place_in_recep, LettuceSliced,...</td>\n",
       "      <td>12</td>\n",
       "      <td>67</td>\n",
       "      <td>(GotoLocation, fridge)</td>\n",
       "    </tr>\n",
       "    <tr>\n",
       "      <th>4</th>\n",
       "      <td>PutObject</td>\n",
       "      <td>(knife, fridge)</td>\n",
       "      <td>pick_cool_then_place_in_recep-LettuceSliced-No...</td>\n",
       "      <td>pick_cool_then_place_in_recep</td>\n",
       "      <td>(LettuceSliced, None, DiningTable)</td>\n",
       "      <td>17</td>\n",
       "      <td>0</td>\n",
       "      <td>(pick_cool_then_place_in_recep, LettuceSliced,...</td>\n",
       "      <td>12</td>\n",
       "      <td>67</td>\n",
       "      <td>(PutObject, knife, fridge)</td>\n",
       "    </tr>\n",
       "    <tr>\n",
       "      <th>...</th>\n",
       "      <td>...</td>\n",
       "      <td>...</td>\n",
       "      <td>...</td>\n",
       "      <td>...</td>\n",
       "      <td>...</td>\n",
       "      <td>...</td>\n",
       "      <td>...</td>\n",
       "      <td>...</td>\n",
       "      <td>...</td>\n",
       "      <td>...</td>\n",
       "      <td>...</td>\n",
       "    </tr>\n",
       "    <tr>\n",
       "      <th>162301</th>\n",
       "      <td>GotoLocation</td>\n",
       "      <td>(sinkbasin,)</td>\n",
       "      <td>pick_clean_then_place_in_recep-Cloth-None-Draw...</td>\n",
       "      <td>pick_clean_then_place_in_recep</td>\n",
       "      <td>(Cloth, None, Drawer)</td>\n",
       "      <td>411</td>\n",
       "      <td>2</td>\n",
       "      <td>(pick_clean_then_place_in_recep, Cloth, None, ...</td>\n",
       "      <td>7</td>\n",
       "      <td>27</td>\n",
       "      <td>(GotoLocation, sinkbasin)</td>\n",
       "    </tr>\n",
       "    <tr>\n",
       "      <th>162302</th>\n",
       "      <td>CleanObject</td>\n",
       "      <td>(cloth,)</td>\n",
       "      <td>pick_clean_then_place_in_recep-Cloth-None-Draw...</td>\n",
       "      <td>pick_clean_then_place_in_recep</td>\n",
       "      <td>(Cloth, None, Drawer)</td>\n",
       "      <td>411</td>\n",
       "      <td>2</td>\n",
       "      <td>(pick_clean_then_place_in_recep, Cloth, None, ...</td>\n",
       "      <td>7</td>\n",
       "      <td>27</td>\n",
       "      <td>(CleanObject, cloth)</td>\n",
       "    </tr>\n",
       "    <tr>\n",
       "      <th>162303</th>\n",
       "      <td>GotoLocation</td>\n",
       "      <td>(drawer,)</td>\n",
       "      <td>pick_clean_then_place_in_recep-Cloth-None-Draw...</td>\n",
       "      <td>pick_clean_then_place_in_recep</td>\n",
       "      <td>(Cloth, None, Drawer)</td>\n",
       "      <td>411</td>\n",
       "      <td>2</td>\n",
       "      <td>(pick_clean_then_place_in_recep, Cloth, None, ...</td>\n",
       "      <td>7</td>\n",
       "      <td>27</td>\n",
       "      <td>(GotoLocation, drawer)</td>\n",
       "    </tr>\n",
       "    <tr>\n",
       "      <th>162304</th>\n",
       "      <td>PutObject</td>\n",
       "      <td>(cloth, drawer)</td>\n",
       "      <td>pick_clean_then_place_in_recep-Cloth-None-Draw...</td>\n",
       "      <td>pick_clean_then_place_in_recep</td>\n",
       "      <td>(Cloth, None, Drawer)</td>\n",
       "      <td>411</td>\n",
       "      <td>2</td>\n",
       "      <td>(pick_clean_then_place_in_recep, Cloth, None, ...</td>\n",
       "      <td>7</td>\n",
       "      <td>27</td>\n",
       "      <td>(PutObject, cloth, drawer)</td>\n",
       "    </tr>\n",
       "    <tr>\n",
       "      <th>162305</th>\n",
       "      <td>NoOp</td>\n",
       "      <td>()</td>\n",
       "      <td>pick_clean_then_place_in_recep-Cloth-None-Draw...</td>\n",
       "      <td>pick_clean_then_place_in_recep</td>\n",
       "      <td>(Cloth, None, Drawer)</td>\n",
       "      <td>411</td>\n",
       "      <td>2</td>\n",
       "      <td>(pick_clean_then_place_in_recep, Cloth, None, ...</td>\n",
       "      <td>7</td>\n",
       "      <td>27</td>\n",
       "      <td>(NoOp,)</td>\n",
       "    </tr>\n",
       "  </tbody>\n",
       "</table>\n",
       "<p>162306 rows × 11 columns</p>\n",
       "</div>"
      ],
      "text/plain": [
       "              action             args  \\\n",
       "0       GotoLocation   (diningtable,)   \n",
       "1       PickupObject         (knife,)   \n",
       "2        SliceObject       (lettuce,)   \n",
       "3       GotoLocation        (fridge,)   \n",
       "4          PutObject  (knife, fridge)   \n",
       "...              ...              ...   \n",
       "162301  GotoLocation     (sinkbasin,)   \n",
       "162302   CleanObject         (cloth,)   \n",
       "162303  GotoLocation        (drawer,)   \n",
       "162304     PutObject  (cloth, drawer)   \n",
       "162305          NoOp               ()   \n",
       "\n",
       "                                                     path  \\\n",
       "0       pick_cool_then_place_in_recep-LettuceSliced-No...   \n",
       "1       pick_cool_then_place_in_recep-LettuceSliced-No...   \n",
       "2       pick_cool_then_place_in_recep-LettuceSliced-No...   \n",
       "3       pick_cool_then_place_in_recep-LettuceSliced-No...   \n",
       "4       pick_cool_then_place_in_recep-LettuceSliced-No...   \n",
       "...                                                   ...   \n",
       "162301  pick_clean_then_place_in_recep-Cloth-None-Draw...   \n",
       "162302  pick_clean_then_place_in_recep-Cloth-None-Draw...   \n",
       "162303  pick_clean_then_place_in_recep-Cloth-None-Draw...   \n",
       "162304  pick_clean_then_place_in_recep-Cloth-None-Draw...   \n",
       "162305  pick_clean_then_place_in_recep-Cloth-None-Draw...   \n",
       "\n",
       "                       high_level_task                   high_level_params  \\\n",
       "0        pick_cool_then_place_in_recep  (LettuceSliced, None, DiningTable)   \n",
       "1        pick_cool_then_place_in_recep  (LettuceSliced, None, DiningTable)   \n",
       "2        pick_cool_then_place_in_recep  (LettuceSliced, None, DiningTable)   \n",
       "3        pick_cool_then_place_in_recep  (LettuceSliced, None, DiningTable)   \n",
       "4        pick_cool_then_place_in_recep  (LettuceSliced, None, DiningTable)   \n",
       "...                                ...                                 ...   \n",
       "162301  pick_clean_then_place_in_recep               (Cloth, None, Drawer)   \n",
       "162302  pick_clean_then_place_in_recep               (Cloth, None, Drawer)   \n",
       "162303  pick_clean_then_place_in_recep               (Cloth, None, Drawer)   \n",
       "162304  pick_clean_then_place_in_recep               (Cloth, None, Drawer)   \n",
       "162305  pick_clean_then_place_in_recep               (Cloth, None, Drawer)   \n",
       "\n",
       "        scene  repeat_idx                         high_level_task_and_params  \\\n",
       "0          17           0  (pick_cool_then_place_in_recep, LettuceSliced,...   \n",
       "1          17           0  (pick_cool_then_place_in_recep, LettuceSliced,...   \n",
       "2          17           0  (pick_cool_then_place_in_recep, LettuceSliced,...   \n",
       "3          17           0  (pick_cool_then_place_in_recep, LettuceSliced,...   \n",
       "4          17           0  (pick_cool_then_place_in_recep, LettuceSliced,...   \n",
       "...       ...         ...                                                ...   \n",
       "162301    411           2  (pick_clean_then_place_in_recep, Cloth, None, ...   \n",
       "162302    411           2  (pick_clean_then_place_in_recep, Cloth, None, ...   \n",
       "162303    411           2  (pick_clean_then_place_in_recep, Cloth, None, ...   \n",
       "162304    411           2  (pick_clean_then_place_in_recep, Cloth, None, ...   \n",
       "162305    411           2  (pick_clean_then_place_in_recep, Cloth, None, ...   \n",
       "\n",
       "        num_high_level_actions  num_low_level_actions  \\\n",
       "0                           12                     67   \n",
       "1                           12                     67   \n",
       "2                           12                     67   \n",
       "3                           12                     67   \n",
       "4                           12                     67   \n",
       "...                        ...                    ...   \n",
       "162301                       7                     27   \n",
       "162302                       7                     27   \n",
       "162303                       7                     27   \n",
       "162304                       7                     27   \n",
       "162305                       7                     27   \n",
       "\n",
       "                    action_and_args  \n",
       "0       (GotoLocation, diningtable)  \n",
       "1             (PickupObject, knife)  \n",
       "2            (SliceObject, lettuce)  \n",
       "3            (GotoLocation, fridge)  \n",
       "4        (PutObject, knife, fridge)  \n",
       "...                             ...  \n",
       "162301    (GotoLocation, sinkbasin)  \n",
       "162302         (CleanObject, cloth)  \n",
       "162303       (GotoLocation, drawer)  \n",
       "162304   (PutObject, cloth, drawer)  \n",
       "162305                      (NoOp,)  \n",
       "\n",
       "[162306 rows x 11 columns]"
      ]
     },
     "execution_count": 29,
     "metadata": {},
     "output_type": "execute_result"
    }
   ],
   "source": [
    "train_df"
   ]
  },
  {
   "cell_type": "code",
   "execution_count": 30,
   "metadata": {},
   "outputs": [],
   "source": [
    "def display_jaccard(set1, set2):\n",
    "    num = len(set1 & set2)\n",
    "    denom = len(set1 | set2)\n",
    "    print(\"\\tin 1st       : {}\".format(len(set1)))\n",
    "    print(\"\\tin 1st \\\\ 2nd : {}\".format(len(set1 - set2)))\n",
    "    print(\"\\tin 2nd       : {}\".format(len(set2)))\n",
    "    print(\"\\tin 2nd \\\\ 1st : {}\".format(len(set2 - set1)))\n",
    "    print(\"\\tjaccard\\t{} / {} = {:.2f}\".format(num, denom, float(num) / denom))"
   ]
  },
  {
   "cell_type": "code",
   "execution_count": 31,
   "metadata": {},
   "outputs": [
    {
     "name": "stdout",
     "output_type": "stream",
     "text": [
      "\tin 1st       : 933\n",
      "\tin 1st \\ 2nd : 732\n",
      "\tin 2nd       : 201\n",
      "\tin 2nd \\ 1st : 0\n",
      "\tjaccard\t201 / 933 = 0.22\n"
     ]
    }
   ],
   "source": [
    "display_jaccard(set(train_df['high_level_task_and_params']), set(valid_seen_df['high_level_task_and_params']))"
   ]
  },
  {
   "cell_type": "markdown",
   "metadata": {},
   "source": [
    "# held-out tasks"
   ]
  },
  {
   "cell_type": "code",
   "execution_count": 32,
   "metadata": {},
   "outputs": [],
   "source": [
    "# train"
   ]
  },
  {
   "cell_type": "code",
   "execution_count": 33,
   "metadata": {},
   "outputs": [],
   "source": [
    "def pick_two(task):\n",
    "    return task['task'].split('-')[0] == 'pick_two_obj_and_place'"
   ]
  },
  {
   "cell_type": "code",
   "execution_count": 34,
   "metadata": {},
   "outputs": [],
   "source": [
    "def pick_place_movable(task):\n",
    "    return task['task'].split('-')[0] == 'pick_and_place_with_movable_recep'"
   ]
  },
  {
   "cell_type": "code",
   "execution_count": 35,
   "metadata": {},
   "outputs": [
    {
     "data": {
      "text/plain": [
       "3554"
      ]
     },
     "execution_count": 35,
     "metadata": {},
     "output_type": "execute_result"
    }
   ],
   "source": [
    "len([t for t in train if pick_two(t)])"
   ]
  },
  {
   "cell_type": "code",
   "execution_count": 36,
   "metadata": {},
   "outputs": [
    {
     "data": {
      "text/plain": [
       "3244"
      ]
     },
     "execution_count": 36,
     "metadata": {},
     "output_type": "execute_result"
    }
   ],
   "source": [
    "len([t for t in train if pick_place_movable(t)])"
   ]
  },
  {
   "cell_type": "code",
   "execution_count": 37,
   "metadata": {},
   "outputs": [
    {
     "name": "stdout",
     "output_type": "stream",
     "text": [
      "pick 2\n",
      "train: 17469 / 21023\n",
      "valid_seen: 124 / 820\n",
      "valid_unseen: 81 / 821\n",
      "tests_seen: 0 / 1533\n",
      "tests_unseen: 0 / 1529\n"
     ]
    }
   ],
   "source": [
    "train_pick_2 = [d for d in train if not pick_two(d)]\n",
    "valid_seen_pick_2 = [d for d in valid_seen if pick_two(d)]\n",
    "valid_unseen_pick_2 = [d for d in valid_unseen if pick_two(d)]\n",
    "tests_seen_pick_2 = []\n",
    "tests_unseen_pick_2 = []\n",
    "\n",
    "print(\"pick 2\")\n",
    "print(\"train: {} / {}\".format(len(train_pick_2), len(train)))\n",
    "print(\"valid_seen: {} / {}\".format(len(valid_seen_pick_2), len(valid_seen)))\n",
    "print(\"valid_unseen: {} / {}\".format(len(valid_unseen_pick_2), len(valid_unseen)))\n",
    "print(\"tests_seen: {} / {}\".format(len(tests_seen_pick_2), len(tests_seen)))\n",
    "print(\"tests_unseen: {} / {}\".format(len(tests_unseen_pick_2), len(tests_unseen)))"
   ]
  },
  {
   "cell_type": "code",
   "execution_count": 38,
   "metadata": {},
   "outputs": [],
   "source": [
    "# with open('data/splits/pick_2.json', 'w') as f:\n",
    "#     json.dump({\n",
    "#         'train': train_pick_2,\n",
    "#         'valid_seen': valid_seen_pick_2,\n",
    "#         'valid_unseen': valid_unseen_pick_2,\n",
    "#         'tests_seen': tests_seen_pick_2,\n",
    "#         'tests_unseen': tests_unseen_pick_2,\n",
    "#     }, f)"
   ]
  },
  {
   "cell_type": "code",
   "execution_count": 39,
   "metadata": {},
   "outputs": [
    {
     "name": "stdout",
     "output_type": "stream",
     "text": [
      "movable\n",
      "train: 17779 / 21023\n",
      "valid_seen: 115 / 820\n",
      "valid_unseen: 109 / 821\n"
     ]
    }
   ],
   "source": [
    "train_movable = [d for d in train if not pick_place_movable(d)]\n",
    "valid_seen_movable = [d for d in valid_seen if pick_place_movable(d)]\n",
    "valid_unseen_movable = [d for d in valid_unseen if pick_place_movable(d)]\n",
    "tests_seen_movable = []\n",
    "tests_unseen_movable = []\n",
    "\n",
    "print(\"movable\")\n",
    "print(\"train: {} / {}\".format(len(train_movable), len(train)))\n",
    "print(\"valid_seen: {} / {}\".format(len(valid_seen_movable), len(valid_seen)))\n",
    "print(\"valid_unseen: {} / {}\".format(len(valid_unseen_movable), len(valid_unseen)))"
   ]
  },
  {
   "cell_type": "code",
   "execution_count": 40,
   "metadata": {},
   "outputs": [],
   "source": [
    "# with open('data/splits/movable.json', 'w') as f:\n",
    "#     json.dump({\n",
    "#         'train': train_movable,\n",
    "#         'valid_seen': valid_seen_movable,\n",
    "#         'valid_unseen': valid_unseen_movable,\n",
    "#         'tests_seen': tests_seen_movable,\n",
    "#         'tests_unseen': tests_unseen_movable,\n",
    "#     }, f)"
   ]
  },
  {
   "cell_type": "code",
   "execution_count": 41,
   "metadata": {},
   "outputs": [
    {
     "data": {
      "application/vnd.jupyter.widget-view+json": {
       "model_id": "1de3aadf684d4bebb1c41418b135dd29",
       "version_major": 2,
       "version_minor": 0
      },
      "text/plain": [
       "HBox(children=(FloatProgress(value=0.0, max=17469.0), HTML(value='')))"
      ]
     },
     "metadata": {},
     "output_type": "display_data"
    },
    {
     "name": "stdout",
     "output_type": "stream",
     "text": [
      "\n",
      "max number of segments: 15\n",
      "avg number of segments: 7.428473295552121\n",
      "std dev number of segments: 2.5872808901274755\n",
      "max segment length: 62\n",
      "avg segment length: 7.428473295552121\n",
      "avg segment length: 10.79227544541027\n",
      "avg total lengths: 80.17012994447306\n",
      "std dev total lengths: 37.37539059579396\n"
     ]
    }
   ],
   "source": [
    "_ = get_segment_stats(train_pick_2)"
   ]
  },
  {
   "cell_type": "code",
   "execution_count": 42,
   "metadata": {},
   "outputs": [
    {
     "data": {
      "application/vnd.jupyter.widget-view+json": {
       "model_id": "e92f197226a2494fb74292eefe28b99b",
       "version_major": 2,
       "version_minor": 0
      },
      "text/plain": [
       "HBox(children=(FloatProgress(value=0.0, max=124.0), HTML(value='')))"
      ]
     },
     "metadata": {},
     "output_type": "display_data"
    },
    {
     "name": "stdout",
     "output_type": "stream",
     "text": [
      "\n",
      "max number of segments: 17\n",
      "avg number of segments: 9.387096774193548\n",
      "std dev number of segments: 1.7166625413742027\n",
      "max segment length: 48\n",
      "avg segment length: 9.387096774193548\n",
      "avg segment length: 11.584192439862543\n",
      "avg total lengths: 108.74193548387096\n",
      "std dev total lengths: 41.174074008378746\n"
     ]
    }
   ],
   "source": [
    "_= get_segment_stats(valid_seen_pick_2)"
   ]
  },
  {
   "cell_type": "code",
   "execution_count": 43,
   "metadata": {},
   "outputs": [
    {
     "data": {
      "application/vnd.jupyter.widget-view+json": {
       "model_id": "f6cff18b196d4705ae21613cb69d55ad",
       "version_major": 2,
       "version_minor": 0
      },
      "text/plain": [
       "HBox(children=(FloatProgress(value=0.0, max=17469.0), HTML(value='')))"
      ]
     },
     "metadata": {},
     "output_type": "display_data"
    },
    {
     "name": "stdout",
     "output_type": "stream",
     "text": [
      "\n"
     ]
    }
   ],
   "source": [
    "train_pick_2_df = build_data_frame(train_pick_2)"
   ]
  },
  {
   "cell_type": "code",
   "execution_count": 44,
   "metadata": {},
   "outputs": [
    {
     "data": {
      "application/vnd.jupyter.widget-view+json": {
       "model_id": "9baad7659dd242f49bd5c429bf8011af",
       "version_major": 2,
       "version_minor": 0
      },
      "text/plain": [
       "HBox(children=(FloatProgress(value=0.0, max=124.0), HTML(value='')))"
      ]
     },
     "metadata": {},
     "output_type": "display_data"
    },
    {
     "name": "stdout",
     "output_type": "stream",
     "text": [
      "\n"
     ]
    }
   ],
   "source": [
    "\n",
    "valid_seen_pick_2_df = build_data_frame(valid_seen_pick_2)"
   ]
  },
  {
   "cell_type": "code",
   "execution_count": 45,
   "metadata": {},
   "outputs": [
    {
     "data": {
      "application/vnd.jupyter.widget-view+json": {
       "model_id": "ee55940357d541fca5a636e24ae3f670",
       "version_major": 2,
       "version_minor": 0
      },
      "text/plain": [
       "HBox(children=(FloatProgress(value=0.0, max=17469.0), HTML(value='')))"
      ]
     },
     "metadata": {},
     "output_type": "display_data"
    },
    {
     "name": "stdout",
     "output_type": "stream",
     "text": [
      "\n"
     ]
    }
   ],
   "source": [
    "train_pick_2_actions_counter = Counter(\n",
    "    tuple(d['action'] for d in acs)\n",
    "    for acs in get_high_level_actions(train_pick_2)\n",
    ")"
   ]
  },
  {
   "cell_type": "code",
   "execution_count": 46,
   "metadata": {},
   "outputs": [
    {
     "data": {
      "application/vnd.jupyter.widget-view+json": {
       "model_id": "3e7bfb4f7d524ff6a6769b0530b6ae18",
       "version_major": 2,
       "version_minor": 0
      },
      "text/plain": [
       "HBox(children=(FloatProgress(value=0.0, max=124.0), HTML(value='')))"
      ]
     },
     "metadata": {},
     "output_type": "display_data"
    },
    {
     "name": "stdout",
     "output_type": "stream",
     "text": [
      "\n"
     ]
    }
   ],
   "source": [
    "valid_seen_pick_2_actions_counter = Counter(\n",
    "    tuple(d['action'] for d in acs)\n",
    "    for acs in get_high_level_actions(valid_seen_pick_2)\n",
    ")"
   ]
  },
  {
   "cell_type": "code",
   "execution_count": 47,
   "metadata": {},
   "outputs": [
    {
     "data": {
      "text/plain": [
       "Counter({('GotoLocation',\n",
       "          'PickupObject',\n",
       "          'SliceObject',\n",
       "          'GotoLocation',\n",
       "          'PutObject',\n",
       "          'GotoLocation',\n",
       "          'PickupObject',\n",
       "          'GotoLocation',\n",
       "          'CoolObject',\n",
       "          'GotoLocation',\n",
       "          'PutObject',\n",
       "          'NoOp'): 73,\n",
       "         ('GotoLocation',\n",
       "          'PickupObject',\n",
       "          'GotoLocation',\n",
       "          'HeatObject',\n",
       "          'GotoLocation',\n",
       "          'PutObject',\n",
       "          'NoOp'): 1764,\n",
       "         ('GotoLocation',\n",
       "          'PickupObject',\n",
       "          'GotoLocation',\n",
       "          'CleanObject',\n",
       "          'GotoLocation',\n",
       "          'PutObject',\n",
       "          'NoOp'): 2483,\n",
       "         ('GotoLocation',\n",
       "          'PickupObject',\n",
       "          'GotoLocation',\n",
       "          'PutObject',\n",
       "          'NoOp'): 3181,\n",
       "         ('GotoLocation',\n",
       "          'PickupObject',\n",
       "          'GotoLocation',\n",
       "          'SliceObject',\n",
       "          'GotoLocation',\n",
       "          'PutObject',\n",
       "          'GotoLocation',\n",
       "          'PickupObject',\n",
       "          'GotoLocation',\n",
       "          'CoolObject',\n",
       "          'GotoLocation',\n",
       "          'PutObject',\n",
       "          'NoOp'): 598,\n",
       "         ('GotoLocation',\n",
       "          'PickupObject',\n",
       "          'GotoLocation',\n",
       "          'CoolObject',\n",
       "          'GotoLocation',\n",
       "          'PutObject',\n",
       "          'NoOp'): 2117,\n",
       "         ('GotoLocation',\n",
       "          'PickupObject',\n",
       "          'GotoLocation',\n",
       "          'PutObject',\n",
       "          'PickupObject',\n",
       "          'GotoLocation',\n",
       "          'PutObject',\n",
       "          'NoOp'): 2287,\n",
       "         ('GotoLocation',\n",
       "          'PickupObject',\n",
       "          'GotoLocation',\n",
       "          'ToggleObject',\n",
       "          'NoOp'): 2179,\n",
       "         ('GotoLocation',\n",
       "          'PickupObject',\n",
       "          'GotoLocation',\n",
       "          'SliceObject',\n",
       "          'GotoLocation',\n",
       "          'PutObject',\n",
       "          'GotoLocation',\n",
       "          'PickupObject',\n",
       "          'GotoLocation',\n",
       "          'HeatObject',\n",
       "          'GotoLocation',\n",
       "          'PutObject',\n",
       "          'NoOp'): 792,\n",
       "         ('GotoLocation',\n",
       "          'PickupObject',\n",
       "          'PutObject',\n",
       "          'PickupObject',\n",
       "          'GotoLocation',\n",
       "          'PutObject',\n",
       "          'NoOp'): 202,\n",
       "         ('GotoLocation',\n",
       "          'PickupObject',\n",
       "          'GotoLocation',\n",
       "          'SliceObject',\n",
       "          'GotoLocation',\n",
       "          'PutObject',\n",
       "          'PickupObject',\n",
       "          'GotoLocation',\n",
       "          'PutObject',\n",
       "          'GotoLocation',\n",
       "          'PickupObject',\n",
       "          'GotoLocation',\n",
       "          'PutObject',\n",
       "          'NoOp'): 12,\n",
       "         ('GotoLocation',\n",
       "          'PickupObject',\n",
       "          'GotoLocation',\n",
       "          'SliceObject',\n",
       "          'GotoLocation',\n",
       "          'PutObject',\n",
       "          'GotoLocation',\n",
       "          'PickupObject',\n",
       "          'GotoLocation',\n",
       "          'CleanObject',\n",
       "          'GotoLocation',\n",
       "          'PutObject',\n",
       "          'NoOp'): 239,\n",
       "         ('GotoLocation',\n",
       "          'PickupObject',\n",
       "          'GotoLocation',\n",
       "          'SliceObject',\n",
       "          'PutObject',\n",
       "          'PickupObject',\n",
       "          'GotoLocation',\n",
       "          'HeatObject',\n",
       "          'GotoLocation',\n",
       "          'PutObject',\n",
       "          'NoOp'): 179,\n",
       "         ('GotoLocation',\n",
       "          'PickupObject',\n",
       "          'GotoLocation',\n",
       "          'SliceObject',\n",
       "          'GotoLocation',\n",
       "          'PutObject',\n",
       "          'GotoLocation',\n",
       "          'PickupObject',\n",
       "          'GotoLocation',\n",
       "          'PutObject',\n",
       "          'PickupObject',\n",
       "          'GotoLocation',\n",
       "          'PutObject',\n",
       "          'NoOp'): 291,\n",
       "         ('GotoLocation', 'ToggleObject', 'PickupObject', 'NoOp'): 72,\n",
       "         ('GotoLocation',\n",
       "          'PickupObject',\n",
       "          'SliceObject',\n",
       "          'GotoLocation',\n",
       "          'PutObject',\n",
       "          'GotoLocation',\n",
       "          'PickupObject',\n",
       "          'GotoLocation',\n",
       "          'HeatObject',\n",
       "          'GotoLocation',\n",
       "          'PutObject',\n",
       "          'NoOp'): 117,\n",
       "         ('GotoLocation',\n",
       "          'PickupObject',\n",
       "          'SliceObject',\n",
       "          'GotoLocation',\n",
       "          'PutObject',\n",
       "          'GotoLocation',\n",
       "          'PickupObject',\n",
       "          'GotoLocation',\n",
       "          'CleanObject',\n",
       "          'GotoLocation',\n",
       "          'PutObject',\n",
       "          'NoOp'): 19,\n",
       "         ('GotoLocation', 'PickupObject', 'PutObject', 'NoOp'): 24,\n",
       "         ('GotoLocation',\n",
       "          'PickupObject',\n",
       "          'GotoLocation',\n",
       "          'PutObject',\n",
       "          'GotoLocation',\n",
       "          'PickupObject',\n",
       "          'GotoLocation',\n",
       "          'SliceObject',\n",
       "          'PutObject',\n",
       "          'PickupObject',\n",
       "          'GotoLocation',\n",
       "          'PutObject',\n",
       "          'NoOp'): 18,\n",
       "         ('GotoLocation',\n",
       "          'PickupObject',\n",
       "          'GotoLocation',\n",
       "          'PutObject',\n",
       "          'PickupObject',\n",
       "          'SliceObject',\n",
       "          'PutObject',\n",
       "          'PickupObject',\n",
       "          'GotoLocation',\n",
       "          'CoolObject',\n",
       "          'GotoLocation',\n",
       "          'PutObject',\n",
       "          'NoOp'): 23,\n",
       "         ('GotoLocation',\n",
       "          'PickupObject',\n",
       "          'SliceObject',\n",
       "          'GotoLocation',\n",
       "          'PutObject',\n",
       "          'GotoLocation',\n",
       "          'PickupObject',\n",
       "          'GotoLocation',\n",
       "          'PutObject',\n",
       "          'PickupObject',\n",
       "          'GotoLocation',\n",
       "          'PutObject',\n",
       "          'NoOp'): 47,\n",
       "         ('GotoLocation',\n",
       "          'PickupObject',\n",
       "          'GotoLocation',\n",
       "          'PutObject',\n",
       "          'PickupObject',\n",
       "          'SliceObject',\n",
       "          'PutObject',\n",
       "          'PickupObject',\n",
       "          'GotoLocation',\n",
       "          'HeatObject',\n",
       "          'GotoLocation',\n",
       "          'PutObject',\n",
       "          'NoOp'): 48,\n",
       "         ('GotoLocation',\n",
       "          'PickupObject',\n",
       "          'GotoLocation',\n",
       "          'PutObject',\n",
       "          'PickupObject',\n",
       "          'PutObject',\n",
       "          'NoOp'): 132,\n",
       "         ('GotoLocation',\n",
       "          'PickupObject',\n",
       "          'GotoLocation',\n",
       "          'PutObject',\n",
       "          'PickupObject',\n",
       "          'SliceObject',\n",
       "          'PutObject',\n",
       "          'PickupObject',\n",
       "          'GotoLocation',\n",
       "          'PutObject',\n",
       "          'PickupObject',\n",
       "          'GotoLocation',\n",
       "          'PutObject',\n",
       "          'NoOp'): 13,\n",
       "         ('GotoLocation',\n",
       "          'PickupObject',\n",
       "          'GotoLocation',\n",
       "          'SliceObject',\n",
       "          'GotoLocation',\n",
       "          'PutObject',\n",
       "          'GotoLocation',\n",
       "          'PickupObject',\n",
       "          'GotoLocation',\n",
       "          'PutObject',\n",
       "          'NoOp'): 21,\n",
       "         ('GotoLocation',\n",
       "          'PickupObject',\n",
       "          'GotoLocation',\n",
       "          'SliceObject',\n",
       "          'NoOp'): 45,\n",
       "         ('GotoLocation',\n",
       "          'PickupObject',\n",
       "          'GotoLocation',\n",
       "          'SliceObject',\n",
       "          'PutObject',\n",
       "          'PickupObject',\n",
       "          'GotoLocation',\n",
       "          'CoolObject',\n",
       "          'GotoLocation',\n",
       "          'PutObject',\n",
       "          'NoOp'): 107,\n",
       "         ('GotoLocation',\n",
       "          'PickupObject',\n",
       "          'CleanObject',\n",
       "          'GotoLocation',\n",
       "          'PutObject',\n",
       "          'NoOp'): 54,\n",
       "         ('GotoLocation',\n",
       "          'PickupObject',\n",
       "          'GotoLocation',\n",
       "          'PutObject',\n",
       "          'GotoLocation',\n",
       "          'PickupObject',\n",
       "          'GotoLocation',\n",
       "          'PutObject',\n",
       "          'NoOp'): 48,\n",
       "         ('GotoLocation',\n",
       "          'PickupObject',\n",
       "          'GotoLocation',\n",
       "          'SliceObject',\n",
       "          'PutObject',\n",
       "          'PickupObject',\n",
       "          'GotoLocation',\n",
       "          'PutObject',\n",
       "          'PickupObject',\n",
       "          'GotoLocation',\n",
       "          'PutObject',\n",
       "          'NoOp'): 95,\n",
       "         ('GotoLocation',\n",
       "          'PickupObject',\n",
       "          'SliceObject',\n",
       "          'PutObject',\n",
       "          'PickupObject',\n",
       "          'GotoLocation',\n",
       "          'PutObject',\n",
       "          'PickupObject',\n",
       "          'GotoLocation',\n",
       "          'PutObject',\n",
       "          'NoOp'): 9,\n",
       "         ('GotoLocation',\n",
       "          'PickupObject',\n",
       "          'GotoLocation',\n",
       "          'PutObject',\n",
       "          'PickupObject',\n",
       "          'GotoLocation',\n",
       "          'SliceObject',\n",
       "          'GotoLocation',\n",
       "          'PutObject',\n",
       "          'GotoLocation',\n",
       "          'PickupObject',\n",
       "          'GotoLocation',\n",
       "          'PutObject',\n",
       "          'NoOp'): 3,\n",
       "         ('GotoLocation',\n",
       "          'PickupObject',\n",
       "          'GotoLocation',\n",
       "          'PutObject',\n",
       "          'GotoLocation',\n",
       "          'PickupObject',\n",
       "          'GotoLocation',\n",
       "          'SliceObject',\n",
       "          'NoOp'): 10,\n",
       "         ('GotoLocation', 'PickupObject', 'SliceObject', 'NoOp'): 9,\n",
       "         ('GotoLocation',\n",
       "          'PickupObject',\n",
       "          'GotoLocation',\n",
       "          'SliceObject',\n",
       "          'PutObject',\n",
       "          'PickupObject',\n",
       "          'GotoLocation',\n",
       "          'CleanObject',\n",
       "          'GotoLocation',\n",
       "          'PutObject',\n",
       "          'NoOp'): 30,\n",
       "         ('GotoLocation',\n",
       "          'PickupObject',\n",
       "          'SliceObject',\n",
       "          'PutObject',\n",
       "          'PickupObject',\n",
       "          'GotoLocation',\n",
       "          'CoolObject',\n",
       "          'GotoLocation',\n",
       "          'HeatObject',\n",
       "          'GotoLocation',\n",
       "          'PutObject',\n",
       "          'NoOp'): 3,\n",
       "         ('GotoLocation',\n",
       "          'PickupObject',\n",
       "          'GotoLocation',\n",
       "          'PutObject',\n",
       "          'PickupObject',\n",
       "          'PutObject',\n",
       "          'GotoLocation',\n",
       "          'PickupObject',\n",
       "          'GotoLocation',\n",
       "          'SliceObject',\n",
       "          'NoOp'): 3,\n",
       "         ('GotoLocation',\n",
       "          'PickupObject',\n",
       "          'SliceObject',\n",
       "          'PutObject',\n",
       "          'PickupObject',\n",
       "          'GotoLocation',\n",
       "          'HeatObject',\n",
       "          'GotoLocation',\n",
       "          'PutObject',\n",
       "          'NoOp'): 21,\n",
       "         ('GotoLocation',\n",
       "          'PickupObject',\n",
       "          'GotoLocation',\n",
       "          'PutObject',\n",
       "          'GotoLocation',\n",
       "          'PickupObject',\n",
       "          'GotoLocation',\n",
       "          'SliceObject',\n",
       "          'PutObject',\n",
       "          'PickupObject',\n",
       "          'GotoLocation',\n",
       "          'HeatObject',\n",
       "          'GotoLocation',\n",
       "          'PutObject',\n",
       "          'NoOp'): 6,\n",
       "         ('GotoLocation',\n",
       "          'PickupObject',\n",
       "          'SliceObject',\n",
       "          'PutObject',\n",
       "          'PickupObject',\n",
       "          'GotoLocation',\n",
       "          'CoolObject',\n",
       "          'GotoLocation',\n",
       "          'PutObject',\n",
       "          'NoOp'): 26,\n",
       "         ('GotoLocation',\n",
       "          'PickupObject',\n",
       "          'GotoLocation',\n",
       "          'PutObject',\n",
       "          'GotoLocation',\n",
       "          'PickupObject',\n",
       "          'GotoLocation',\n",
       "          'PutObject',\n",
       "          'GotoLocation',\n",
       "          'PickupObject',\n",
       "          'GotoLocation',\n",
       "          'SliceObject',\n",
       "          'NoOp'): 15,\n",
       "         ('GotoLocation',\n",
       "          'PickupObject',\n",
       "          'GotoLocation',\n",
       "          'PutObject',\n",
       "          'GotoLocation',\n",
       "          'PickupObject',\n",
       "          'GotoLocation',\n",
       "          'PutObject',\n",
       "          'PickupObject',\n",
       "          'SliceObject',\n",
       "          'NoOp'): 3,\n",
       "         ('GotoLocation',\n",
       "          'PickupObject',\n",
       "          'GotoLocation',\n",
       "          'SliceObject',\n",
       "          'PutObject',\n",
       "          'PickupObject',\n",
       "          'HeatObject',\n",
       "          'GotoLocation',\n",
       "          'PutObject',\n",
       "          'NoOp'): 3,\n",
       "         ('GotoLocation',\n",
       "          'PickupObject',\n",
       "          'SliceObject',\n",
       "          'GotoLocation',\n",
       "          'SliceObject',\n",
       "          'PutObject',\n",
       "          'PickupObject',\n",
       "          'GotoLocation',\n",
       "          'HeatObject',\n",
       "          'GotoLocation',\n",
       "          'PutObject',\n",
       "          'NoOp'): 4,\n",
       "         ('GotoLocation',\n",
       "          'PickupObject',\n",
       "          'HeatObject',\n",
       "          'GotoLocation',\n",
       "          'PutObject',\n",
       "          'NoOp'): 6,\n",
       "         ('GotoLocation',\n",
       "          'PickupObject',\n",
       "          'SliceObject',\n",
       "          'PutObject',\n",
       "          'PickupObject',\n",
       "          'GotoLocation',\n",
       "          'CleanObject',\n",
       "          'GotoLocation',\n",
       "          'PutObject',\n",
       "          'NoOp'): 6,\n",
       "         ('GotoLocation',\n",
       "          'PickupObject',\n",
       "          'GotoLocation',\n",
       "          'PutObject',\n",
       "          'PickupObject',\n",
       "          'SliceObject',\n",
       "          'PutObject',\n",
       "          'PickupObject',\n",
       "          'GotoLocation',\n",
       "          'CleanObject',\n",
       "          'GotoLocation',\n",
       "          'PutObject',\n",
       "          'NoOp'): 3,\n",
       "         ('GotoLocation',\n",
       "          'PickupObject',\n",
       "          'GotoLocation',\n",
       "          'SliceObject',\n",
       "          'PutObject',\n",
       "          'GotoLocation',\n",
       "          'PickupObject',\n",
       "          'GotoLocation',\n",
       "          'PutObject',\n",
       "          'PickupObject',\n",
       "          'PutObject',\n",
       "          'NoOp'): 3,\n",
       "         ('GotoLocation',\n",
       "          'PickupObject',\n",
       "          'GotoLocation',\n",
       "          'PutObject',\n",
       "          'PickupObject',\n",
       "          'SliceObject',\n",
       "          'PutObject',\n",
       "          'PickupObject',\n",
       "          'CleanObject',\n",
       "          'GotoLocation',\n",
       "          'PutObject',\n",
       "          'NoOp'): 4,\n",
       "         ('GotoLocation',\n",
       "          'PickupObject',\n",
       "          'GotoLocation',\n",
       "          'PutObject',\n",
       "          'GotoLocation',\n",
       "          'PickupObject',\n",
       "          'GotoLocation',\n",
       "          'SliceObject',\n",
       "          'PutObject',\n",
       "          'PickupObject',\n",
       "          'GotoLocation',\n",
       "          'CleanObject',\n",
       "          'GotoLocation',\n",
       "          'PutObject',\n",
       "          'NoOp'): 4,\n",
       "         ('GotoLocation',\n",
       "          'PickupObject',\n",
       "          'GotoLocation',\n",
       "          'PutObject',\n",
       "          'PickupObject',\n",
       "          'GotoLocation',\n",
       "          'PutObject',\n",
       "          'GotoLocation',\n",
       "          'PickupObject',\n",
       "          'GotoLocation',\n",
       "          'SliceObject',\n",
       "          'NoOp'): 3,\n",
       "         ('GotoLocation',\n",
       "          'PickupObject',\n",
       "          'SliceObject',\n",
       "          'GotoLocation',\n",
       "          'PutObject',\n",
       "          'PickupObject',\n",
       "          'GotoLocation',\n",
       "          'PutObject',\n",
       "          'GotoLocation',\n",
       "          'PickupObject',\n",
       "          'GotoLocation',\n",
       "          'PutObject',\n",
       "          'NoOp'): 3,\n",
       "         ('GotoLocation',\n",
       "          'PickupObject',\n",
       "          'GotoLocation',\n",
       "          'PutObject',\n",
       "          'PickupObject',\n",
       "          'SliceObject',\n",
       "          'PutObject',\n",
       "          'PickupObject',\n",
       "          'GotoLocation',\n",
       "          'PutObject',\n",
       "          'NoOp'): 3,\n",
       "         ('GotoLocation',\n",
       "          'PickupObject',\n",
       "          'GotoLocation',\n",
       "          'PutObject',\n",
       "          'GotoLocation',\n",
       "          'PickupObject',\n",
       "          'SliceObject',\n",
       "          'PutObject',\n",
       "          'PickupObject',\n",
       "          'GotoLocation',\n",
       "          'PutObject',\n",
       "          'NoOp'): 6,\n",
       "         ('GotoLocation',\n",
       "          'PickupObject',\n",
       "          'PutObject',\n",
       "          'GotoLocation',\n",
       "          'PickupObject',\n",
       "          'GotoLocation',\n",
       "          'SliceObject',\n",
       "          'PutObject',\n",
       "          'PickupObject',\n",
       "          'GotoLocation',\n",
       "          'PutObject',\n",
       "          'NoOp'): 3})"
      ]
     },
     "execution_count": 47,
     "metadata": {},
     "output_type": "execute_result"
    }
   ],
   "source": [
    "train_pick_2_actions_counter"
   ]
  },
  {
   "cell_type": "code",
   "execution_count": 48,
   "metadata": {},
   "outputs": [
    {
     "data": {
      "text/plain": [
       "Counter({('GotoLocation',\n",
       "          'PickupObject',\n",
       "          'GotoLocation',\n",
       "          'PutObject',\n",
       "          'GotoLocation',\n",
       "          'PickupObject',\n",
       "          'GotoLocation',\n",
       "          'PutObject',\n",
       "          'NoOp'): 118,\n",
       "         ('GotoLocation',\n",
       "          'PickupObject',\n",
       "          'GotoLocation',\n",
       "          'PutObject',\n",
       "          'GotoLocation',\n",
       "          'PickupObject',\n",
       "          'GotoLocation',\n",
       "          'SliceObject',\n",
       "          'CoolObject',\n",
       "          'PutObject',\n",
       "          'GotoLocation',\n",
       "          'PickupObject',\n",
       "          'GotoLocation',\n",
       "          'PutObject',\n",
       "          'PickupObject',\n",
       "          'SliceObject',\n",
       "          'NoOp'): 6})"
      ]
     },
     "execution_count": 48,
     "metadata": {},
     "output_type": "execute_result"
    }
   ],
   "source": [
    "valid_seen_pick_2_actions_counter"
   ]
  },
  {
   "cell_type": "code",
   "execution_count": 49,
   "metadata": {},
   "outputs": [
    {
     "data": {
      "text/plain": [
       "Counter({('GotoLocation',\n",
       "          'PickupObject',\n",
       "          'GotoLocation',\n",
       "          'PutObject',\n",
       "          'GotoLocation',\n",
       "          'PickupObject',\n",
       "          'GotoLocation',\n",
       "          'SliceObject',\n",
       "          'CoolObject',\n",
       "          'PutObject',\n",
       "          'GotoLocation',\n",
       "          'PickupObject',\n",
       "          'GotoLocation',\n",
       "          'PutObject',\n",
       "          'PickupObject',\n",
       "          'SliceObject',\n",
       "          'NoOp'): 6})"
      ]
     },
     "execution_count": 49,
     "metadata": {},
     "output_type": "execute_result"
    }
   ],
   "source": [
    "# Pick-2 high-level action sequences that aren't in train\n",
    "Counter({\n",
    "    k: v for (k, v) in valid_seen_pick_2_actions_counter.items() \n",
    "    if k not in train_pick_2_actions_counter.keys()\n",
    "})"
   ]
  },
  {
   "cell_type": "code",
   "execution_count": 50,
   "metadata": {},
   "outputs": [],
   "source": [
    "# for task in train_pick_2:\n",
    "#     data = load_task_json(task)\n",
    "#     actions = extract_pddl_actions(data)\n",
    "#     acs = tuple(d['action'] for d in actions)\n",
    "#     if acs in valid_seen_pick_2_actions_counter:\n",
    "#         print(task)"
   ]
  },
  {
   "cell_type": "code",
   "execution_count": 51,
   "metadata": {},
   "outputs": [],
   "source": [
    "# MOVABLE"
   ]
  },
  {
   "cell_type": "code",
   "execution_count": 52,
   "metadata": {},
   "outputs": [
    {
     "data": {
      "application/vnd.jupyter.widget-view+json": {
       "model_id": "442c14bd7df7484db01824ea5575d302",
       "version_major": 2,
       "version_minor": 0
      },
      "text/plain": [
       "HBox(children=(FloatProgress(value=0.0, max=17779.0), HTML(value='')))"
      ]
     },
     "metadata": {},
     "output_type": "display_data"
    },
    {
     "name": "stdout",
     "output_type": "stream",
     "text": [
      "\n",
      "max number of segments: 20\n",
      "avg number of segments: 7.527649510079964\n",
      "std dev number of segments: 2.507247340582568\n",
      "max segment length: 62\n",
      "avg segment length: 7.527649510079964\n",
      "avg segment length: 10.872071276818577\n",
      "avg total lengths: 81.8411420204978\n",
      "std dev total lengths: 37.52063280537181\n"
     ]
    }
   ],
   "source": [
    "_ = get_segment_stats(train_movable)"
   ]
  },
  {
   "cell_type": "code",
   "execution_count": 53,
   "metadata": {},
   "outputs": [
    {
     "data": {
      "application/vnd.jupyter.widget-view+json": {
       "model_id": "bf38995ddf5c4f0fb4a95b947c80f136",
       "version_major": 2,
       "version_minor": 0
      },
      "text/plain": [
       "HBox(children=(FloatProgress(value=0.0, max=115.0), HTML(value='')))"
      ]
     },
     "metadata": {},
     "output_type": "display_data"
    },
    {
     "name": "stdout",
     "output_type": "stream",
     "text": [
      "\n",
      "max number of segments: 14\n",
      "avg number of segments: 9.278260869565218\n",
      "std dev number of segments: 2.531704447641537\n",
      "max segment length: 43\n",
      "avg segment length: 9.278260869565218\n",
      "avg segment length: 10.66447985004686\n",
      "avg total lengths: 98.94782608695652\n",
      "std dev total lengths: 39.485791275665306\n"
     ]
    }
   ],
   "source": [
    "_= get_segment_stats(valid_seen_movable)"
   ]
  },
  {
   "cell_type": "code",
   "execution_count": 54,
   "metadata": {},
   "outputs": [
    {
     "data": {
      "application/vnd.jupyter.widget-view+json": {
       "model_id": "1315d66c076d4e548d0fbbd2854ef0a3",
       "version_major": 2,
       "version_minor": 0
      },
      "text/plain": [
       "HBox(children=(FloatProgress(value=0.0, max=17779.0), HTML(value='')))"
      ]
     },
     "metadata": {},
     "output_type": "display_data"
    },
    {
     "name": "stdout",
     "output_type": "stream",
     "text": [
      "\n"
     ]
    }
   ],
   "source": [
    "train_movable_actions_counter = Counter(\n",
    "    tuple(d['action'] for d in acs)\n",
    "    for acs in get_high_level_actions(train_movable)\n",
    ")"
   ]
  },
  {
   "cell_type": "code",
   "execution_count": 55,
   "metadata": {},
   "outputs": [
    {
     "data": {
      "application/vnd.jupyter.widget-view+json": {
       "model_id": "8fca3a24256542e1b554b79553ff0e5d",
       "version_major": 2,
       "version_minor": 0
      },
      "text/plain": [
       "HBox(children=(FloatProgress(value=0.0, max=115.0), HTML(value='')))"
      ]
     },
     "metadata": {},
     "output_type": "display_data"
    },
    {
     "name": "stdout",
     "output_type": "stream",
     "text": [
      "\n"
     ]
    }
   ],
   "source": [
    "valid_seen_movable_actions_counter = Counter(\n",
    "    tuple(d['action'] for d in acs)\n",
    "    for acs in get_high_level_actions(valid_seen_movable)\n",
    ")"
   ]
  },
  {
   "cell_type": "code",
   "execution_count": 56,
   "metadata": {
    "scrolled": true
   },
   "outputs": [
    {
     "data": {
      "text/plain": [
       "Counter({('GotoLocation',\n",
       "          'PickupObject',\n",
       "          'GotoLocation',\n",
       "          'PutObject',\n",
       "          'PickupObject',\n",
       "          'GotoLocation',\n",
       "          'PutObject',\n",
       "          'NoOp'): 49,\n",
       "         ('GotoLocation',\n",
       "          'PickupObject',\n",
       "          'GotoLocation',\n",
       "          'SliceObject',\n",
       "          'PutObject',\n",
       "          'PickupObject',\n",
       "          'GotoLocation',\n",
       "          'PutObject',\n",
       "          'PickupObject',\n",
       "          'GotoLocation',\n",
       "          'PutObject',\n",
       "          'NoOp'): 14,\n",
       "         ('GotoLocation',\n",
       "          'PickupObject',\n",
       "          'PutObject',\n",
       "          'PickupObject',\n",
       "          'GotoLocation',\n",
       "          'PutObject',\n",
       "          'NoOp'): 12,\n",
       "         ('GotoLocation',\n",
       "          'PickupObject',\n",
       "          'GotoLocation',\n",
       "          'PutObject',\n",
       "          'PickupObject',\n",
       "          'PutObject',\n",
       "          'GotoLocation',\n",
       "          'PickupObject',\n",
       "          'GotoLocation',\n",
       "          'SliceObject',\n",
       "          'NoOp'): 3,\n",
       "         ('GotoLocation',\n",
       "          'PickupObject',\n",
       "          'GotoLocation',\n",
       "          'SliceObject',\n",
       "          'GotoLocation',\n",
       "          'PutObject',\n",
       "          'GotoLocation',\n",
       "          'PickupObject',\n",
       "          'GotoLocation',\n",
       "          'PutObject',\n",
       "          'PickupObject',\n",
       "          'GotoLocation',\n",
       "          'PutObject',\n",
       "          'NoOp'): 12,\n",
       "         ('GotoLocation',\n",
       "          'PickupObject',\n",
       "          'GotoLocation',\n",
       "          'PutObject',\n",
       "          'GotoLocation',\n",
       "          'PickupObject',\n",
       "          'GotoLocation',\n",
       "          'PutObject',\n",
       "          'GotoLocation',\n",
       "          'PickupObject',\n",
       "          'GotoLocation',\n",
       "          'SliceObject',\n",
       "          'NoOp'): 5,\n",
       "         ('GotoLocation',\n",
       "          'PickupObject',\n",
       "          'GotoLocation',\n",
       "          'PutObject',\n",
       "          'PickupObject',\n",
       "          'PutObject',\n",
       "          'NoOp'): 6,\n",
       "         ('GotoLocation',\n",
       "          'PickupObject',\n",
       "          'PutObject',\n",
       "          'GotoLocation',\n",
       "          'PickupObject',\n",
       "          'GotoLocation',\n",
       "          'PutObject',\n",
       "          'NoOp'): 3,\n",
       "         ('GotoLocation',\n",
       "          'PickupObject',\n",
       "          'SliceObject',\n",
       "          'PutObject',\n",
       "          'PickupObject',\n",
       "          'GotoLocation',\n",
       "          'PutObject',\n",
       "          'PickupObject',\n",
       "          'GotoLocation',\n",
       "          'PutObject',\n",
       "          'NoOp'): 6,\n",
       "         ('GotoLocation',\n",
       "          'PickupObject',\n",
       "          'GotoLocation',\n",
       "          'PutObject',\n",
       "          'NoOp'): 5})"
      ]
     },
     "execution_count": 56,
     "metadata": {},
     "output_type": "execute_result"
    }
   ],
   "source": [
    "valid_seen_movable_actions_counter"
   ]
  },
  {
   "cell_type": "code",
   "execution_count": 57,
   "metadata": {
    "scrolled": true
   },
   "outputs": [],
   "source": [
    "# for task in train_movable:\n",
    "#     data = load_task_json(task)\n",
    "#     actions = extract_pddl_actions(data)\n",
    "#     acs = tuple(d['action'] for d in actions)\n",
    "#     if acs in valid_seen_movable_actions_counter:\n",
    "#         print(task)"
   ]
  },
  {
   "cell_type": "code",
   "execution_count": 58,
   "metadata": {
    "scrolled": true
   },
   "outputs": [
    {
     "data": {
      "text/plain": [
       "Counter({('GotoLocation',\n",
       "          'PickupObject',\n",
       "          'GotoLocation',\n",
       "          'PutObject',\n",
       "          'PickupObject',\n",
       "          'GotoLocation',\n",
       "          'PutObject',\n",
       "          'NoOp'): 49,\n",
       "         ('GotoLocation',\n",
       "          'PickupObject',\n",
       "          'GotoLocation',\n",
       "          'SliceObject',\n",
       "          'PutObject',\n",
       "          'PickupObject',\n",
       "          'GotoLocation',\n",
       "          'PutObject',\n",
       "          'PickupObject',\n",
       "          'GotoLocation',\n",
       "          'PutObject',\n",
       "          'NoOp'): 14,\n",
       "         ('GotoLocation',\n",
       "          'PickupObject',\n",
       "          'PutObject',\n",
       "          'PickupObject',\n",
       "          'GotoLocation',\n",
       "          'PutObject',\n",
       "          'NoOp'): 12,\n",
       "         ('GotoLocation',\n",
       "          'PickupObject',\n",
       "          'GotoLocation',\n",
       "          'PutObject',\n",
       "          'PickupObject',\n",
       "          'PutObject',\n",
       "          'GotoLocation',\n",
       "          'PickupObject',\n",
       "          'GotoLocation',\n",
       "          'SliceObject',\n",
       "          'NoOp'): 3,\n",
       "         ('GotoLocation',\n",
       "          'PickupObject',\n",
       "          'GotoLocation',\n",
       "          'SliceObject',\n",
       "          'GotoLocation',\n",
       "          'PutObject',\n",
       "          'GotoLocation',\n",
       "          'PickupObject',\n",
       "          'GotoLocation',\n",
       "          'PutObject',\n",
       "          'PickupObject',\n",
       "          'GotoLocation',\n",
       "          'PutObject',\n",
       "          'NoOp'): 12,\n",
       "         ('GotoLocation',\n",
       "          'PickupObject',\n",
       "          'GotoLocation',\n",
       "          'PutObject',\n",
       "          'GotoLocation',\n",
       "          'PickupObject',\n",
       "          'GotoLocation',\n",
       "          'PutObject',\n",
       "          'GotoLocation',\n",
       "          'PickupObject',\n",
       "          'GotoLocation',\n",
       "          'SliceObject',\n",
       "          'NoOp'): 5,\n",
       "         ('GotoLocation',\n",
       "          'PickupObject',\n",
       "          'PutObject',\n",
       "          'GotoLocation',\n",
       "          'PickupObject',\n",
       "          'GotoLocation',\n",
       "          'PutObject',\n",
       "          'NoOp'): 3,\n",
       "         ('GotoLocation',\n",
       "          'PickupObject',\n",
       "          'SliceObject',\n",
       "          'PutObject',\n",
       "          'PickupObject',\n",
       "          'GotoLocation',\n",
       "          'PutObject',\n",
       "          'PickupObject',\n",
       "          'GotoLocation',\n",
       "          'PutObject',\n",
       "          'NoOp'): 6})"
      ]
     },
     "execution_count": 58,
     "metadata": {},
     "output_type": "execute_result"
    }
   ],
   "source": [
    "# Movable high-level action sequences that aren't in train\n",
    "Counter({\n",
    "    k: v for (k, v) in valid_seen_movable_actions_counter.items() \n",
    "    if k not in train_movable_actions_counter.keys()\n",
    "})"
   ]
  },
  {
   "cell_type": "markdown",
   "metadata": {},
   "source": [
    "# object / receptacle arguments"
   ]
  },
  {
   "cell_type": "code",
   "execution_count": 59,
   "metadata": {},
   "outputs": [],
   "source": [
    "from collections import Counter, defaultdict"
   ]
  },
  {
   "cell_type": "code",
   "execution_count": 34,
   "metadata": {},
   "outputs": [],
   "source": [
    "parameters_by_task = defaultdict(Counter)\n",
    "for ix, row in train_df.iterrows():\n",
    "    hlt = row['high_level_task']\n",
    "    parameters_by_task[hlt][row['high_level_params']] += 1"
   ]
  },
  {
   "cell_type": "code",
   "execution_count": 35,
   "metadata": {
    "scrolled": true
   },
   "outputs": [],
   "source": [
    "TASKS = list(parameters_by_task.keys())"
   ]
  },
  {
   "cell_type": "code",
   "execution_count": 36,
   "metadata": {},
   "outputs": [],
   "source": [
    "def project(counter, arg_index):\n",
    "    c = Counter()\n",
    "    for args, count in counter.items():\n",
    "        c[args[arg_index]] += count\n",
    "    return c"
   ]
  },
  {
   "cell_type": "code",
   "execution_count": 37,
   "metadata": {},
   "outputs": [
    {
     "data": {
      "text/plain": [
       "dict_keys(['pick_cool_then_place_in_recep', 'pick_two_obj_and_place', 'pick_heat_then_place_in_recep', 'pick_clean_then_place_in_recep', 'pick_and_place_simple', 'pick_and_place_with_movable_recep', 'look_at_obj_in_light'])"
      ]
     },
     "execution_count": 37,
     "metadata": {},
     "output_type": "execute_result"
    }
   ],
   "source": [
    "parameters_by_task.keys()"
   ]
  },
  {
   "cell_type": "code",
   "execution_count": 38,
   "metadata": {},
   "outputs": [
    {
     "name": "stdout",
     "output_type": "stream",
     "text": [
      "most common arguments for each task type\n",
      "pick_cool_then_place_in_recep:0\t('LettuceSliced', 2585)\n",
      "pick_cool_then_place_in_recep:1\t('None', 25205)\n",
      "pick_cool_then_place_in_recep:2\t('Microwave', 5498)\n",
      "\n",
      "pick_two_obj_and_place:0\t('SprayBottle', 1827)\n",
      "pick_two_obj_and_place:1\t('None', 32538)\n",
      "pick_two_obj_and_place:2\t('Drawer', 4149)\n",
      "\n",
      "pick_heat_then_place_in_recep:0\t('PotatoSliced', 4031)\n",
      "pick_heat_then_place_in_recep:1\t('None', 27091)\n",
      "pick_heat_then_place_in_recep:2\t('Fridge', 6114)\n",
      "\n",
      "pick_clean_then_place_in_recep:0\t('SoapBar', 3025)\n",
      "pick_clean_then_place_in_recep:1\t('None', 21577)\n",
      "pick_clean_then_place_in_recep:2\t('CounterTop', 2916)\n",
      "\n",
      "pick_and_place_simple:0\t('ToiletPaper', 1035)\n",
      "pick_and_place_simple:1\t('None', 16376)\n",
      "pick_and_place_simple:2\t('Toilet', 1590)\n",
      "\n",
      "pick_and_place_with_movable_recep:0\t('ButterKnife', 2689)\n",
      "pick_and_place_with_movable_recep:1\t('Plate', 4822)\n",
      "pick_and_place_with_movable_recep:2\t('DiningTable', 6141)\n",
      "\n",
      "look_at_obj_in_light:0\t('CreditCard', 975)\n",
      "look_at_obj_in_light:1\t('None', 11183)\n",
      "look_at_obj_in_light:2\t('DeskLamp', 6273)\n",
      "\n"
     ]
    }
   ],
   "source": [
    "print(\"most common arguments for each task type\")\n",
    "for task, parameters in parameters_by_task.items():\n",
    "    for arg_idx in range(3):\n",
    "        projected = project(parameters, arg_idx)\n",
    "        print(\"{}:{}\\t{}\".format(task, arg_idx, projected.most_common()[0]))\n",
    "    print()"
   ]
  },
  {
   "cell_type": "code",
   "execution_count": 39,
   "metadata": {},
   "outputs": [
    {
     "data": {
      "text/plain": [
       "{('look_at_obj_in_light', 'AlarmClock', 'None', 'DeskLamp'),\n",
       " ('look_at_obj_in_light', 'BaseballBat', 'None', 'DeskLamp'),\n",
       " ('look_at_obj_in_light', 'Bowl', 'None', 'DeskLamp'),\n",
       " ('look_at_obj_in_light', 'Box', 'None', 'DeskLamp'),\n",
       " ('look_at_obj_in_light', 'CD', 'None', 'DeskLamp'),\n",
       " ('look_at_obj_in_light', 'Cloth', 'None', 'DeskLamp'),\n",
       " ('look_at_obj_in_light', 'CreditCard', 'None', 'FloorLamp'),\n",
       " ('look_at_obj_in_light', 'KeyChain', 'None', 'DeskLamp'),\n",
       " ('look_at_obj_in_light', 'KeyChain', 'None', 'FloorLamp'),\n",
       " ('look_at_obj_in_light', 'Laptop', 'None', 'DeskLamp'),\n",
       " ('look_at_obj_in_light', 'Laptop', 'None', 'FloorLamp'),\n",
       " ('look_at_obj_in_light', 'Pillow', 'None', 'DeskLamp'),\n",
       " ('look_at_obj_in_light', 'Pillow', 'None', 'FloorLamp'),\n",
       " ('look_at_obj_in_light', 'RemoteControl', 'None', 'FloorLamp'),\n",
       " ('look_at_obj_in_light', 'Statue', 'None', 'DeskLamp'),\n",
       " ('look_at_obj_in_light', 'TennisRacket', 'None', 'DeskLamp'),\n",
       " ('look_at_obj_in_light', 'Vase', 'None', 'DeskLamp'),\n",
       " ('look_at_obj_in_light', 'Vase', 'None', 'FloorLamp'),\n",
       " ('look_at_obj_in_light', 'WateringCan', 'None', 'FloorLamp'),\n",
       " ('pick_and_place_simple', 'Book', 'None', 'SideTable'),\n",
       " ('pick_and_place_simple', 'Book', 'None', 'Sofa'),\n",
       " ('pick_and_place_simple', 'Bowl', 'None', 'CoffeeTable'),\n",
       " ('pick_and_place_simple', 'Box', 'None', 'Dresser'),\n",
       " ('pick_and_place_simple', 'Candle', 'None', 'Cart'),\n",
       " ('pick_and_place_simple', 'Candle', 'None', 'Toilet'),\n",
       " ('pick_and_place_simple', 'CellPhone', 'None', 'ArmChair'),\n",
       " ('pick_and_place_simple', 'CellPhone', 'None', 'Bed'),\n",
       " ('pick_and_place_simple', 'Cloth', 'None', 'BathtubBasin'),\n",
       " ('pick_and_place_simple', 'CreditCard', 'None', 'ArmChair'),\n",
       " ('pick_and_place_simple', 'CreditCard', 'None', 'Drawer'),\n",
       " ('pick_and_place_simple', 'Egg', 'None', 'Microwave'),\n",
       " ('pick_and_place_simple', 'HandTowel', 'None', 'BathtubBasin'),\n",
       " ('pick_and_place_simple', 'HandTowel', 'None', 'SinkBasin'),\n",
       " ('pick_and_place_simple', 'Knife', 'None', 'SideTable'),\n",
       " ('pick_and_place_simple', 'Knife', 'None', 'SinkBasin'),\n",
       " ('pick_and_place_simple', 'Mug', 'None', 'Dresser'),\n",
       " ('pick_and_place_simple', 'Mug', 'None', 'SideTable'),\n",
       " ('pick_and_place_simple', 'Newspaper', 'None', 'Sofa'),\n",
       " ('pick_and_place_simple', 'Pencil', 'None', 'Desk'),\n",
       " ('pick_and_place_simple', 'Pencil', 'None', 'Dresser'),\n",
       " ('pick_and_place_simple', 'Plunger', 'None', 'Cabinet'),\n",
       " ('pick_and_place_simple', 'RemoteControl', 'None', 'ArmChair'),\n",
       " ('pick_and_place_simple', 'RemoteControl', 'None', 'Sofa'),\n",
       " ('pick_and_place_simple', 'SoapBar', 'None', 'Cart'),\n",
       " ('pick_and_place_simple', 'SoapBar', 'None', 'Drawer'),\n",
       " ('pick_and_place_simple', 'SoapBottle', 'None', 'Cabinet'),\n",
       " ('pick_and_place_simple', 'SoapBottle', 'None', 'CounterTop'),\n",
       " ('pick_and_place_simple', 'SprayBottle', 'None', 'Cabinet'),\n",
       " ('pick_and_place_simple', 'SprayBottle', 'None', 'GarbageCan'),\n",
       " ('pick_and_place_simple', 'SprayBottle', 'None', 'Toilet'),\n",
       " ('pick_and_place_simple', 'TissueBox', 'None', 'Toilet'),\n",
       " ('pick_and_place_simple', 'ToiletPaper', 'None', 'ToiletPaperHanger'),\n",
       " ('pick_and_place_simple', 'Tomato', 'None', 'Microwave'),\n",
       " ('pick_and_place_simple', 'Vase', 'None', 'CoffeeTable'),\n",
       " ('pick_and_place_simple', 'Watch', 'None', 'SideTable'),\n",
       " ('pick_and_place_simple', 'WineBottle', 'None', 'Shelf'),\n",
       " ('pick_and_place_with_movable_recep', 'AppleSliced', 'Pan', 'CounterTop'),\n",
       " ('pick_and_place_with_movable_recep', 'AppleSliced', 'Plate', 'Fridge'),\n",
       " ('pick_and_place_with_movable_recep', 'AppleSliced', 'Pot', 'CounterTop'),\n",
       " ('pick_and_place_with_movable_recep', 'AppleSliced', 'Pot', 'Fridge'),\n",
       " ('pick_and_place_with_movable_recep', 'ButterKnife', 'Cup', 'DiningTable'),\n",
       " ('pick_and_place_with_movable_recep', 'ButterKnife', 'Cup', 'SinkBasin'),\n",
       " ('pick_and_place_with_movable_recep', 'DishSponge', 'Pot', 'SinkBasin'),\n",
       " ('pick_and_place_with_movable_recep', 'Fork', 'Cup', 'DiningTable'),\n",
       " ('pick_and_place_with_movable_recep', 'Fork', 'Mug', 'DiningTable'),\n",
       " ('pick_and_place_with_movable_recep', 'Knife', 'Bowl', 'SideTable'),\n",
       " ('pick_and_place_with_movable_recep', 'Knife', 'Mug', 'DiningTable'),\n",
       " ('pick_and_place_with_movable_recep', 'Ladle', 'Pan', 'SinkBasin'),\n",
       " ('pick_and_place_with_movable_recep', 'Ladle', 'Plate', 'Cabinet'),\n",
       " ('pick_and_place_with_movable_recep', 'Ladle', 'Plate', 'CounterTop'),\n",
       " ('pick_and_place_with_movable_recep', 'Pen', 'Mug', 'Desk'),\n",
       " ('pick_and_place_with_movable_recep', 'Pen', 'Mug', 'Dresser'),\n",
       " ('pick_and_place_with_movable_recep', 'Pencil', 'Bowl', 'Dresser'),\n",
       " ('pick_and_place_with_movable_recep', 'PotatoSliced', 'Pot', 'DiningTable'),\n",
       " ('pick_and_place_with_movable_recep', 'RemoteControl', 'Box', 'ArmChair'),\n",
       " ('pick_and_place_with_movable_recep', 'RemoteControl', 'Box', 'CoffeeTable'),\n",
       " ('pick_and_place_with_movable_recep', 'RemoteControl', 'Box', 'Shelf'),\n",
       " ('pick_and_place_with_movable_recep', 'Spatula', 'Bowl', 'SideTable'),\n",
       " ('pick_and_place_with_movable_recep', 'Spatula', 'Pan', 'CounterTop'),\n",
       " ('pick_and_place_with_movable_recep', 'Spoon', 'Cup', 'SinkBasin'),\n",
       " ('pick_and_place_with_movable_recep', 'Spoon', 'Plate', 'DiningTable'),\n",
       " ('pick_and_place_with_movable_recep', 'TissueBox', 'Plate', 'DiningTable'),\n",
       " ('pick_and_place_with_movable_recep', 'TomatoSliced', 'Bowl', 'Fridge'),\n",
       " ('pick_and_place_with_movable_recep', 'TomatoSliced', 'Pan', 'DiningTable'),\n",
       " ('pick_and_place_with_movable_recep', 'TomatoSliced', 'Pan', 'Fridge'),\n",
       " ('pick_and_place_with_movable_recep', 'Watch', 'Bowl', 'Shelf'),\n",
       " ('pick_and_place_with_movable_recep', 'Watch', 'Bowl', 'SideTable'),\n",
       " ('pick_clean_then_place_in_recep', 'AppleSliced', 'None', 'DiningTable'),\n",
       " ('pick_clean_then_place_in_recep', 'ButterKnife', 'None', 'CounterTop'),\n",
       " ('pick_clean_then_place_in_recep', 'ButterKnife', 'None', 'DiningTable'),\n",
       " ('pick_clean_then_place_in_recep', 'ButterKnife', 'None', 'Drawer'),\n",
       " ('pick_clean_then_place_in_recep', 'Cloth', 'None', 'BathtubBasin'),\n",
       " ('pick_clean_then_place_in_recep', 'Cloth', 'None', 'Cabinet'),\n",
       " ('pick_clean_then_place_in_recep', 'Cloth', 'None', 'Drawer'),\n",
       " ('pick_clean_then_place_in_recep', 'Cloth', 'None', 'Toilet'),\n",
       " ('pick_clean_then_place_in_recep', 'DishSponge', 'None', 'BathtubBasin'),\n",
       " ('pick_clean_then_place_in_recep', 'DishSponge', 'None', 'Cart'),\n",
       " ('pick_clean_then_place_in_recep', 'DishSponge', 'None', 'CounterTop'),\n",
       " ('pick_clean_then_place_in_recep', 'Fork', 'None', 'CounterTop'),\n",
       " ('pick_clean_then_place_in_recep', 'Fork', 'None', 'Drawer'),\n",
       " ('pick_clean_then_place_in_recep', 'Ladle', 'None', 'CounterTop'),\n",
       " ('pick_clean_then_place_in_recep', 'Ladle', 'None', 'DiningTable'),\n",
       " ('pick_clean_then_place_in_recep', 'Lettuce', 'None', 'CounterTop'),\n",
       " ('pick_clean_then_place_in_recep', 'Lettuce', 'None', 'Fridge'),\n",
       " ('pick_clean_then_place_in_recep', 'LettuceSliced', 'None', 'CounterTop'),\n",
       " ('pick_clean_then_place_in_recep', 'LettuceSliced', 'None', 'Fridge'),\n",
       " ('pick_clean_then_place_in_recep', 'Mug', 'None', 'CoffeeMachine'),\n",
       " ('pick_clean_then_place_in_recep', 'Plate', 'None', 'CounterTop'),\n",
       " ('pick_clean_then_place_in_recep', 'Plate', 'None', 'Fridge'),\n",
       " ('pick_clean_then_place_in_recep', 'SoapBar', 'None', 'BathtubBasin'),\n",
       " ('pick_clean_then_place_in_recep', 'SoapBar', 'None', 'Cabinet'),\n",
       " ('pick_clean_then_place_in_recep', 'SoapBar', 'None', 'Drawer'),\n",
       " ('pick_clean_then_place_in_recep', 'SoapBar', 'None', 'Toilet'),\n",
       " ('pick_clean_then_place_in_recep', 'Spatula', 'None', 'DiningTable'),\n",
       " ('pick_clean_then_place_in_recep', 'Tomato', 'None', 'CounterTop'),\n",
       " ('pick_clean_then_place_in_recep', 'TomatoSliced', 'None', 'Microwave'),\n",
       " ('pick_cool_then_place_in_recep', 'Apple', 'None', 'CounterTop'),\n",
       " ('pick_cool_then_place_in_recep', 'Apple', 'None', 'GarbageCan'),\n",
       " ('pick_cool_then_place_in_recep', 'Apple', 'None', 'Microwave'),\n",
       " ('pick_cool_then_place_in_recep', 'AppleSliced', 'None', 'DiningTable'),\n",
       " ('pick_cool_then_place_in_recep', 'AppleSliced', 'None', 'GarbageCan'),\n",
       " ('pick_cool_then_place_in_recep', 'AppleSliced', 'None', 'SideTable'),\n",
       " ('pick_cool_then_place_in_recep', 'Bowl', 'None', 'Cabinet'),\n",
       " ('pick_cool_then_place_in_recep', 'Bread', 'None', 'CounterTop'),\n",
       " ('pick_cool_then_place_in_recep', 'BreadSliced', 'None', 'DiningTable'),\n",
       " ('pick_cool_then_place_in_recep', 'BreadSliced', 'None', 'Microwave'),\n",
       " ('pick_cool_then_place_in_recep', 'Cup', 'None', 'Microwave'),\n",
       " ('pick_cool_then_place_in_recep', 'Cup', 'None', 'SideTable'),\n",
       " ('pick_cool_then_place_in_recep', 'Cup', 'None', 'SinkBasin'),\n",
       " ('pick_cool_then_place_in_recep', 'Egg', 'None', 'Microwave'),\n",
       " ('pick_cool_then_place_in_recep', 'Lettuce', 'None', 'CounterTop'),\n",
       " ('pick_cool_then_place_in_recep', 'LettuceSliced', 'None', 'SinkBasin'),\n",
       " ('pick_cool_then_place_in_recep', 'Mug', 'None', 'CoffeeMachine'),\n",
       " ('pick_cool_then_place_in_recep', 'Pan', 'None', 'DiningTable'),\n",
       " ('pick_cool_then_place_in_recep', 'Pan', 'None', 'StoveBurner'),\n",
       " ('pick_cool_then_place_in_recep', 'Plate', 'None', 'Cabinet'),\n",
       " ('pick_cool_then_place_in_recep', 'Plate', 'None', 'CounterTop'),\n",
       " ('pick_cool_then_place_in_recep', 'Pot', 'None', 'DiningTable'),\n",
       " ('pick_cool_then_place_in_recep', 'PotatoSliced', 'None', 'Microwave'),\n",
       " ('pick_cool_then_place_in_recep', 'PotatoSliced', 'None', 'SinkBasin'),\n",
       " ('pick_cool_then_place_in_recep', 'Tomato', 'None', 'CounterTop'),\n",
       " ('pick_cool_then_place_in_recep', 'Tomato', 'None', 'GarbageCan'),\n",
       " ('pick_cool_then_place_in_recep', 'Tomato', 'None', 'Microwave'),\n",
       " ('pick_cool_then_place_in_recep', 'TomatoSliced', 'None', 'Microwave'),\n",
       " ('pick_cool_then_place_in_recep', 'TomatoSliced', 'None', 'SinkBasin'),\n",
       " ('pick_cool_then_place_in_recep', 'WineBottle', 'None', 'DiningTable'),\n",
       " ('pick_heat_then_place_in_recep', 'Apple', 'None', 'DiningTable'),\n",
       " ('pick_heat_then_place_in_recep', 'Apple', 'None', 'SinkBasin'),\n",
       " ('pick_heat_then_place_in_recep', 'AppleSliced', 'None', 'CounterTop'),\n",
       " ('pick_heat_then_place_in_recep', 'AppleSliced', 'None', 'DiningTable'),\n",
       " ('pick_heat_then_place_in_recep', 'AppleSliced', 'None', 'Fridge'),\n",
       " ('pick_heat_then_place_in_recep', 'AppleSliced', 'None', 'GarbageCan'),\n",
       " ('pick_heat_then_place_in_recep', 'AppleSliced', 'None', 'SinkBasin'),\n",
       " ('pick_heat_then_place_in_recep', 'BreadSliced', 'None', 'DiningTable'),\n",
       " ('pick_heat_then_place_in_recep', 'BreadSliced', 'None', 'Fridge'),\n",
       " ('pick_heat_then_place_in_recep', 'Cup', 'None', 'Cabinet'),\n",
       " ('pick_heat_then_place_in_recep', 'Egg', 'None', 'CounterTop'),\n",
       " ('pick_heat_then_place_in_recep', 'Egg', 'None', 'Fridge'),\n",
       " ('pick_heat_then_place_in_recep', 'Mug', 'None', 'Cabinet'),\n",
       " ('pick_heat_then_place_in_recep', 'Mug', 'None', 'CoffeeMachine'),\n",
       " ('pick_heat_then_place_in_recep', 'Mug', 'None', 'SideTable'),\n",
       " ('pick_heat_then_place_in_recep', 'Plate', 'None', 'Cabinet'),\n",
       " ('pick_heat_then_place_in_recep', 'Plate', 'None', 'DiningTable'),\n",
       " ('pick_heat_then_place_in_recep', 'Potato', 'None', 'Fridge'),\n",
       " ('pick_heat_then_place_in_recep', 'Potato', 'None', 'SinkBasin'),\n",
       " ('pick_heat_then_place_in_recep', 'PotatoSliced', 'None', 'GarbageCan'),\n",
       " ('pick_heat_then_place_in_recep', 'PotatoSliced', 'None', 'SinkBasin'),\n",
       " ('pick_heat_then_place_in_recep', 'Tomato', 'None', 'DiningTable'),\n",
       " ('pick_heat_then_place_in_recep', 'Tomato', 'None', 'Fridge'),\n",
       " ('pick_heat_then_place_in_recep', 'Tomato', 'None', 'SinkBasin'),\n",
       " ('pick_heat_then_place_in_recep', 'TomatoSliced', 'None', 'CounterTop'),\n",
       " ('pick_heat_then_place_in_recep', 'TomatoSliced', 'None', 'GarbageCan'),\n",
       " ('pick_heat_then_place_in_recep', 'TomatoSliced', 'None', 'SinkBasin'),\n",
       " ('pick_two_obj_and_place', 'AlarmClock', 'None', 'Dresser'),\n",
       " ('pick_two_obj_and_place', 'Book', 'None', 'Desk'),\n",
       " ('pick_two_obj_and_place', 'Box', 'None', 'CoffeeTable'),\n",
       " ('pick_two_obj_and_place', 'CD', 'None', 'Drawer'),\n",
       " ('pick_two_obj_and_place', 'CreditCard', 'None', 'Dresser'),\n",
       " ('pick_two_obj_and_place', 'CreditCard', 'None', 'Safe'),\n",
       " ('pick_two_obj_and_place', 'Glassbottle', 'None', 'Shelf'),\n",
       " ('pick_two_obj_and_place', 'KeyChain', 'None', 'Shelf'),\n",
       " ('pick_two_obj_and_place', 'KeyChain', 'None', 'Sofa'),\n",
       " ('pick_two_obj_and_place', 'Knife', 'None', 'Drawer'),\n",
       " ('pick_two_obj_and_place', 'LettuceSliced', 'None', 'Fridge'),\n",
       " ('pick_two_obj_and_place', 'Newspaper', 'None', 'Drawer'),\n",
       " ('pick_two_obj_and_place', 'Pan', 'None', 'CounterTop'),\n",
       " ('pick_two_obj_and_place', 'RemoteControl', 'None', 'CoffeeTable'),\n",
       " ('pick_two_obj_and_place', 'RemoteControl', 'None', 'Ottoman'),\n",
       " ('pick_two_obj_and_place', 'SoapBar', 'None', 'GarbageCan'),\n",
       " ('pick_two_obj_and_place', 'SoapBar', 'None', 'Toilet'),\n",
       " ('pick_two_obj_and_place', 'SoapBottle', 'None', 'Drawer'),\n",
       " ('pick_two_obj_and_place', 'Spatula', 'None', 'Drawer'),\n",
       " ('pick_two_obj_and_place', 'Spoon', 'None', 'CounterTop'),\n",
       " ('pick_two_obj_and_place', 'SprayBottle', 'None', 'Cabinet'),\n",
       " ('pick_two_obj_and_place', 'SprayBottle', 'None', 'GarbageCan'),\n",
       " ('pick_two_obj_and_place', 'SprayBottle', 'None', 'Toilet'),\n",
       " ('pick_two_obj_and_place', 'TissueBox', 'None', 'Toilet'),\n",
       " ('pick_two_obj_and_place', 'ToiletPaper', 'None', 'Drawer'),\n",
       " ('pick_two_obj_and_place', 'ToiletPaper', 'None', 'Toilet'),\n",
       " ('pick_two_obj_and_place', 'Vase', 'None', 'Desk'),\n",
       " ('pick_two_obj_and_place', 'Watch', 'None', 'Dresser')}"
      ]
     },
     "execution_count": 39,
     "metadata": {},
     "output_type": "execute_result"
    }
   ],
   "source": [
    "set(valid_seen_df['high_level_task_and_params']) & set(train_df['high_level_task_and_params'])"
   ]
  },
  {
   "cell_type": "code",
   "execution_count": 40,
   "metadata": {},
   "outputs": [],
   "source": [
    "def compare_tasks(task_1, task_2):\n",
    "    params_1 = parameters_by_task[task_1]\n",
    "    params_2 = parameters_by_task[task_2]\n",
    "    print(\"{} vs {}\".format(task_1, task_2))\n",
    "    print(\"\\tobject jaccard:\")\n",
    "    display_jaccard(set(project(params_1, 0)), set(project(params_2, 0)))\n",
    "    print()\n",
    "    print(\"\\treceptacle jaccard:\")\n",
    "    display_jaccard(set(project(params_1, 2)), set(project(params_2, 2)))\n",
    "    print()\n",
    "    return params_1, params_2"
   ]
  },
  {
   "cell_type": "code",
   "execution_count": 41,
   "metadata": {
    "scrolled": true
   },
   "outputs": [
    {
     "name": "stdout",
     "output_type": "stream",
     "text": [
      "pick_and_place_simple vs pick_two_obj_and_place\n",
      "\tobject jaccard:\n",
      "\tin 1st       : 56\n",
      "\tin 1st \\ 2nd : 3\n",
      "\tin 2nd       : 55\n",
      "\tin 2nd \\ 1st : 2\n",
      "\tjaccard\t53 / 58 = 0.91\n",
      "\n",
      "\treceptacle jaccard:\n",
      "\tin 1st       : 23\n",
      "\tin 1st \\ 2nd : 2\n",
      "\tin 2nd       : 21\n",
      "\tin 2nd \\ 1st : 0\n",
      "\tjaccard\t21 / 23 = 0.91\n",
      "\n"
     ]
    }
   ],
   "source": [
    "params_1, params_2 = compare_tasks(\"pick_and_place_simple\", \"pick_two_obj_and_place\")"
   ]
  },
  {
   "cell_type": "code",
   "execution_count": 27,
   "metadata": {},
   "outputs": [
    {
     "data": {
      "text/plain": [
       "['pick_cool_then_place_in_recep',\n",
       " 'pick_two_obj_and_place',\n",
       " 'pick_heat_then_place_in_recep',\n",
       " 'pick_clean_then_place_in_recep',\n",
       " 'pick_and_place_simple',\n",
       " 'pick_and_place_with_movable_recep',\n",
       " 'look_at_obj_in_light']"
      ]
     },
     "execution_count": 27,
     "metadata": {},
     "output_type": "execute_result"
    }
   ],
   "source": [
    "TASKS"
   ]
  },
  {
   "cell_type": "code",
   "execution_count": 28,
   "metadata": {},
   "outputs": [],
   "source": [
    "reference_task = 'pick_and_place_simple'"
   ]
  },
  {
   "cell_type": "code",
   "execution_count": 29,
   "metadata": {
    "scrolled": true
   },
   "outputs": [
    {
     "name": "stdout",
     "output_type": "stream",
     "text": [
      "pick_and_place_simple vs pick_cool_then_place_in_recep\n",
      "\tobject jaccard:\n",
      "\tin 1st       : 56\n",
      "\tin 1st \\ 2nd : 39\n",
      "\tin 2nd       : 18\n",
      "\tin 2nd \\ 1st : 1\n",
      "\tjaccard\t17 / 57 = 0.30\n",
      "\n",
      "\treceptacle jaccard:\n",
      "\tin 1st       : 23\n",
      "\tin 1st \\ 2nd : 14\n",
      "\tin 2nd       : 10\n",
      "\tin 2nd \\ 1st : 1\n",
      "\tjaccard\t9 / 24 = 0.38\n",
      "\n",
      "pick_and_place_simple vs pick_two_obj_and_place\n",
      "\tobject jaccard:\n",
      "\tin 1st       : 56\n",
      "\tin 1st \\ 2nd : 3\n",
      "\tin 2nd       : 55\n",
      "\tin 2nd \\ 1st : 2\n",
      "\tjaccard\t53 / 58 = 0.91\n",
      "\n",
      "\treceptacle jaccard:\n",
      "\tin 1st       : 23\n",
      "\tin 1st \\ 2nd : 2\n",
      "\tin 2nd       : 21\n",
      "\tin 2nd \\ 1st : 0\n",
      "\tjaccard\t21 / 23 = 0.91\n",
      "\n",
      "pick_and_place_simple vs pick_heat_then_place_in_recep\n",
      "\tobject jaccard:\n",
      "\tin 1st       : 56\n",
      "\tin 1st \\ 2nd : 45\n",
      "\tin 2nd       : 12\n",
      "\tin 2nd \\ 1st : 1\n",
      "\tjaccard\t11 / 57 = 0.19\n",
      "\n",
      "\treceptacle jaccard:\n",
      "\tin 1st       : 23\n",
      "\tin 1st \\ 2nd : 15\n",
      "\tin 2nd       : 9\n",
      "\tin 2nd \\ 1st : 1\n",
      "\tjaccard\t8 / 24 = 0.33\n",
      "\n",
      "pick_and_place_simple vs pick_clean_then_place_in_recep\n",
      "\tobject jaccard:\n",
      "\tin 1st       : 56\n",
      "\tin 1st \\ 2nd : 33\n",
      "\tin 2nd       : 25\n",
      "\tin 2nd \\ 1st : 2\n",
      "\tjaccard\t23 / 58 = 0.40\n",
      "\n",
      "\treceptacle jaccard:\n",
      "\tin 1st       : 23\n",
      "\tin 1st \\ 2nd : 9\n",
      "\tin 2nd       : 15\n",
      "\tin 2nd \\ 1st : 1\n",
      "\tjaccard\t14 / 24 = 0.58\n",
      "\n",
      "pick_and_place_simple vs pick_and_place_with_movable_recep\n",
      "\tobject jaccard:\n",
      "\tin 1st       : 56\n",
      "\tin 1st \\ 2nd : 31\n",
      "\tin 2nd       : 27\n",
      "\tin 2nd \\ 1st : 2\n",
      "\tjaccard\t25 / 58 = 0.43\n",
      "\n",
      "\treceptacle jaccard:\n",
      "\tin 1st       : 23\n",
      "\tin 1st \\ 2nd : 10\n",
      "\tin 2nd       : 13\n",
      "\tin 2nd \\ 1st : 0\n",
      "\tjaccard\t13 / 23 = 0.57\n",
      "\n",
      "pick_and_place_simple vs look_at_obj_in_light\n",
      "\tobject jaccard:\n",
      "\tin 1st       : 56\n",
      "\tin 1st \\ 2nd : 30\n",
      "\tin 2nd       : 26\n",
      "\tin 2nd \\ 1st : 0\n",
      "\tjaccard\t26 / 56 = 0.46\n",
      "\n",
      "\treceptacle jaccard:\n",
      "\tin 1st       : 23\n",
      "\tin 1st \\ 2nd : 23\n",
      "\tin 2nd       : 2\n",
      "\tin 2nd \\ 1st : 2\n",
      "\tjaccard\t0 / 25 = 0.00\n",
      "\n"
     ]
    }
   ],
   "source": [
    "for task in TASKS:\n",
    "    if task == reference_task:\n",
    "        continue\n",
    "    compare_tasks(reference_task, task)"
   ]
  },
  {
   "cell_type": "markdown",
   "metadata": {},
   "source": [
    "# Object / Receptacle repartitioning"
   ]
  },
  {
   "cell_type": "markdown",
   "metadata": {},
   "source": [
    "Pool together train and valid_seen, and redivide them based on their (object, receptacle) pairs, so that\n",
    "\n",
    "- All objects in valid_seen were seen in train\n",
    "- All receptacles in valid_seen were seen in train\n",
    "- No (object, receptacle) pairs in valid_seen were seen in train\n",
    "\n",
    "roughly preserving the size of the original train / valid_seen splits\n",
    "\n",
    "Saves to `splits/object_receptacle_partitioned.json`"
   ]
  },
  {
   "cell_type": "code",
   "execution_count": 30,
   "metadata": {},
   "outputs": [],
   "source": [
    "from functools import reduce\n",
    "all_tasks_and_params = reduce(\n",
    "    lambda p, q: p | q, \n",
    "    (set(df['high_level_task_and_params'])\n",
    "     for df in [train_df, valid_seen_df, valid_unseen_df])\n",
    " )"
   ]
  },
  {
   "cell_type": "code",
   "execution_count": 31,
   "metadata": {},
   "outputs": [
    {
     "data": {
      "text/plain": [
       "{('look_at_obj_in_light', 'AlarmClock', 'None', 'DeskLamp'),\n",
       " ('look_at_obj_in_light', 'BaseballBat', 'None', 'DeskLamp'),\n",
       " ('look_at_obj_in_light', 'BasketBall', 'None', 'DeskLamp'),\n",
       " ('look_at_obj_in_light', 'Book', 'None', 'DeskLamp'),\n",
       " ('look_at_obj_in_light', 'Bowl', 'None', 'DeskLamp'),\n",
       " ('look_at_obj_in_light', 'Box', 'None', 'DeskLamp'),\n",
       " ('look_at_obj_in_light', 'Box', 'None', 'FloorLamp'),\n",
       " ('look_at_obj_in_light', 'CD', 'None', 'DeskLamp'),\n",
       " ('look_at_obj_in_light', 'Candle', 'None', 'FloorLamp'),\n",
       " ('look_at_obj_in_light', 'CellPhone', 'None', 'DeskLamp'),\n",
       " ('look_at_obj_in_light', 'CellPhone', 'None', 'FloorLamp'),\n",
       " ('look_at_obj_in_light', 'Cloth', 'None', 'DeskLamp'),\n",
       " ('look_at_obj_in_light', 'CreditCard', 'None', 'DeskLamp'),\n",
       " ('look_at_obj_in_light', 'CreditCard', 'None', 'FloorLamp'),\n",
       " ('look_at_obj_in_light', 'KeyChain', 'None', 'DeskLamp'),\n",
       " ('look_at_obj_in_light', 'KeyChain', 'None', 'FloorLamp'),\n",
       " ('look_at_obj_in_light', 'Laptop', 'None', 'DeskLamp'),\n",
       " ('look_at_obj_in_light', 'Laptop', 'None', 'FloorLamp'),\n",
       " ('look_at_obj_in_light', 'Mug', 'None', 'DeskLamp'),\n",
       " ('look_at_obj_in_light', 'Newspaper', 'None', 'DeskLamp'),\n",
       " ('look_at_obj_in_light', 'Newspaper', 'None', 'FloorLamp'),\n",
       " ('look_at_obj_in_light', 'Pen', 'None', 'DeskLamp'),\n",
       " ('look_at_obj_in_light', 'Pen', 'None', 'FloorLamp'),\n",
       " ('look_at_obj_in_light', 'Pencil', 'None', 'DeskLamp'),\n",
       " ('look_at_obj_in_light', 'Pencil', 'None', 'FloorLamp'),\n",
       " ('look_at_obj_in_light', 'Pillow', 'None', 'DeskLamp'),\n",
       " ('look_at_obj_in_light', 'Pillow', 'None', 'FloorLamp'),\n",
       " ('look_at_obj_in_light', 'Plate', 'None', 'DeskLamp'),\n",
       " ('look_at_obj_in_light', 'Plate', 'None', 'FloorLamp'),\n",
       " ('look_at_obj_in_light', 'RemoteControl', 'None', 'FloorLamp'),\n",
       " ('look_at_obj_in_light', 'Statue', 'None', 'DeskLamp'),\n",
       " ('look_at_obj_in_light', 'Statue', 'None', 'FloorLamp'),\n",
       " ('look_at_obj_in_light', 'TennisRacket', 'None', 'DeskLamp'),\n",
       " ('look_at_obj_in_light', 'TissueBox', 'None', 'DeskLamp'),\n",
       " ('look_at_obj_in_light', 'TissueBox', 'None', 'FloorLamp'),\n",
       " ('look_at_obj_in_light', 'Vase', 'None', 'DeskLamp'),\n",
       " ('look_at_obj_in_light', 'Vase', 'None', 'FloorLamp'),\n",
       " ('look_at_obj_in_light', 'Watch', 'None', 'DeskLamp'),\n",
       " ('look_at_obj_in_light', 'Watch', 'None', 'FloorLamp'),\n",
       " ('look_at_obj_in_light', 'WateringCan', 'None', 'DeskLamp'),\n",
       " ('look_at_obj_in_light', 'WateringCan', 'None', 'FloorLamp'),\n",
       " ('pick_and_place_simple', 'AlarmClock', 'None', 'Desk'),\n",
       " ('pick_and_place_simple', 'AlarmClock', 'None', 'DiningTable'),\n",
       " ('pick_and_place_simple', 'AlarmClock', 'None', 'Dresser'),\n",
       " ('pick_and_place_simple', 'AlarmClock', 'None', 'Shelf'),\n",
       " ('pick_and_place_simple', 'AlarmClock', 'None', 'SideTable'),\n",
       " ('pick_and_place_simple', 'AppleSliced', 'None', 'Fridge'),\n",
       " ('pick_and_place_simple', 'AppleSliced', 'None', 'Microwave'),\n",
       " ('pick_and_place_simple', 'BaseballBat', 'None', 'Bed'),\n",
       " ('pick_and_place_simple', 'BasketBall', 'None', 'Bed'),\n",
       " ('pick_and_place_simple', 'BasketBall', 'None', 'Desk'),\n",
       " ('pick_and_place_simple', 'BasketBall', 'None', 'Dresser'),\n",
       " ('pick_and_place_simple', 'Book', 'None', 'ArmChair'),\n",
       " ('pick_and_place_simple', 'Book', 'None', 'Bed'),\n",
       " ('pick_and_place_simple', 'Book', 'None', 'Cabinet'),\n",
       " ('pick_and_place_simple', 'Book', 'None', 'CoffeeTable'),\n",
       " ('pick_and_place_simple', 'Book', 'None', 'Desk'),\n",
       " ('pick_and_place_simple', 'Book', 'None', 'Dresser'),\n",
       " ('pick_and_place_simple', 'Book', 'None', 'SideTable'),\n",
       " ('pick_and_place_simple', 'Book', 'None', 'Sofa'),\n",
       " ('pick_and_place_simple', 'Bowl', 'None', 'CoffeeTable'),\n",
       " ('pick_and_place_simple', 'Bowl', 'None', 'Fridge'),\n",
       " ('pick_and_place_simple', 'Box', 'None', 'ArmChair'),\n",
       " ('pick_and_place_simple', 'Box', 'None', 'CoffeeTable'),\n",
       " ('pick_and_place_simple', 'Box', 'None', 'Desk'),\n",
       " ('pick_and_place_simple', 'Box', 'None', 'DiningTable'),\n",
       " ('pick_and_place_simple', 'Box', 'None', 'Dresser'),\n",
       " ('pick_and_place_simple', 'Box', 'None', 'Sofa'),\n",
       " ('pick_and_place_simple', 'Bread', 'None', 'Microwave'),\n",
       " ('pick_and_place_simple', 'BreadSliced', 'None', 'SideTable'),\n",
       " ('pick_and_place_simple', 'ButterKnife', 'None', 'Drawer'),\n",
       " ('pick_and_place_simple', 'ButterKnife', 'None', 'SideTable'),\n",
       " ('pick_and_place_simple', 'CD', 'None', 'DiningTable'),\n",
       " ('pick_and_place_simple', 'CD', 'None', 'Dresser'),\n",
       " ('pick_and_place_simple', 'CD', 'None', 'Safe'),\n",
       " ('pick_and_place_simple', 'CD', 'None', 'Shelf'),\n",
       " ('pick_and_place_simple', 'CD', 'None', 'SideTable'),\n",
       " ('pick_and_place_simple', 'Candle', 'None', 'Cabinet'),\n",
       " ('pick_and_place_simple', 'Candle', 'None', 'Cart'),\n",
       " ('pick_and_place_simple', 'Candle', 'None', 'CounterTop'),\n",
       " ('pick_and_place_simple', 'Candle', 'None', 'Drawer'),\n",
       " ('pick_and_place_simple', 'Candle', 'None', 'Dresser'),\n",
       " ('pick_and_place_simple', 'Candle', 'None', 'SideTable'),\n",
       " ('pick_and_place_simple', 'Candle', 'None', 'Toilet'),\n",
       " ('pick_and_place_simple', 'CellPhone', 'None', 'ArmChair'),\n",
       " ('pick_and_place_simple', 'CellPhone', 'None', 'Bed'),\n",
       " ('pick_and_place_simple', 'CellPhone', 'None', 'Desk'),\n",
       " ('pick_and_place_simple', 'CellPhone', 'None', 'DiningTable'),\n",
       " ('pick_and_place_simple', 'CellPhone', 'None', 'Drawer'),\n",
       " ('pick_and_place_simple', 'CellPhone', 'None', 'Dresser'),\n",
       " ('pick_and_place_simple', 'CellPhone', 'None', 'Safe'),\n",
       " ('pick_and_place_simple', 'CellPhone', 'None', 'Shelf'),\n",
       " ('pick_and_place_simple', 'CellPhone', 'None', 'SideTable'),\n",
       " ('pick_and_place_simple', 'Cloth', 'None', 'BathtubBasin'),\n",
       " ('pick_and_place_simple', 'Cloth', 'None', 'Cart'),\n",
       " ('pick_and_place_simple', 'Cloth', 'None', 'CounterTop'),\n",
       " ('pick_and_place_simple', 'Cloth', 'None', 'Drawer'),\n",
       " ('pick_and_place_simple', 'Cloth', 'None', 'Shelf'),\n",
       " ('pick_and_place_simple', 'Cloth', 'None', 'SideTable'),\n",
       " ('pick_and_place_simple', 'Cloth', 'None', 'SinkBasin'),\n",
       " ('pick_and_place_simple', 'Cloth', 'None', 'Toilet'),\n",
       " ('pick_and_place_simple', 'CreditCard', 'None', 'ArmChair'),\n",
       " ('pick_and_place_simple', 'CreditCard', 'None', 'CoffeeTable'),\n",
       " ('pick_and_place_simple', 'CreditCard', 'None', 'Desk'),\n",
       " ('pick_and_place_simple', 'CreditCard', 'None', 'DiningTable'),\n",
       " ('pick_and_place_simple', 'CreditCard', 'None', 'Drawer'),\n",
       " ('pick_and_place_simple', 'CreditCard', 'None', 'Shelf'),\n",
       " ('pick_and_place_simple', 'CreditCard', 'None', 'Sofa'),\n",
       " ('pick_and_place_simple', 'Cup', 'None', 'SinkBasin'),\n",
       " ('pick_and_place_simple', 'DishSponge', 'None', 'Cabinet'),\n",
       " ('pick_and_place_simple', 'DishSponge', 'None', 'Cart'),\n",
       " ('pick_and_place_simple', 'DishSponge', 'None', 'Toilet'),\n",
       " ('pick_and_place_simple', 'Egg', 'None', 'Fridge'),\n",
       " ('pick_and_place_simple', 'Egg', 'None', 'Microwave'),\n",
       " ('pick_and_place_simple', 'Fork', 'None', 'Drawer'),\n",
       " ('pick_and_place_simple', 'Glassbottle', 'None', 'Cabinet'),\n",
       " ('pick_and_place_simple', 'Glassbottle', 'None', 'CounterTop'),\n",
       " ('pick_and_place_simple', 'Glassbottle', 'None', 'DiningTable'),\n",
       " ('pick_and_place_simple', 'Glassbottle', 'None', 'Fridge'),\n",
       " ('pick_and_place_simple', 'HandTowel', 'None', 'BathtubBasin'),\n",
       " ('pick_and_place_simple', 'HandTowel', 'None', 'Cabinet'),\n",
       " ('pick_and_place_simple', 'HandTowel', 'None', 'CounterTop'),\n",
       " ('pick_and_place_simple', 'HandTowel', 'None', 'GarbageCan'),\n",
       " ('pick_and_place_simple', 'HandTowel', 'None', 'SinkBasin'),\n",
       " ('pick_and_place_simple', 'HandTowel', 'None', 'Toilet'),\n",
       " ('pick_and_place_simple', 'Kettle', 'None', 'Cabinet'),\n",
       " ('pick_and_place_simple', 'Kettle', 'None', 'Shelf'),\n",
       " ('pick_and_place_simple', 'Kettle', 'None', 'StoveBurner'),\n",
       " ('pick_and_place_simple', 'KeyChain', 'None', 'ArmChair'),\n",
       " ('pick_and_place_simple', 'KeyChain', 'None', 'CoffeeTable'),\n",
       " ('pick_and_place_simple', 'KeyChain', 'None', 'Desk'),\n",
       " ('pick_and_place_simple', 'KeyChain', 'None', 'Drawer'),\n",
       " ('pick_and_place_simple', 'KeyChain', 'None', 'Dresser'),\n",
       " ('pick_and_place_simple', 'KeyChain', 'None', 'Ottoman'),\n",
       " ('pick_and_place_simple', 'KeyChain', 'None', 'Safe'),\n",
       " ('pick_and_place_simple', 'KeyChain', 'None', 'Shelf'),\n",
       " ('pick_and_place_simple', 'KeyChain', 'None', 'SideTable'),\n",
       " ('pick_and_place_simple', 'KeyChain', 'None', 'Sofa'),\n",
       " ('pick_and_place_simple', 'Knife', 'None', 'SideTable'),\n",
       " ('pick_and_place_simple', 'Knife', 'None', 'SinkBasin'),\n",
       " ('pick_and_place_simple', 'Ladle', 'None', 'SinkBasin'),\n",
       " ('pick_and_place_simple', 'Laptop', 'None', 'ArmChair'),\n",
       " ('pick_and_place_simple', 'Laptop', 'None', 'Bed'),\n",
       " ('pick_and_place_simple', 'Laptop', 'None', 'Desk'),\n",
       " ('pick_and_place_simple', 'Laptop', 'None', 'Ottoman'),\n",
       " ('pick_and_place_simple', 'Laptop', 'None', 'SideTable'),\n",
       " ('pick_and_place_simple', 'Laptop', 'None', 'Sofa'),\n",
       " ('pick_and_place_simple', 'Lettuce', 'None', 'CounterTop'),\n",
       " ('pick_and_place_simple', 'LettuceSliced', 'None', 'DiningTable'),\n",
       " ('pick_and_place_simple', 'Mug', 'None', 'Desk'),\n",
       " ('pick_and_place_simple', 'Mug', 'None', 'Dresser'),\n",
       " ('pick_and_place_simple', 'Mug', 'None', 'SideTable'),\n",
       " ('pick_and_place_simple', 'Newspaper', 'None', 'ArmChair'),\n",
       " ('pick_and_place_simple', 'Newspaper', 'None', 'GarbageCan'),\n",
       " ('pick_and_place_simple', 'Newspaper', 'None', 'Ottoman'),\n",
       " ('pick_and_place_simple', 'Newspaper', 'None', 'Sofa'),\n",
       " ('pick_and_place_simple', 'Pan', 'None', 'CounterTop'),\n",
       " ('pick_and_place_simple', 'Pan', 'None', 'DiningTable'),\n",
       " ('pick_and_place_simple', 'Pan', 'None', 'SinkBasin'),\n",
       " ('pick_and_place_simple', 'Pen', 'None', 'Desk'),\n",
       " ('pick_and_place_simple', 'Pen', 'None', 'Drawer'),\n",
       " ('pick_and_place_simple', 'Pen', 'None', 'Shelf'),\n",
       " ('pick_and_place_simple', 'Pen', 'None', 'SideTable'),\n",
       " ('pick_and_place_simple', 'Pencil', 'None', 'Desk'),\n",
       " ('pick_and_place_simple', 'Pencil', 'None', 'Dresser'),\n",
       " ('pick_and_place_simple', 'Pencil', 'None', 'GarbageCan'),\n",
       " ('pick_and_place_simple', 'Pencil', 'None', 'Shelf'),\n",
       " ('pick_and_place_simple', 'Pencil', 'None', 'SideTable'),\n",
       " ('pick_and_place_simple', 'PepperShaker', 'None', 'CounterTop'),\n",
       " ('pick_and_place_simple', 'PepperShaker', 'None', 'Drawer'),\n",
       " ('pick_and_place_simple', 'PepperShaker', 'None', 'Shelf'),\n",
       " ('pick_and_place_simple', 'PepperShaker', 'None', 'SideTable'),\n",
       " ('pick_and_place_simple', 'Pillow', 'None', 'ArmChair'),\n",
       " ('pick_and_place_simple', 'Pillow', 'None', 'Ottoman'),\n",
       " ('pick_and_place_simple', 'Pillow', 'None', 'Sofa'),\n",
       " ('pick_and_place_simple', 'Plate', 'None', 'Dresser'),\n",
       " ('pick_and_place_simple', 'Plunger', 'None', 'Cabinet'),\n",
       " ('pick_and_place_simple', 'Pot', 'None', 'SinkBasin'),\n",
       " ('pick_and_place_simple', 'Potato', 'None', 'Microwave'),\n",
       " ('pick_and_place_simple', 'PotatoSliced', 'None', 'SinkBasin'),\n",
       " ('pick_and_place_simple', 'RemoteControl', 'None', 'ArmChair'),\n",
       " ('pick_and_place_simple', 'RemoteControl', 'None', 'CoffeeTable'),\n",
       " ('pick_and_place_simple', 'RemoteControl', 'None', 'Dresser'),\n",
       " ('pick_and_place_simple', 'RemoteControl', 'None', 'Ottoman'),\n",
       " ('pick_and_place_simple', 'RemoteControl', 'None', 'Sofa'),\n",
       " ('pick_and_place_simple', 'SaltShaker', 'None', 'Cabinet'),\n",
       " ('pick_and_place_simple', 'SaltShaker', 'None', 'DiningTable'),\n",
       " ('pick_and_place_simple', 'SaltShaker', 'None', 'Drawer'),\n",
       " ('pick_and_place_simple', 'SoapBar', 'None', 'Cart'),\n",
       " ('pick_and_place_simple', 'SoapBar', 'None', 'Drawer'),\n",
       " ('pick_and_place_simple', 'SoapBar', 'None', 'GarbageCan'),\n",
       " ('pick_and_place_simple', 'SoapBottle', 'None', 'Cabinet'),\n",
       " ('pick_and_place_simple', 'SoapBottle', 'None', 'Cart'),\n",
       " ('pick_and_place_simple', 'SoapBottle', 'None', 'CounterTop'),\n",
       " ('pick_and_place_simple', 'SoapBottle', 'None', 'Drawer'),\n",
       " ('pick_and_place_simple', 'SoapBottle', 'None', 'GarbageCan'),\n",
       " ('pick_and_place_simple', 'SoapBottle', 'None', 'SideTable'),\n",
       " ('pick_and_place_simple', 'SoapBottle', 'None', 'Toilet'),\n",
       " ('pick_and_place_simple', 'Spoon', 'None', 'SinkBasin'),\n",
       " ('pick_and_place_simple', 'SprayBottle', 'None', 'Cabinet'),\n",
       " ('pick_and_place_simple', 'SprayBottle', 'None', 'CounterTop'),\n",
       " ('pick_and_place_simple', 'SprayBottle', 'None', 'Drawer'),\n",
       " ('pick_and_place_simple', 'SprayBottle', 'None', 'GarbageCan'),\n",
       " ('pick_and_place_simple', 'SprayBottle', 'None', 'Toilet'),\n",
       " ('pick_and_place_simple', 'Statue', 'None', 'CoffeeTable'),\n",
       " ('pick_and_place_simple', 'Statue', 'None', 'Dresser'),\n",
       " ('pick_and_place_simple', 'Statue', 'None', 'SideTable'),\n",
       " ('pick_and_place_simple', 'TennisRacket', 'None', 'Bed'),\n",
       " ('pick_and_place_simple', 'TennisRacket', 'None', 'Desk'),\n",
       " ('pick_and_place_simple', 'TennisRacket', 'None', 'Dresser'),\n",
       " ('pick_and_place_simple', 'TennisRacket', 'None', 'SideTable'),\n",
       " ('pick_and_place_simple', 'TissueBox', 'None', 'CoffeeTable'),\n",
       " ('pick_and_place_simple', 'TissueBox', 'None', 'Dresser'),\n",
       " ('pick_and_place_simple', 'TissueBox', 'None', 'GarbageCan'),\n",
       " ('pick_and_place_simple', 'TissueBox', 'None', 'SideTable'),\n",
       " ('pick_and_place_simple', 'TissueBox', 'None', 'Toilet'),\n",
       " ('pick_and_place_simple', 'ToiletPaper', 'None', 'Drawer'),\n",
       " ('pick_and_place_simple', 'ToiletPaper', 'None', 'GarbageCan'),\n",
       " ('pick_and_place_simple', 'ToiletPaper', 'None', 'Shelf'),\n",
       " ('pick_and_place_simple', 'ToiletPaper', 'None', 'Toilet'),\n",
       " ('pick_and_place_simple', 'ToiletPaper', 'None', 'ToiletPaperHanger'),\n",
       " ('pick_and_place_simple', 'Tomato', 'None', 'DiningTable'),\n",
       " ('pick_and_place_simple', 'Tomato', 'None', 'Microwave'),\n",
       " ('pick_and_place_simple', 'TomatoSliced', 'None', 'CounterTop'),\n",
       " ('pick_and_place_simple', 'TomatoSliced', 'None', 'Fridge'),\n",
       " ('pick_and_place_simple', 'TomatoSliced', 'None', 'SideTable'),\n",
       " ('pick_and_place_simple', 'TomatoSliced', 'None', 'SinkBasin'),\n",
       " ('pick_and_place_simple', 'Vase', 'None', 'CoffeeTable'),\n",
       " ('pick_and_place_simple', 'Vase', 'None', 'Safe'),\n",
       " ('pick_and_place_simple', 'Vase', 'None', 'SideTable'),\n",
       " ('pick_and_place_simple', 'Watch', 'None', 'CoffeeTable'),\n",
       " ('pick_and_place_simple', 'Watch', 'None', 'DiningTable'),\n",
       " ('pick_and_place_simple', 'Watch', 'None', 'Safe'),\n",
       " ('pick_and_place_simple', 'Watch', 'None', 'Shelf'),\n",
       " ('pick_and_place_simple', 'Watch', 'None', 'SideTable'),\n",
       " ('pick_and_place_simple', 'WateringCan', 'None', 'Cabinet'),\n",
       " ('pick_and_place_simple', 'WateringCan', 'None', 'CoffeeTable'),\n",
       " ('pick_and_place_simple', 'WateringCan', 'None', 'Desk'),\n",
       " ('pick_and_place_simple', 'WateringCan', 'None', 'Dresser'),\n",
       " ('pick_and_place_simple', 'WineBottle', 'None', 'DiningTable'),\n",
       " ('pick_and_place_simple', 'WineBottle', 'None', 'Shelf'),\n",
       " ('pick_and_place_with_movable_recep', 'Apple', 'Pan', 'DiningTable'),\n",
       " ('pick_and_place_with_movable_recep', 'Apple', 'Plate', 'Microwave'),\n",
       " ('pick_and_place_with_movable_recep', 'Apple', 'Pot', 'CounterTop'),\n",
       " ('pick_and_place_with_movable_recep', 'Apple', 'Pot', 'Fridge'),\n",
       " ('pick_and_place_with_movable_recep', 'AppleSliced', 'Bowl', 'Fridge'),\n",
       " ('pick_and_place_with_movable_recep', 'AppleSliced', 'Pan', 'CounterTop'),\n",
       " ('pick_and_place_with_movable_recep', 'AppleSliced', 'Pan', 'DiningTable'),\n",
       " ('pick_and_place_with_movable_recep', 'AppleSliced', 'Pan', 'Fridge'),\n",
       " ('pick_and_place_with_movable_recep', 'AppleSliced', 'Plate', 'DiningTable'),\n",
       " ('pick_and_place_with_movable_recep', 'AppleSliced', 'Plate', 'Fridge'),\n",
       " ('pick_and_place_with_movable_recep', 'AppleSliced', 'Pot', 'CounterTop'),\n",
       " ('pick_and_place_with_movable_recep', 'AppleSliced', 'Pot', 'DiningTable'),\n",
       " ('pick_and_place_with_movable_recep', 'AppleSliced', 'Pot', 'Fridge'),\n",
       " ('pick_and_place_with_movable_recep', 'AppleSliced', 'Pot', 'SinkBasin'),\n",
       " ('pick_and_place_with_movable_recep', 'ButterKnife', 'Bowl', 'CounterTop'),\n",
       " ('pick_and_place_with_movable_recep', 'ButterKnife', 'Cup', 'CounterTop'),\n",
       " ('pick_and_place_with_movable_recep', 'ButterKnife', 'Cup', 'DiningTable'),\n",
       " ('pick_and_place_with_movable_recep', 'ButterKnife', 'Cup', 'SideTable'),\n",
       " ('pick_and_place_with_movable_recep', 'ButterKnife', 'Cup', 'SinkBasin'),\n",
       " ('pick_and_place_with_movable_recep', 'ButterKnife', 'Mug', 'CounterTop'),\n",
       " ('pick_and_place_with_movable_recep', 'ButterKnife', 'Mug', 'DiningTable'),\n",
       " ('pick_and_place_with_movable_recep', 'ButterKnife', 'Mug', 'SideTable'),\n",
       " ('pick_and_place_with_movable_recep', 'ButterKnife', 'Mug', 'SinkBasin'),\n",
       " ('pick_and_place_with_movable_recep', 'ButterKnife', 'Pan', 'CounterTop'),\n",
       " ('pick_and_place_with_movable_recep', 'ButterKnife', 'Pan', 'DiningTable'),\n",
       " ('pick_and_place_with_movable_recep', 'ButterKnife', 'Pan', 'SinkBasin'),\n",
       " ('pick_and_place_with_movable_recep', 'ButterKnife', 'Plate', 'CounterTop'),\n",
       " ('pick_and_place_with_movable_recep', 'ButterKnife', 'Plate', 'DiningTable'),\n",
       " ('pick_and_place_with_movable_recep', 'ButterKnife', 'Plate', 'SinkBasin'),\n",
       " ('pick_and_place_with_movable_recep', 'ButterKnife', 'Pot', 'CounterTop'),\n",
       " ('pick_and_place_with_movable_recep', 'ButterKnife', 'Pot', 'DiningTable'),\n",
       " ('pick_and_place_with_movable_recep', 'CD', 'Bowl', 'SideTable'),\n",
       " ('pick_and_place_with_movable_recep', 'Candle', 'Box', 'CoffeeTable'),\n",
       " ('pick_and_place_with_movable_recep', 'Candle', 'Box', 'SideTable'),\n",
       " ('pick_and_place_with_movable_recep', 'Candle', 'Plate', 'CoffeeTable'),\n",
       " ('pick_and_place_with_movable_recep', 'Candle', 'Plate', 'DiningTable'),\n",
       " ('pick_and_place_with_movable_recep', 'CellPhone', 'Bowl', 'CoffeeTable'),\n",
       " ('pick_and_place_with_movable_recep', 'CellPhone', 'Bowl', 'Desk'),\n",
       " ('pick_and_place_with_movable_recep', 'CellPhone', 'Bowl', 'Dresser'),\n",
       " ('pick_and_place_with_movable_recep', 'CellPhone', 'Box', 'ArmChair'),\n",
       " ('pick_and_place_with_movable_recep', 'CellPhone', 'Box', 'Desk'),\n",
       " ('pick_and_place_with_movable_recep', 'CellPhone', 'Box', 'SideTable'),\n",
       " ('pick_and_place_with_movable_recep', 'CellPhone', 'Box', 'Sofa'),\n",
       " ('pick_and_place_with_movable_recep', 'CellPhone', 'Plate', 'CoffeeTable'),\n",
       " ('pick_and_place_with_movable_recep', 'CellPhone', 'Plate', 'Dresser'),\n",
       " ('pick_and_place_with_movable_recep', 'CellPhone', 'Plate', 'SideTable'),\n",
       " ('pick_and_place_with_movable_recep', 'CreditCard', 'Bowl', 'CoffeeTable'),\n",
       " ('pick_and_place_with_movable_recep', 'CreditCard', 'Bowl', 'Desk'),\n",
       " ('pick_and_place_with_movable_recep', 'CreditCard', 'Bowl', 'Dresser'),\n",
       " ('pick_and_place_with_movable_recep', 'CreditCard', 'Bowl', 'SideTable'),\n",
       " ('pick_and_place_with_movable_recep', 'CreditCard', 'Box', 'ArmChair'),\n",
       " ('pick_and_place_with_movable_recep', 'CreditCard', 'Box', 'CoffeeTable'),\n",
       " ('pick_and_place_with_movable_recep', 'CreditCard', 'Box', 'Desk'),\n",
       " ('pick_and_place_with_movable_recep', 'CreditCard', 'Box', 'Dresser'),\n",
       " ('pick_and_place_with_movable_recep', 'CreditCard', 'Box', 'Shelf'),\n",
       " ('pick_and_place_with_movable_recep', 'CreditCard', 'Box', 'SideTable'),\n",
       " ('pick_and_place_with_movable_recep', 'CreditCard', 'Box', 'Sofa'),\n",
       " ('pick_and_place_with_movable_recep', 'CreditCard', 'Plate', 'CoffeeTable'),\n",
       " ('pick_and_place_with_movable_recep', 'CreditCard', 'Plate', 'Shelf'),\n",
       " ('pick_and_place_with_movable_recep', 'CreditCard', 'Plate', 'SideTable'),\n",
       " ('pick_and_place_with_movable_recep', 'DishSponge', 'Bowl', 'Cabinet'),\n",
       " ('pick_and_place_with_movable_recep', 'DishSponge', 'Bowl', 'Shelf'),\n",
       " ('pick_and_place_with_movable_recep', 'DishSponge', 'Pan', 'Cabinet'),\n",
       " ('pick_and_place_with_movable_recep', 'DishSponge', 'Pan', 'CounterTop'),\n",
       " ('pick_and_place_with_movable_recep', 'DishSponge', 'Pan', 'DiningTable'),\n",
       " ('pick_and_place_with_movable_recep', 'DishSponge', 'Pan', 'SinkBasin'),\n",
       " ('pick_and_place_with_movable_recep', 'DishSponge', 'Plate', 'Cabinet'),\n",
       " ('pick_and_place_with_movable_recep', 'DishSponge', 'Plate', 'DiningTable'),\n",
       " ('pick_and_place_with_movable_recep', 'DishSponge', 'Pot', 'Cabinet'),\n",
       " ('pick_and_place_with_movable_recep', 'DishSponge', 'Pot', 'DiningTable'),\n",
       " ('pick_and_place_with_movable_recep', 'DishSponge', 'Pot', 'SinkBasin'),\n",
       " ('pick_and_place_with_movable_recep', 'Egg', 'Bowl', 'CounterTop'),\n",
       " ('pick_and_place_with_movable_recep', 'Egg', 'Pan', 'Fridge'),\n",
       " ('pick_and_place_with_movable_recep', 'Egg', 'Plate', 'CounterTop'),\n",
       " ('pick_and_place_with_movable_recep', 'Egg', 'Plate', 'Fridge'),\n",
       " ('pick_and_place_with_movable_recep', 'Fork', 'Bowl', 'CounterTop'),\n",
       " ('pick_and_place_with_movable_recep', 'Fork', 'Cup', 'CounterTop'),\n",
       " ('pick_and_place_with_movable_recep', 'Fork', 'Cup', 'DiningTable'),\n",
       " ('pick_and_place_with_movable_recep', 'Fork', 'Cup', 'SinkBasin'),\n",
       " ('pick_and_place_with_movable_recep', 'Fork', 'Mug', 'CounterTop'),\n",
       " ('pick_and_place_with_movable_recep', 'Fork', 'Mug', 'DiningTable'),\n",
       " ('pick_and_place_with_movable_recep', 'Fork', 'Mug', 'SideTable'),\n",
       " ('pick_and_place_with_movable_recep', 'Fork', 'Mug', 'SinkBasin'),\n",
       " ('pick_and_place_with_movable_recep', 'Fork', 'Pan', 'CounterTop'),\n",
       " ('pick_and_place_with_movable_recep', 'Fork', 'Pan', 'DiningTable'),\n",
       " ('pick_and_place_with_movable_recep', 'Fork', 'Pan', 'SinkBasin'),\n",
       " ('pick_and_place_with_movable_recep', 'Fork', 'Plate', 'CounterTop'),\n",
       " ('pick_and_place_with_movable_recep', 'Fork', 'Plate', 'SinkBasin'),\n",
       " ('pick_and_place_with_movable_recep', 'Glassbottle', 'Plate', 'SinkBasin'),\n",
       " ('pick_and_place_with_movable_recep', 'KeyChain', 'Box', 'ArmChair'),\n",
       " ('pick_and_place_with_movable_recep', 'KeyChain', 'Box', 'CoffeeTable'),\n",
       " ('pick_and_place_with_movable_recep', 'KeyChain', 'Box', 'Dresser'),\n",
       " ('pick_and_place_with_movable_recep', 'KeyChain', 'Box', 'Sofa'),\n",
       " ('pick_and_place_with_movable_recep', 'KeyChain', 'Plate', 'CoffeeTable'),\n",
       " ('pick_and_place_with_movable_recep', 'KeyChain', 'Plate', 'Shelf'),\n",
       " ('pick_and_place_with_movable_recep', 'KeyChain', 'Plate', 'SideTable'),\n",
       " ('pick_and_place_with_movable_recep', 'Knife', 'Bowl', 'SideTable'),\n",
       " ('pick_and_place_with_movable_recep', 'Knife', 'Mug', 'CounterTop'),\n",
       " ('pick_and_place_with_movable_recep', 'Knife', 'Mug', 'DiningTable'),\n",
       " ('pick_and_place_with_movable_recep', 'Knife', 'Mug', 'SideTable'),\n",
       " ('pick_and_place_with_movable_recep', 'Knife', 'Mug', 'SinkBasin'),\n",
       " ('pick_and_place_with_movable_recep', 'Knife', 'Pan', 'CounterTop'),\n",
       " ('pick_and_place_with_movable_recep', 'Knife', 'Pan', 'DiningTable'),\n",
       " ('pick_and_place_with_movable_recep', 'Knife', 'Plate', 'DiningTable'),\n",
       " ('pick_and_place_with_movable_recep', 'Knife', 'Plate', 'SinkBasin'),\n",
       " ('pick_and_place_with_movable_recep', 'Knife', 'Pot', 'CounterTop'),\n",
       " ('pick_and_place_with_movable_recep', 'Knife', 'Pot', 'DiningTable'),\n",
       " ('pick_and_place_with_movable_recep', 'Knife', 'Pot', 'SinkBasin'),\n",
       " ('pick_and_place_with_movable_recep', 'Ladle', 'Bowl', 'Cabinet'),\n",
       " ('pick_and_place_with_movable_recep', 'Ladle', 'Bowl', 'SinkBasin'),\n",
       " ('pick_and_place_with_movable_recep', 'Ladle', 'Pan', 'Cabinet'),\n",
       " ('pick_and_place_with_movable_recep', 'Ladle', 'Pan', 'CounterTop'),\n",
       " ('pick_and_place_with_movable_recep', 'Ladle', 'Pan', 'DiningTable'),\n",
       " ('pick_and_place_with_movable_recep', 'Ladle', 'Pan', 'SinkBasin'),\n",
       " ('pick_and_place_with_movable_recep', 'Ladle', 'Plate', 'Cabinet'),\n",
       " ('pick_and_place_with_movable_recep', 'Ladle', 'Plate', 'CounterTop'),\n",
       " ('pick_and_place_with_movable_recep', 'Ladle', 'Plate', 'SinkBasin'),\n",
       " ('pick_and_place_with_movable_recep', 'LettuceSliced', 'Bowl', 'Fridge'),\n",
       " ('pick_and_place_with_movable_recep', 'LettuceSliced', 'Pan', 'DiningTable'),\n",
       " ('pick_and_place_with_movable_recep', 'LettuceSliced', 'Pan', 'Fridge'),\n",
       " ('pick_and_place_with_movable_recep',\n",
       "  'LettuceSliced',\n",
       "  'Plate',\n",
       "  'DiningTable'),\n",
       " ('pick_and_place_with_movable_recep', 'LettuceSliced', 'Plate', 'Fridge'),\n",
       " ('pick_and_place_with_movable_recep', 'LettuceSliced', 'Plate', 'SideTable'),\n",
       " ('pick_and_place_with_movable_recep', 'LettuceSliced', 'Pot', 'CounterTop'),\n",
       " ('pick_and_place_with_movable_recep', 'LettuceSliced', 'Pot', 'DiningTable'),\n",
       " ('pick_and_place_with_movable_recep', 'LettuceSliced', 'Pot', 'SinkBasin'),\n",
       " ('pick_and_place_with_movable_recep', 'Pen', 'Bowl', 'Desk'),\n",
       " ('pick_and_place_with_movable_recep', 'Pen', 'Bowl', 'Dresser'),\n",
       " ('pick_and_place_with_movable_recep', 'Pen', 'Bowl', 'Shelf'),\n",
       " ('pick_and_place_with_movable_recep', 'Pen', 'Bowl', 'SideTable'),\n",
       " ('pick_and_place_with_movable_recep', 'Pen', 'Mug', 'CounterTop'),\n",
       " ('pick_and_place_with_movable_recep', 'Pen', 'Mug', 'Desk'),\n",
       " ('pick_and_place_with_movable_recep', 'Pen', 'Mug', 'DiningTable'),\n",
       " ('pick_and_place_with_movable_recep', 'Pen', 'Mug', 'Dresser'),\n",
       " ('pick_and_place_with_movable_recep', 'Pen', 'Mug', 'Shelf'),\n",
       " ('pick_and_place_with_movable_recep', 'Pen', 'Mug', 'SideTable'),\n",
       " ('pick_and_place_with_movable_recep', 'Pen', 'Plate', 'CoffeeTable'),\n",
       " ('pick_and_place_with_movable_recep', 'Pencil', 'Bowl', 'CoffeeTable'),\n",
       " ('pick_and_place_with_movable_recep', 'Pencil', 'Bowl', 'CounterTop'),\n",
       " ('pick_and_place_with_movable_recep', 'Pencil', 'Bowl', 'Desk'),\n",
       " ('pick_and_place_with_movable_recep', 'Pencil', 'Bowl', 'Dresser'),\n",
       " ('pick_and_place_with_movable_recep', 'Pencil', 'Bowl', 'Shelf'),\n",
       " ('pick_and_place_with_movable_recep', 'Pencil', 'Bowl', 'SideTable'),\n",
       " ('pick_and_place_with_movable_recep', 'Pencil', 'Box', 'CoffeeTable'),\n",
       " ('pick_and_place_with_movable_recep', 'Pencil', 'Box', 'DiningTable'),\n",
       " ('pick_and_place_with_movable_recep', 'Pencil', 'Mug', 'Desk'),\n",
       " ('pick_and_place_with_movable_recep', 'Pencil', 'Mug', 'Dresser'),\n",
       " ('pick_and_place_with_movable_recep', 'Pencil', 'Mug', 'Shelf'),\n",
       " ('pick_and_place_with_movable_recep', 'Pencil', 'Mug', 'SideTable'),\n",
       " ('pick_and_place_with_movable_recep', 'Pencil', 'Plate', 'CoffeeTable'),\n",
       " ('pick_and_place_with_movable_recep', 'Potato', 'Bowl', 'Microwave'),\n",
       " ('pick_and_place_with_movable_recep', 'Potato', 'Pot', 'Fridge'),\n",
       " ('pick_and_place_with_movable_recep', 'PotatoSliced', 'Bowl', 'DiningTable'),\n",
       " ('pick_and_place_with_movable_recep', 'PotatoSliced', 'Pan', 'DiningTable'),\n",
       " ('pick_and_place_with_movable_recep', 'PotatoSliced', 'Pan', 'Fridge'),\n",
       " ('pick_and_place_with_movable_recep', 'PotatoSliced', 'Plate', 'Fridge'),\n",
       " ('pick_and_place_with_movable_recep', 'PotatoSliced', 'Pot', 'CounterTop'),\n",
       " ('pick_and_place_with_movable_recep', 'PotatoSliced', 'Pot', 'DiningTable'),\n",
       " ('pick_and_place_with_movable_recep', 'PotatoSliced', 'Pot', 'Fridge'),\n",
       " ('pick_and_place_with_movable_recep', 'PotatoSliced', 'Pot', 'SinkBasin'),\n",
       " ('pick_and_place_with_movable_recep', 'RemoteControl', 'Box', 'ArmChair'),\n",
       " ('pick_and_place_with_movable_recep', 'RemoteControl', 'Box', 'CoffeeTable'),\n",
       " ('pick_and_place_with_movable_recep', 'RemoteControl', 'Box', 'Desk'),\n",
       " ('pick_and_place_with_movable_recep', 'RemoteControl', 'Box', 'Shelf'),\n",
       " ('pick_and_place_with_movable_recep', 'RemoteControl', 'Box', 'Sofa'),\n",
       " ('pick_and_place_with_movable_recep', 'Spatula', 'Bowl', 'CounterTop'),\n",
       " ('pick_and_place_with_movable_recep', 'Spatula', 'Bowl', 'DiningTable'),\n",
       " ('pick_and_place_with_movable_recep', 'Spatula', 'Bowl', 'SideTable'),\n",
       " ('pick_and_place_with_movable_recep', 'Spatula', 'Pan', 'CounterTop'),\n",
       " ('pick_and_place_with_movable_recep', 'Spatula', 'Pan', 'DiningTable'),\n",
       " ('pick_and_place_with_movable_recep', 'Spatula', 'Pan', 'SinkBasin'),\n",
       " ('pick_and_place_with_movable_recep', 'Spatula', 'Plate', 'DiningTable'),\n",
       " ('pick_and_place_with_movable_recep', 'Spatula', 'Plate', 'SinkBasin'),\n",
       " ('pick_and_place_with_movable_recep', 'Spatula', 'Pot', 'CounterTop'),\n",
       " ('pick_and_place_with_movable_recep', 'Spatula', 'Pot', 'DiningTable'),\n",
       " ('pick_and_place_with_movable_recep', 'Spoon', 'Bowl', 'DiningTable'),\n",
       " ('pick_and_place_with_movable_recep', 'Spoon', 'Bowl', 'SinkBasin'),\n",
       " ('pick_and_place_with_movable_recep', 'Spoon', 'Cup', 'CounterTop'),\n",
       " ('pick_and_place_with_movable_recep', 'Spoon', 'Cup', 'DiningTable'),\n",
       " ('pick_and_place_with_movable_recep', 'Spoon', 'Cup', 'SinkBasin'),\n",
       " ('pick_and_place_with_movable_recep', 'Spoon', 'Mug', 'CounterTop'),\n",
       " ('pick_and_place_with_movable_recep', 'Spoon', 'Mug', 'DiningTable'),\n",
       " ('pick_and_place_with_movable_recep', 'Spoon', 'Mug', 'SideTable'),\n",
       " ('pick_and_place_with_movable_recep', 'Spoon', 'Mug', 'SinkBasin'),\n",
       " ('pick_and_place_with_movable_recep', 'Spoon', 'Pan', 'DiningTable'),\n",
       " ('pick_and_place_with_movable_recep', 'Spoon', 'Pan', 'SinkBasin'),\n",
       " ('pick_and_place_with_movable_recep', 'Spoon', 'Plate', 'DiningTable'),\n",
       " ('pick_and_place_with_movable_recep', 'Spoon', 'Pot', 'CounterTop'),\n",
       " ('pick_and_place_with_movable_recep', 'Spoon', 'Pot', 'DiningTable'),\n",
       " ('pick_and_place_with_movable_recep', 'Statue', 'Box', 'CoffeeTable'),\n",
       " ('pick_and_place_with_movable_recep', 'Statue', 'Box', 'Desk'),\n",
       " ('pick_and_place_with_movable_recep', 'TissueBox', 'Plate', 'DiningTable'),\n",
       " ('pick_and_place_with_movable_recep', 'Tomato', 'Pan', 'CounterTop'),\n",
       " ('pick_and_place_with_movable_recep', 'Tomato', 'Plate', 'CounterTop'),\n",
       " ('pick_and_place_with_movable_recep', 'Tomato', 'Plate', 'Fridge'),\n",
       " ('pick_and_place_with_movable_recep', 'TomatoSliced', 'Bowl', 'Fridge'),\n",
       " ('pick_and_place_with_movable_recep', 'TomatoSliced', 'Bowl', 'Microwave'),\n",
       " ('pick_and_place_with_movable_recep', 'TomatoSliced', 'Pan', 'CounterTop'),\n",
       " ('pick_and_place_with_movable_recep', 'TomatoSliced', 'Pan', 'DiningTable'),\n",
       " ('pick_and_place_with_movable_recep', 'TomatoSliced', 'Pan', 'Fridge'),\n",
       " ('pick_and_place_with_movable_recep', 'TomatoSliced', 'Plate', 'DiningTable'),\n",
       " ('pick_and_place_with_movable_recep', 'TomatoSliced', 'Plate', 'Fridge'),\n",
       " ('pick_and_place_with_movable_recep', 'TomatoSliced', 'Plate', 'Microwave'),\n",
       " ('pick_and_place_with_movable_recep', 'TomatoSliced', 'Pot', 'DiningTable'),\n",
       " ('pick_and_place_with_movable_recep', 'TomatoSliced', 'Pot', 'Fridge'),\n",
       " ('pick_and_place_with_movable_recep', 'Vase', 'Box', 'CoffeeTable'),\n",
       " ('pick_and_place_with_movable_recep', 'Vase', 'Box', 'DiningTable'),\n",
       " ('pick_and_place_with_movable_recep', 'Watch', 'Bowl', 'Shelf'),\n",
       " ('pick_and_place_with_movable_recep', 'Watch', 'Bowl', 'SideTable'),\n",
       " ('pick_and_place_with_movable_recep', 'Watch', 'Box', 'CoffeeTable'),\n",
       " ('pick_and_place_with_movable_recep', 'Watch', 'Box', 'DiningTable'),\n",
       " ('pick_and_place_with_movable_recep', 'Watch', 'Plate', 'CoffeeTable'),\n",
       " ('pick_and_place_with_movable_recep', 'Watch', 'Plate', 'SideTable'),\n",
       " ('pick_clean_then_place_in_recep', 'Apple', 'None', 'DiningTable'),\n",
       " ('pick_clean_then_place_in_recep', 'Apple', 'None', 'Fridge'),\n",
       " ('pick_clean_then_place_in_recep', 'Apple', 'None', 'Microwave'),\n",
       " ('pick_clean_then_place_in_recep', 'Apple', 'None', 'SideTable'),\n",
       " ('pick_clean_then_place_in_recep', 'AppleSliced', 'None', 'CounterTop'),\n",
       " ('pick_clean_then_place_in_recep', 'AppleSliced', 'None', 'DiningTable'),\n",
       " ('pick_clean_then_place_in_recep', 'AppleSliced', 'None', 'Fridge'),\n",
       " ('pick_clean_then_place_in_recep', 'AppleSliced', 'None', 'GarbageCan'),\n",
       " ('pick_clean_then_place_in_recep', 'AppleSliced', 'None', 'Microwave'),\n",
       " ('pick_clean_then_place_in_recep', 'AppleSliced', 'None', 'SideTable'),\n",
       " ('pick_clean_then_place_in_recep', 'Bowl', 'None', 'Cabinet'),\n",
       " ('pick_clean_then_place_in_recep', 'Bowl', 'None', 'DiningTable'),\n",
       " ('pick_clean_then_place_in_recep', 'Bowl', 'None', 'Fridge'),\n",
       " ('pick_clean_then_place_in_recep', 'Bowl', 'None', 'Microwave'),\n",
       " ('pick_clean_then_place_in_recep', 'Bowl', 'None', 'Shelf'),\n",
       " ('pick_clean_then_place_in_recep', 'ButterKnife', 'None', 'CounterTop'),\n",
       " ('pick_clean_then_place_in_recep', 'ButterKnife', 'None', 'DiningTable'),\n",
       " ('pick_clean_then_place_in_recep', 'ButterKnife', 'None', 'Drawer'),\n",
       " ('pick_clean_then_place_in_recep', 'ButterKnife', 'None', 'SideTable'),\n",
       " ('pick_clean_then_place_in_recep', 'Cloth', 'None', 'BathtubBasin'),\n",
       " ('pick_clean_then_place_in_recep', 'Cloth', 'None', 'Cabinet'),\n",
       " ('pick_clean_then_place_in_recep', 'Cloth', 'None', 'Cart'),\n",
       " ('pick_clean_then_place_in_recep', 'Cloth', 'None', 'CounterTop'),\n",
       " ('pick_clean_then_place_in_recep', 'Cloth', 'None', 'Drawer'),\n",
       " ('pick_clean_then_place_in_recep', 'Cloth', 'None', 'Dresser'),\n",
       " ('pick_clean_then_place_in_recep', 'Cloth', 'None', 'Shelf'),\n",
       " ('pick_clean_then_place_in_recep', 'Cloth', 'None', 'Toilet'),\n",
       " ('pick_clean_then_place_in_recep', 'Cup', 'None', 'Cabinet'),\n",
       " ('pick_clean_then_place_in_recep', 'Cup', 'None', 'Microwave'),\n",
       " ('pick_clean_then_place_in_recep', 'Cup', 'None', 'Shelf'),\n",
       " ('pick_clean_then_place_in_recep', 'Cup', 'None', 'SideTable'),\n",
       " ('pick_clean_then_place_in_recep', 'DishSponge', 'None', 'BathtubBasin'),\n",
       " ('pick_clean_then_place_in_recep', 'DishSponge', 'None', 'Cabinet'),\n",
       " ('pick_clean_then_place_in_recep', 'DishSponge', 'None', 'Cart'),\n",
       " ('pick_clean_then_place_in_recep', 'DishSponge', 'None', 'CounterTop'),\n",
       " ('pick_clean_then_place_in_recep', 'DishSponge', 'None', 'Drawer'),\n",
       " ('pick_clean_then_place_in_recep', 'DishSponge', 'None', 'Shelf'),\n",
       " ('pick_clean_then_place_in_recep', 'DishSponge', 'None', 'Toilet'),\n",
       " ('pick_clean_then_place_in_recep', 'Egg', 'None', 'CounterTop'),\n",
       " ('pick_clean_then_place_in_recep', 'Egg', 'None', 'DiningTable'),\n",
       " ('pick_clean_then_place_in_recep', 'Egg', 'None', 'Fridge'),\n",
       " ('pick_clean_then_place_in_recep', 'Egg', 'None', 'GarbageCan'),\n",
       " ('pick_clean_then_place_in_recep', 'Egg', 'None', 'Microwave'),\n",
       " ('pick_clean_then_place_in_recep', 'Egg', 'None', 'SideTable'),\n",
       " ('pick_clean_then_place_in_recep', 'Fork', 'None', 'CounterTop'),\n",
       " ('pick_clean_then_place_in_recep', 'Fork', 'None', 'DiningTable'),\n",
       " ('pick_clean_then_place_in_recep', 'Fork', 'None', 'Drawer'),\n",
       " ('pick_clean_then_place_in_recep', 'Fork', 'None', 'SideTable'),\n",
       " ('pick_clean_then_place_in_recep', 'Kettle', 'None', 'Cabinet'),\n",
       " ('pick_clean_then_place_in_recep', 'Kettle', 'None', 'CounterTop'),\n",
       " ('pick_clean_then_place_in_recep', 'Kettle', 'None', 'DiningTable'),\n",
       " ('pick_clean_then_place_in_recep', 'Kettle', 'None', 'Shelf'),\n",
       " ('pick_clean_then_place_in_recep', 'Kettle', 'None', 'StoveBurner'),\n",
       " ('pick_clean_then_place_in_recep', 'Knife', 'None', 'CounterTop'),\n",
       " ('pick_clean_then_place_in_recep', 'Knife', 'None', 'DiningTable'),\n",
       " ('pick_clean_then_place_in_recep', 'Knife', 'None', 'Drawer'),\n",
       " ('pick_clean_then_place_in_recep', 'Knife', 'None', 'SideTable'),\n",
       " ('pick_clean_then_place_in_recep', 'Ladle', 'None', 'Cabinet'),\n",
       " ('pick_clean_then_place_in_recep', 'Ladle', 'None', 'CounterTop'),\n",
       " ('pick_clean_then_place_in_recep', 'Ladle', 'None', 'DiningTable'),\n",
       " ('pick_clean_then_place_in_recep', 'Ladle', 'None', 'Drawer'),\n",
       " ('pick_clean_then_place_in_recep', 'Lettuce', 'None', 'CounterTop'),\n",
       " ('pick_clean_then_place_in_recep', 'Lettuce', 'None', 'DiningTable'),\n",
       " ('pick_clean_then_place_in_recep', 'Lettuce', 'None', 'Fridge'),\n",
       " ('pick_clean_then_place_in_recep', 'Lettuce', 'None', 'GarbageCan'),\n",
       " ('pick_clean_then_place_in_recep', 'Lettuce', 'None', 'SideTable'),\n",
       " ('pick_clean_then_place_in_recep', 'LettuceSliced', 'None', 'CounterTop'),\n",
       " ('pick_clean_then_place_in_recep', 'LettuceSliced', 'None', 'DiningTable'),\n",
       " ('pick_clean_then_place_in_recep', 'LettuceSliced', 'None', 'Fridge'),\n",
       " ('pick_clean_then_place_in_recep', 'LettuceSliced', 'None', 'GarbageCan'),\n",
       " ('pick_clean_then_place_in_recep', 'LettuceSliced', 'None', 'SideTable'),\n",
       " ('pick_clean_then_place_in_recep', 'Mug', 'None', 'CoffeeMachine'),\n",
       " ('pick_clean_then_place_in_recep', 'Pan', 'None', 'Cabinet'),\n",
       " ('pick_clean_then_place_in_recep', 'Pan', 'None', 'CounterTop'),\n",
       " ('pick_clean_then_place_in_recep', 'Pan', 'None', 'DiningTable'),\n",
       " ('pick_clean_then_place_in_recep', 'Pan', 'None', 'Fridge'),\n",
       " ('pick_clean_then_place_in_recep', 'Pan', 'None', 'StoveBurner'),\n",
       " ('pick_clean_then_place_in_recep', 'Plate', 'None', 'Cabinet'),\n",
       " ('pick_clean_then_place_in_recep', 'Plate', 'None', 'CounterTop'),\n",
       " ('pick_clean_then_place_in_recep', 'Plate', 'None', 'DiningTable'),\n",
       " ('pick_clean_then_place_in_recep', 'Plate', 'None', 'Fridge'),\n",
       " ('pick_clean_then_place_in_recep', 'Plate', 'None', 'Microwave'),\n",
       " ('pick_clean_then_place_in_recep', 'Plate', 'None', 'Shelf'),\n",
       " ('pick_clean_then_place_in_recep', 'Pot', 'None', 'DiningTable'),\n",
       " ('pick_clean_then_place_in_recep', 'Pot', 'None', 'Fridge'),\n",
       " ('pick_clean_then_place_in_recep', 'Pot', 'None', 'Shelf'),\n",
       " ('pick_clean_then_place_in_recep', 'Pot', 'None', 'StoveBurner'),\n",
       " ('pick_clean_then_place_in_recep', 'Potato', 'None', 'CounterTop'),\n",
       " ('pick_clean_then_place_in_recep', 'Potato', 'None', 'DiningTable'),\n",
       " ('pick_clean_then_place_in_recep', 'Potato', 'None', 'Fridge'),\n",
       " ('pick_clean_then_place_in_recep', 'Potato', 'None', 'GarbageCan'),\n",
       " ('pick_clean_then_place_in_recep', 'Potato', 'None', 'Microwave'),\n",
       " ('pick_clean_then_place_in_recep', 'Potato', 'None', 'SideTable'),\n",
       " ('pick_clean_then_place_in_recep', 'PotatoSliced', 'None', 'CounterTop'),\n",
       " ('pick_clean_then_place_in_recep', 'PotatoSliced', 'None', 'DiningTable'),\n",
       " ('pick_clean_then_place_in_recep', 'PotatoSliced', 'None', 'Fridge'),\n",
       " ('pick_clean_then_place_in_recep', 'PotatoSliced', 'None', 'Microwave'),\n",
       " ('pick_clean_then_place_in_recep', 'PotatoSliced', 'None', 'SideTable'),\n",
       " ('pick_clean_then_place_in_recep', 'SoapBar', 'None', 'BathtubBasin'),\n",
       " ('pick_clean_then_place_in_recep', 'SoapBar', 'None', 'Cabinet'),\n",
       " ('pick_clean_then_place_in_recep', 'SoapBar', 'None', 'Cart'),\n",
       " ('pick_clean_then_place_in_recep', 'SoapBar', 'None', 'CounterTop'),\n",
       " ('pick_clean_then_place_in_recep', 'SoapBar', 'None', 'Drawer'),\n",
       " ('pick_clean_then_place_in_recep', 'SoapBar', 'None', 'GarbageCan'),\n",
       " ('pick_clean_then_place_in_recep', 'SoapBar', 'None', 'Shelf'),\n",
       " ('pick_clean_then_place_in_recep', 'SoapBar', 'None', 'Toilet'),\n",
       " ('pick_clean_then_place_in_recep', 'Spatula', 'None', 'CounterTop'),\n",
       " ('pick_clean_then_place_in_recep', 'Spatula', 'None', 'DiningTable'),\n",
       " ('pick_clean_then_place_in_recep', 'Spatula', 'None', 'Drawer'),\n",
       " ('pick_clean_then_place_in_recep', 'Spatula', 'None', 'SideTable'),\n",
       " ('pick_clean_then_place_in_recep', 'Spoon', 'None', 'CounterTop'),\n",
       " ('pick_clean_then_place_in_recep', 'Spoon', 'None', 'DiningTable'),\n",
       " ('pick_clean_then_place_in_recep', 'Spoon', 'None', 'Drawer'),\n",
       " ('pick_clean_then_place_in_recep', 'Spoon', 'None', 'SideTable'),\n",
       " ('pick_clean_then_place_in_recep', 'Tomato', 'None', 'CounterTop'),\n",
       " ('pick_clean_then_place_in_recep', 'Tomato', 'None', 'DiningTable'),\n",
       " ('pick_clean_then_place_in_recep', 'Tomato', 'None', 'Fridge'),\n",
       " ('pick_clean_then_place_in_recep', 'Tomato', 'None', 'GarbageCan'),\n",
       " ('pick_clean_then_place_in_recep', 'Tomato', 'None', 'Microwave'),\n",
       " ('pick_clean_then_place_in_recep', 'Tomato', 'None', 'SideTable'),\n",
       " ('pick_clean_then_place_in_recep', 'TomatoSliced', 'None', 'CounterTop'),\n",
       " ('pick_clean_then_place_in_recep', 'TomatoSliced', 'None', 'DiningTable'),\n",
       " ('pick_clean_then_place_in_recep', 'TomatoSliced', 'None', 'Fridge'),\n",
       " ('pick_clean_then_place_in_recep', 'TomatoSliced', 'None', 'GarbageCan'),\n",
       " ('pick_clean_then_place_in_recep', 'TomatoSliced', 'None', 'Microwave'),\n",
       " ('pick_clean_then_place_in_recep', 'TomatoSliced', 'None', 'SideTable'),\n",
       " ('pick_cool_then_place_in_recep', 'Apple', 'None', 'CounterTop'),\n",
       " ('pick_cool_then_place_in_recep', 'Apple', 'None', 'DiningTable'),\n",
       " ('pick_cool_then_place_in_recep', 'Apple', 'None', 'GarbageCan'),\n",
       " ('pick_cool_then_place_in_recep', 'Apple', 'None', 'Microwave'),\n",
       " ('pick_cool_then_place_in_recep', 'Apple', 'None', 'SideTable'),\n",
       " ('pick_cool_then_place_in_recep', 'Apple', 'None', 'SinkBasin'),\n",
       " ('pick_cool_then_place_in_recep', 'AppleSliced', 'None', 'CounterTop'),\n",
       " ('pick_cool_then_place_in_recep', 'AppleSliced', 'None', 'DiningTable'),\n",
       " ('pick_cool_then_place_in_recep', 'AppleSliced', 'None', 'GarbageCan'),\n",
       " ('pick_cool_then_place_in_recep', 'AppleSliced', 'None', 'Microwave'),\n",
       " ('pick_cool_then_place_in_recep', 'AppleSliced', 'None', 'SideTable'),\n",
       " ('pick_cool_then_place_in_recep', 'Bowl', 'None', 'Cabinet'),\n",
       " ('pick_cool_then_place_in_recep', 'Bowl', 'None', 'CounterTop'),\n",
       " ('pick_cool_then_place_in_recep', 'Bowl', 'None', 'DiningTable'),\n",
       " ('pick_cool_then_place_in_recep', 'Bowl', 'None', 'Microwave'),\n",
       " ('pick_cool_then_place_in_recep', 'Bowl', 'None', 'Shelf'),\n",
       " ('pick_cool_then_place_in_recep', 'Bowl', 'None', 'SinkBasin'),\n",
       " ('pick_cool_then_place_in_recep', 'Bread', 'None', 'CounterTop'),\n",
       " ('pick_cool_then_place_in_recep', 'Bread', 'None', 'DiningTable'),\n",
       " ('pick_cool_then_place_in_recep', 'Bread', 'None', 'Microwave'),\n",
       " ('pick_cool_then_place_in_recep', 'BreadSliced', 'None', 'CounterTop'),\n",
       " ('pick_cool_then_place_in_recep', 'BreadSliced', 'None', 'DiningTable'),\n",
       " ('pick_cool_then_place_in_recep', 'BreadSliced', 'None', 'GarbageCan'),\n",
       " ('pick_cool_then_place_in_recep', 'BreadSliced', 'None', 'Microwave'),\n",
       " ('pick_cool_then_place_in_recep', 'BreadSliced', 'None', 'SideTable'),\n",
       " ('pick_cool_then_place_in_recep', 'Cup', 'None', 'Cabinet'),\n",
       " ('pick_cool_then_place_in_recep', 'Cup', 'None', 'DiningTable'),\n",
       " ('pick_cool_then_place_in_recep', 'Cup', 'None', 'Microwave'),\n",
       " ('pick_cool_then_place_in_recep', 'Cup', 'None', 'Shelf'),\n",
       " ('pick_cool_then_place_in_recep', 'Cup', 'None', 'SideTable'),\n",
       " ('pick_cool_then_place_in_recep', 'Cup', 'None', 'SinkBasin'),\n",
       " ('pick_cool_then_place_in_recep', 'Egg', 'None', 'CounterTop'),\n",
       " ('pick_cool_then_place_in_recep', 'Egg', 'None', 'GarbageCan'),\n",
       " ('pick_cool_then_place_in_recep', 'Egg', 'None', 'Microwave'),\n",
       " ('pick_cool_then_place_in_recep', 'Egg', 'None', 'SideTable'),\n",
       " ('pick_cool_then_place_in_recep', 'Egg', 'None', 'SinkBasin'),\n",
       " ('pick_cool_then_place_in_recep', 'Lettuce', 'None', 'CounterTop'),\n",
       " ('pick_cool_then_place_in_recep', 'Lettuce', 'None', 'DiningTable'),\n",
       " ('pick_cool_then_place_in_recep', 'Lettuce', 'None', 'GarbageCan'),\n",
       " ('pick_cool_then_place_in_recep', 'Lettuce', 'None', 'SinkBasin'),\n",
       " ('pick_cool_then_place_in_recep', 'LettuceSliced', 'None', 'CounterTop'),\n",
       " ('pick_cool_then_place_in_recep', 'LettuceSliced', 'None', 'DiningTable'),\n",
       " ('pick_cool_then_place_in_recep', 'LettuceSliced', 'None', 'GarbageCan'),\n",
       " ('pick_cool_then_place_in_recep', 'LettuceSliced', 'None', 'SinkBasin'),\n",
       " ('pick_cool_then_place_in_recep', 'Mug', 'None', 'Cabinet'),\n",
       " ('pick_cool_then_place_in_recep', 'Mug', 'None', 'CoffeeMachine'),\n",
       " ('pick_cool_then_place_in_recep', 'Mug', 'None', 'Microwave'),\n",
       " ('pick_cool_then_place_in_recep', 'Mug', 'None', 'Shelf'),\n",
       " ('pick_cool_then_place_in_recep', 'Mug', 'None', 'SideTable'),\n",
       " ('pick_cool_then_place_in_recep', 'Mug', 'None', 'SinkBasin'),\n",
       " ('pick_cool_then_place_in_recep', 'Pan', 'None', 'Cabinet'),\n",
       " ('pick_cool_then_place_in_recep', 'Pan', 'None', 'CounterTop'),\n",
       " ('pick_cool_then_place_in_recep', 'Pan', 'None', 'DiningTable'),\n",
       " ('pick_cool_then_place_in_recep', 'Pan', 'None', 'SinkBasin'),\n",
       " ('pick_cool_then_place_in_recep', 'Pan', 'None', 'StoveBurner'),\n",
       " ('pick_cool_then_place_in_recep', 'Plate', 'None', 'Cabinet'),\n",
       " ('pick_cool_then_place_in_recep', 'Plate', 'None', 'CounterTop'),\n",
       " ('pick_cool_then_place_in_recep', 'Plate', 'None', 'DiningTable'),\n",
       " ('pick_cool_then_place_in_recep', 'Plate', 'None', 'Microwave'),\n",
       " ('pick_cool_then_place_in_recep', 'Plate', 'None', 'Shelf'),\n",
       " ('pick_cool_then_place_in_recep', 'Plate', 'None', 'SinkBasin'),\n",
       " ('pick_cool_then_place_in_recep', 'Pot', 'None', 'Cabinet'),\n",
       " ('pick_cool_then_place_in_recep', 'Pot', 'None', 'CounterTop'),\n",
       " ('pick_cool_then_place_in_recep', 'Pot', 'None', 'DiningTable'),\n",
       " ('pick_cool_then_place_in_recep', 'Pot', 'None', 'Shelf'),\n",
       " ('pick_cool_then_place_in_recep', 'Pot', 'None', 'SinkBasin'),\n",
       " ('pick_cool_then_place_in_recep', 'Pot', 'None', 'StoveBurner'),\n",
       " ('pick_cool_then_place_in_recep', 'Potato', 'None', 'CounterTop'),\n",
       " ('pick_cool_then_place_in_recep', 'Potato', 'None', 'DiningTable'),\n",
       " ('pick_cool_then_place_in_recep', 'Potato', 'None', 'GarbageCan'),\n",
       " ('pick_cool_then_place_in_recep', 'Potato', 'None', 'Microwave'),\n",
       " ('pick_cool_then_place_in_recep', 'Potato', 'None', 'SideTable'),\n",
       " ('pick_cool_then_place_in_recep', 'Potato', 'None', 'SinkBasin'),\n",
       " ('pick_cool_then_place_in_recep', 'PotatoSliced', 'None', 'CounterTop'),\n",
       " ('pick_cool_then_place_in_recep', 'PotatoSliced', 'None', 'DiningTable'),\n",
       " ('pick_cool_then_place_in_recep', 'PotatoSliced', 'None', 'GarbageCan'),\n",
       " ('pick_cool_then_place_in_recep', 'PotatoSliced', 'None', 'Microwave'),\n",
       " ('pick_cool_then_place_in_recep', 'PotatoSliced', 'None', 'SideTable'),\n",
       " ('pick_cool_then_place_in_recep', 'PotatoSliced', 'None', 'SinkBasin'),\n",
       " ('pick_cool_then_place_in_recep', 'Tomato', 'None', 'CounterTop'),\n",
       " ('pick_cool_then_place_in_recep', 'Tomato', 'None', 'DiningTable'),\n",
       " ('pick_cool_then_place_in_recep', 'Tomato', 'None', 'GarbageCan'),\n",
       " ('pick_cool_then_place_in_recep', 'Tomato', 'None', 'Microwave'),\n",
       " ('pick_cool_then_place_in_recep', 'Tomato', 'None', 'SinkBasin'),\n",
       " ('pick_cool_then_place_in_recep', 'TomatoSliced', 'None', 'CounterTop'),\n",
       " ('pick_cool_then_place_in_recep', 'TomatoSliced', 'None', 'DiningTable'),\n",
       " ('pick_cool_then_place_in_recep', 'TomatoSliced', 'None', 'GarbageCan'),\n",
       " ('pick_cool_then_place_in_recep', 'TomatoSliced', 'None', 'Microwave'),\n",
       " ('pick_cool_then_place_in_recep', 'TomatoSliced', 'None', 'SinkBasin'),\n",
       " ('pick_cool_then_place_in_recep', 'WineBottle', 'None', 'Cabinet'),\n",
       " ('pick_cool_then_place_in_recep', 'WineBottle', 'None', 'CounterTop'),\n",
       " ('pick_cool_then_place_in_recep', 'WineBottle', 'None', 'DiningTable'),\n",
       " ('pick_cool_then_place_in_recep', 'WineBottle', 'None', 'GarbageCan'),\n",
       " ('pick_heat_then_place_in_recep', 'Apple', 'None', 'CounterTop'),\n",
       " ('pick_heat_then_place_in_recep', 'Apple', 'None', 'DiningTable'),\n",
       " ('pick_heat_then_place_in_recep', 'Apple', 'None', 'Fridge'),\n",
       " ('pick_heat_then_place_in_recep', 'Apple', 'None', 'GarbageCan'),\n",
       " ('pick_heat_then_place_in_recep', 'Apple', 'None', 'SideTable'),\n",
       " ('pick_heat_then_place_in_recep', 'Apple', 'None', 'SinkBasin'),\n",
       " ('pick_heat_then_place_in_recep', 'AppleSliced', 'None', 'CounterTop'),\n",
       " ('pick_heat_then_place_in_recep', 'AppleSliced', 'None', 'DiningTable'),\n",
       " ('pick_heat_then_place_in_recep', 'AppleSliced', 'None', 'Fridge'),\n",
       " ('pick_heat_then_place_in_recep', 'AppleSliced', 'None', 'GarbageCan'),\n",
       " ('pick_heat_then_place_in_recep', 'AppleSliced', 'None', 'SideTable'),\n",
       " ('pick_heat_then_place_in_recep', 'AppleSliced', 'None', 'SinkBasin'),\n",
       " ('pick_heat_then_place_in_recep', 'Bread', 'None', 'CounterTop'),\n",
       " ('pick_heat_then_place_in_recep', 'Bread', 'None', 'DiningTable'),\n",
       " ('pick_heat_then_place_in_recep', 'Bread', 'None', 'Fridge'),\n",
       " ('pick_heat_then_place_in_recep', 'Bread', 'None', 'GarbageCan'),\n",
       " ('pick_heat_then_place_in_recep', 'BreadSliced', 'None', 'CounterTop'),\n",
       " ('pick_heat_then_place_in_recep', 'BreadSliced', 'None', 'DiningTable'),\n",
       " ('pick_heat_then_place_in_recep', 'BreadSliced', 'None', 'Fridge'),\n",
       " ('pick_heat_then_place_in_recep', 'BreadSliced', 'None', 'GarbageCan'),\n",
       " ('pick_heat_then_place_in_recep', 'BreadSliced', 'None', 'SideTable'),\n",
       " ('pick_heat_then_place_in_recep', 'Cup', 'None', 'Cabinet'),\n",
       " ('pick_heat_then_place_in_recep', 'Cup', 'None', 'CounterTop'),\n",
       " ('pick_heat_then_place_in_recep', 'Cup', 'None', 'DiningTable'),\n",
       " ('pick_heat_then_place_in_recep', 'Cup', 'None', 'Fridge'),\n",
       " ('pick_heat_then_place_in_recep', 'Cup', 'None', 'Shelf'),\n",
       " ('pick_heat_then_place_in_recep', 'Cup', 'None', 'SideTable'),\n",
       " ('pick_heat_then_place_in_recep', 'Cup', 'None', 'SinkBasin'),\n",
       " ('pick_heat_then_place_in_recep', 'Egg', 'None', 'CounterTop'),\n",
       " ('pick_heat_then_place_in_recep', 'Egg', 'None', 'DiningTable'),\n",
       " ('pick_heat_then_place_in_recep', 'Egg', 'None', 'Fridge'),\n",
       " ('pick_heat_then_place_in_recep', 'Egg', 'None', 'GarbageCan'),\n",
       " ('pick_heat_then_place_in_recep', 'Egg', 'None', 'SideTable'),\n",
       " ('pick_heat_then_place_in_recep', 'Egg', 'None', 'SinkBasin'),\n",
       " ('pick_heat_then_place_in_recep', 'Mug', 'None', 'Cabinet'),\n",
       " ('pick_heat_then_place_in_recep', 'Mug', 'None', 'CoffeeMachine'),\n",
       " ('pick_heat_then_place_in_recep', 'Mug', 'None', 'Shelf'),\n",
       " ('pick_heat_then_place_in_recep', 'Mug', 'None', 'SideTable'),\n",
       " ('pick_heat_then_place_in_recep', 'Mug', 'None', 'SinkBasin'),\n",
       " ('pick_heat_then_place_in_recep', 'Plate', 'None', 'Cabinet'),\n",
       " ('pick_heat_then_place_in_recep', 'Plate', 'None', 'CounterTop'),\n",
       " ('pick_heat_then_place_in_recep', 'Plate', 'None', 'DiningTable'),\n",
       " ('pick_heat_then_place_in_recep', 'Plate', 'None', 'Fridge'),\n",
       " ('pick_heat_then_place_in_recep', 'Plate', 'None', 'Shelf'),\n",
       " ('pick_heat_then_place_in_recep', 'Plate', 'None', 'SideTable'),\n",
       " ('pick_heat_then_place_in_recep', 'Plate', 'None', 'SinkBasin'),\n",
       " ('pick_heat_then_place_in_recep', 'Potato', 'None', 'CounterTop'),\n",
       " ('pick_heat_then_place_in_recep', 'Potato', 'None', 'DiningTable'),\n",
       " ('pick_heat_then_place_in_recep', 'Potato', 'None', 'Fridge'),\n",
       " ('pick_heat_then_place_in_recep', 'Potato', 'None', 'GarbageCan'),\n",
       " ('pick_heat_then_place_in_recep', 'Potato', 'None', 'SideTable'),\n",
       " ('pick_heat_then_place_in_recep', 'Potato', 'None', 'SinkBasin'),\n",
       " ('pick_heat_then_place_in_recep', 'PotatoSliced', 'None', 'CounterTop'),\n",
       " ('pick_heat_then_place_in_recep', 'PotatoSliced', 'None', 'DiningTable'),\n",
       " ('pick_heat_then_place_in_recep', 'PotatoSliced', 'None', 'Fridge'),\n",
       " ('pick_heat_then_place_in_recep', 'PotatoSliced', 'None', 'GarbageCan'),\n",
       " ('pick_heat_then_place_in_recep', 'PotatoSliced', 'None', 'SideTable'),\n",
       " ('pick_heat_then_place_in_recep', 'PotatoSliced', 'None', 'SinkBasin'),\n",
       " ('pick_heat_then_place_in_recep', 'Tomato', 'None', 'CounterTop'),\n",
       " ('pick_heat_then_place_in_recep', 'Tomato', 'None', 'DiningTable'),\n",
       " ('pick_heat_then_place_in_recep', 'Tomato', 'None', 'Fridge'),\n",
       " ('pick_heat_then_place_in_recep', 'Tomato', 'None', 'GarbageCan'),\n",
       " ('pick_heat_then_place_in_recep', 'Tomato', 'None', 'SideTable'),\n",
       " ('pick_heat_then_place_in_recep', 'Tomato', 'None', 'SinkBasin'),\n",
       " ('pick_heat_then_place_in_recep', 'TomatoSliced', 'None', 'CounterTop'),\n",
       " ('pick_heat_then_place_in_recep', 'TomatoSliced', 'None', 'DiningTable'),\n",
       " ('pick_heat_then_place_in_recep', 'TomatoSliced', 'None', 'Fridge'),\n",
       " ('pick_heat_then_place_in_recep', 'TomatoSliced', 'None', 'GarbageCan'),\n",
       " ('pick_heat_then_place_in_recep', 'TomatoSliced', 'None', 'SideTable'),\n",
       " ('pick_heat_then_place_in_recep', 'TomatoSliced', 'None', 'SinkBasin'),\n",
       " ('pick_two_obj_and_place', 'AlarmClock', 'None', 'Desk'),\n",
       " ('pick_two_obj_and_place', 'AlarmClock', 'None', 'Dresser'),\n",
       " ('pick_two_obj_and_place', 'AlarmClock', 'None', 'Shelf'),\n",
       " ('pick_two_obj_and_place', 'AlarmClock', 'None', 'SideTable'),\n",
       " ('pick_two_obj_and_place', 'Apple', 'None', 'GarbageCan'),\n",
       " ('pick_two_obj_and_place', 'AppleSliced', 'None', 'CounterTop'),\n",
       " ('pick_two_obj_and_place', 'AppleSliced', 'None', 'Microwave'),\n",
       " ('pick_two_obj_and_place', 'BaseballBat', 'None', 'Bed'),\n",
       " ('pick_two_obj_and_place', 'Book', 'None', 'Bed'),\n",
       " ('pick_two_obj_and_place', 'Book', 'None', 'Desk'),\n",
       " ('pick_two_obj_and_place', 'Book', 'None', 'DiningTable'),\n",
       " ('pick_two_obj_and_place', 'Book', 'None', 'Drawer'),\n",
       " ('pick_two_obj_and_place', 'Book', 'None', 'Dresser'),\n",
       " ('pick_two_obj_and_place', 'Book', 'None', 'Sofa'),\n",
       " ('pick_two_obj_and_place', 'Bowl', 'None', 'CoffeeTable'),\n",
       " ('pick_two_obj_and_place', 'Bowl', 'None', 'Desk'),\n",
       " ('pick_two_obj_and_place', 'Bowl', 'None', 'Dresser'),\n",
       " ('pick_two_obj_and_place', 'Box', 'None', 'CoffeeTable'),\n",
       " ('pick_two_obj_and_place', 'Bread', 'None', 'Fridge'),\n",
       " ('pick_two_obj_and_place', 'BreadSliced', 'None', 'Fridge'),\n",
       " ('pick_two_obj_and_place', 'BreadSliced', 'None', 'GarbageCan'),\n",
       " ('pick_two_obj_and_place', 'ButterKnife', 'None', 'SinkBasin'),\n",
       " ('pick_two_obj_and_place', 'CD', 'None', 'Desk'),\n",
       " ('pick_two_obj_and_place', 'CD', 'None', 'Drawer'),\n",
       " ('pick_two_obj_and_place', 'CD', 'None', 'Dresser'),\n",
       " ('pick_two_obj_and_place', 'CD', 'None', 'GarbageCan'),\n",
       " ('pick_two_obj_and_place', 'CD', 'None', 'Safe'),\n",
       " ('pick_two_obj_and_place', 'CD', 'None', 'Shelf'),\n",
       " ('pick_two_obj_and_place', 'CD', 'None', 'SideTable'),\n",
       " ('pick_two_obj_and_place', 'Candle', 'None', 'Cabinet'),\n",
       " ('pick_two_obj_and_place', 'Candle', 'None', 'CounterTop'),\n",
       " ('pick_two_obj_and_place', 'Candle', 'None', 'Drawer'),\n",
       " ('pick_two_obj_and_place', 'Candle', 'None', 'Shelf'),\n",
       " ('pick_two_obj_and_place', 'Candle', 'None', 'Toilet'),\n",
       " ('pick_two_obj_and_place', 'CellPhone', 'None', 'ArmChair'),\n",
       " ('pick_two_obj_and_place', 'CellPhone', 'None', 'Bed'),\n",
       " ('pick_two_obj_and_place', 'CellPhone', 'None', 'Desk'),\n",
       " ('pick_two_obj_and_place', 'CellPhone', 'None', 'DiningTable'),\n",
       " ('pick_two_obj_and_place', 'CellPhone', 'None', 'Drawer'),\n",
       " ('pick_two_obj_and_place', 'CellPhone', 'None', 'Dresser'),\n",
       " ('pick_two_obj_and_place', 'CellPhone', 'None', 'Safe'),\n",
       " ('pick_two_obj_and_place', 'CellPhone', 'None', 'Shelf'),\n",
       " ('pick_two_obj_and_place', 'CellPhone', 'None', 'SideTable'),\n",
       " ('pick_two_obj_and_place', 'CellPhone', 'None', 'Sofa'),\n",
       " ('pick_two_obj_and_place', 'Cloth', 'None', 'BathtubBasin'),\n",
       " ('pick_two_obj_and_place', 'Cloth', 'None', 'Drawer'),\n",
       " ('pick_two_obj_and_place', 'Cloth', 'None', 'Dresser'),\n",
       " ('pick_two_obj_and_place', 'Cloth', 'None', 'Shelf'),\n",
       " ('pick_two_obj_and_place', 'Cloth', 'None', 'SideTable'),\n",
       " ('pick_two_obj_and_place', 'Cloth', 'None', 'SinkBasin'),\n",
       " ('pick_two_obj_and_place', 'Cloth', 'None', 'Toilet'),\n",
       " ('pick_two_obj_and_place', 'CreditCard', 'None', 'ArmChair'),\n",
       " ('pick_two_obj_and_place', 'CreditCard', 'None', 'CoffeeTable'),\n",
       " ('pick_two_obj_and_place', 'CreditCard', 'None', 'Desk'),\n",
       " ('pick_two_obj_and_place', 'CreditCard', 'None', 'DiningTable'),\n",
       " ('pick_two_obj_and_place', 'CreditCard', 'None', 'Drawer'),\n",
       " ('pick_two_obj_and_place', 'CreditCard', 'None', 'Dresser'),\n",
       " ('pick_two_obj_and_place', 'CreditCard', 'None', 'Safe'),\n",
       " ('pick_two_obj_and_place', 'CreditCard', 'None', 'Shelf'),\n",
       " ('pick_two_obj_and_place', 'CreditCard', 'None', 'SideTable'),\n",
       " ('pick_two_obj_and_place', 'CreditCard', 'None', 'Sofa'),\n",
       " ('pick_two_obj_and_place', 'Cup', 'None', 'Cabinet'),\n",
       " ('pick_two_obj_and_place', 'Cup', 'None', 'CounterTop'),\n",
       " ('pick_two_obj_and_place', 'Cup', 'None', 'Microwave'),\n",
       " ('pick_two_obj_and_place', 'Cup', 'None', 'Shelf'),\n",
       " ('pick_two_obj_and_place', 'DishSponge', 'None', 'BathtubBasin'),\n",
       " ('pick_two_obj_and_place', 'DishSponge', 'None', 'Cart'),\n",
       " ('pick_two_obj_and_place', 'DishSponge', 'None', 'CounterTop'),\n",
       " ('pick_two_obj_and_place', 'DishSponge', 'None', 'GarbageCan'),\n",
       " ('pick_two_obj_and_place', 'DishSponge', 'None', 'Toilet'),\n",
       " ('pick_two_obj_and_place', 'Egg', 'None', 'Microwave'),\n",
       " ('pick_two_obj_and_place', 'Fork', 'None', 'SinkBasin'),\n",
       " ('pick_two_obj_and_place', 'Glassbottle', 'None', 'Fridge'),\n",
       " ('pick_two_obj_and_place', 'Glassbottle', 'None', 'Shelf'),\n",
       " ('pick_two_obj_and_place', 'Glassbottle', 'None', 'SinkBasin'),\n",
       " ('pick_two_obj_and_place', 'HandTowel', 'None', 'BathtubBasin'),\n",
       " ('pick_two_obj_and_place', 'HandTowel', 'None', 'CounterTop'),\n",
       " ('pick_two_obj_and_place', 'HandTowel', 'None', 'SinkBasin'),\n",
       " ('pick_two_obj_and_place', 'HandTowel', 'None', 'Toilet'),\n",
       " ('pick_two_obj_and_place', 'Kettle', 'None', 'Cabinet'),\n",
       " ('pick_two_obj_and_place', 'Kettle', 'None', 'DiningTable'),\n",
       " ('pick_two_obj_and_place', 'KeyChain', 'None', 'ArmChair'),\n",
       " ('pick_two_obj_and_place', 'KeyChain', 'None', 'CoffeeTable'),\n",
       " ('pick_two_obj_and_place', 'KeyChain', 'None', 'Desk'),\n",
       " ('pick_two_obj_and_place', 'KeyChain', 'None', 'Drawer'),\n",
       " ('pick_two_obj_and_place', 'KeyChain', 'None', 'Dresser'),\n",
       " ('pick_two_obj_and_place', 'KeyChain', 'None', 'Ottoman'),\n",
       " ('pick_two_obj_and_place', 'KeyChain', 'None', 'Safe'),\n",
       " ('pick_two_obj_and_place', 'KeyChain', 'None', 'Shelf'),\n",
       " ('pick_two_obj_and_place', 'KeyChain', 'None', 'SideTable'),\n",
       " ('pick_two_obj_and_place', 'KeyChain', 'None', 'Sofa'),\n",
       " ('pick_two_obj_and_place', 'Knife', 'None', 'Drawer'),\n",
       " ('pick_two_obj_and_place', 'Ladle', 'None', 'Drawer'),\n",
       " ('pick_two_obj_and_place', 'Laptop', 'None', 'Bed'),\n",
       " ('pick_two_obj_and_place', 'Laptop', 'None', 'Desk'),\n",
       " ('pick_two_obj_and_place', 'Laptop', 'None', 'Ottoman'),\n",
       " ('pick_two_obj_and_place', 'Lettuce', 'None', 'Fridge'),\n",
       " ('pick_two_obj_and_place', 'Lettuce', 'None', 'SinkBasin'),\n",
       " ('pick_two_obj_and_place', 'LettuceSliced', 'None', 'Fridge'),\n",
       " ('pick_two_obj_and_place', 'Mug', 'None', 'Cabinet'),\n",
       " ('pick_two_obj_and_place', 'Mug', 'None', 'Desk'),\n",
       " ('pick_two_obj_and_place', 'Newspaper', 'None', 'ArmChair'),\n",
       " ('pick_two_obj_and_place', 'Newspaper', 'None', 'CoffeeTable'),\n",
       " ('pick_two_obj_and_place', 'Newspaper', 'None', 'Drawer'),\n",
       " ('pick_two_obj_and_place', 'Newspaper', 'None', 'GarbageCan'),\n",
       " ('pick_two_obj_and_place', 'Newspaper', 'None', 'Sofa'),\n",
       " ('pick_two_obj_and_place', 'Pan', 'None', 'CounterTop'),\n",
       " ('pick_two_obj_and_place', 'Pen', 'None', 'Desk'),\n",
       " ('pick_two_obj_and_place', 'Pen', 'None', 'Drawer'),\n",
       " ('pick_two_obj_and_place', 'Pen', 'None', 'Dresser'),\n",
       " ('pick_two_obj_and_place', 'Pen', 'None', 'GarbageCan'),\n",
       " ('pick_two_obj_and_place', 'Pen', 'None', 'Shelf'),\n",
       " ('pick_two_obj_and_place', 'Pen', 'None', 'SideTable'),\n",
       " ('pick_two_obj_and_place', 'Pencil', 'None', 'CoffeeTable'),\n",
       " ('pick_two_obj_and_place', 'Pencil', 'None', 'Desk'),\n",
       " ('pick_two_obj_and_place', 'Pencil', 'None', 'Drawer'),\n",
       " ('pick_two_obj_and_place', 'Pencil', 'None', 'Shelf'),\n",
       " ('pick_two_obj_and_place', 'Pencil', 'None', 'SideTable'),\n",
       " ('pick_two_obj_and_place', 'PepperShaker', 'None', 'Cabinet'),\n",
       " ('pick_two_obj_and_place', 'PepperShaker', 'None', 'DiningTable'),\n",
       " ('pick_two_obj_and_place', 'PepperShaker', 'None', 'Drawer'),\n",
       " ('pick_two_obj_and_place', 'PepperShaker', 'None', 'Shelf'),\n",
       " ('pick_two_obj_and_place', 'PepperShaker', 'None', 'SideTable'),\n",
       " ('pick_two_obj_and_place', 'Pillow', 'None', 'ArmChair'),\n",
       " ('pick_two_obj_and_place', 'Pillow', 'None', 'Ottoman'),\n",
       " ('pick_two_obj_and_place', 'Pillow', 'None', 'Sofa'),\n",
       " ('pick_two_obj_and_place', 'Plate', 'None', 'CoffeeTable'),\n",
       " ('pick_two_obj_and_place', 'Pot', 'None', 'Shelf'),\n",
       " ('pick_two_obj_and_place', 'Potato', 'None', 'Fridge'),\n",
       " ('pick_two_obj_and_place', 'Potato', 'None', 'Microwave'),\n",
       " ('pick_two_obj_and_place', 'Potato', 'None', 'SinkBasin'),\n",
       " ('pick_two_obj_and_place', 'PotatoSliced', 'None', 'GarbageCan'),\n",
       " ('pick_two_obj_and_place', 'PotatoSliced', 'None', 'SideTable'),\n",
       " ('pick_two_obj_and_place', 'PotatoSliced', 'None', 'SinkBasin'),\n",
       " ('pick_two_obj_and_place', 'RemoteControl', 'None', 'ArmChair'),\n",
       " ('pick_two_obj_and_place', 'RemoteControl', 'None', 'CoffeeTable'),\n",
       " ('pick_two_obj_and_place', 'RemoteControl', 'None', 'Ottoman'),\n",
       " ('pick_two_obj_and_place', 'RemoteControl', 'None', 'Sofa'),\n",
       " ('pick_two_obj_and_place', 'SaltShaker', 'None', 'Cabinet'),\n",
       " ('pick_two_obj_and_place', 'SaltShaker', 'None', 'CounterTop'),\n",
       " ('pick_two_obj_and_place', 'SaltShaker', 'None', 'Drawer'),\n",
       " ('pick_two_obj_and_place', 'SaltShaker', 'None', 'Shelf'),\n",
       " ('pick_two_obj_and_place', 'SaltShaker', 'None', 'SideTable'),\n",
       " ('pick_two_obj_and_place', 'SoapBar', 'None', 'BathtubBasin'),\n",
       " ('pick_two_obj_and_place', 'SoapBar', 'None', 'Cabinet'),\n",
       " ('pick_two_obj_and_place', 'SoapBar', 'None', 'Cart'),\n",
       " ('pick_two_obj_and_place', 'SoapBar', 'None', 'CounterTop'),\n",
       " ('pick_two_obj_and_place', 'SoapBar', 'None', 'Drawer'),\n",
       " ('pick_two_obj_and_place', 'SoapBar', 'None', 'GarbageCan'),\n",
       " ('pick_two_obj_and_place', 'SoapBar', 'None', 'Shelf'),\n",
       " ('pick_two_obj_and_place', 'SoapBar', 'None', 'SinkBasin'),\n",
       " ('pick_two_obj_and_place', 'SoapBar', 'None', 'Toilet'),\n",
       " ('pick_two_obj_and_place', 'SoapBottle', 'None', 'Cabinet'),\n",
       " ('pick_two_obj_and_place', 'SoapBottle', 'None', 'Cart'),\n",
       " ('pick_two_obj_and_place', 'SoapBottle', 'None', 'CounterTop'),\n",
       " ('pick_two_obj_and_place', 'SoapBottle', 'None', 'Drawer'),\n",
       " ('pick_two_obj_and_place', 'SoapBottle', 'None', 'GarbageCan'),\n",
       " ('pick_two_obj_and_place', 'SoapBottle', 'None', 'Toilet'),\n",
       " ('pick_two_obj_and_place', 'Spatula', 'None', 'Drawer'),\n",
       " ('pick_two_obj_and_place', 'Spoon', 'None', 'CounterTop'),\n",
       " ('pick_two_obj_and_place', 'Spoon', 'None', 'Drawer'),\n",
       " ('pick_two_obj_and_place', 'Spoon', 'None', 'SideTable'),\n",
       " ('pick_two_obj_and_place', 'SprayBottle', 'None', 'Cabinet'),\n",
       " ('pick_two_obj_and_place', 'SprayBottle', 'None', 'Cart'),\n",
       " ('pick_two_obj_and_place', 'SprayBottle', 'None', 'CounterTop'),\n",
       " ('pick_two_obj_and_place', 'SprayBottle', 'None', 'Drawer'),\n",
       " ('pick_two_obj_and_place', 'SprayBottle', 'None', 'Dresser'),\n",
       " ('pick_two_obj_and_place', 'SprayBottle', 'None', 'GarbageCan'),\n",
       " ('pick_two_obj_and_place', 'SprayBottle', 'None', 'Toilet'),\n",
       " ('pick_two_obj_and_place', 'Statue', 'None', 'CoffeeTable'),\n",
       " ('pick_two_obj_and_place', 'Statue', 'None', 'DiningTable'),\n",
       " ('pick_two_obj_and_place', 'Statue', 'None', 'Dresser'),\n",
       " ('pick_two_obj_and_place', 'Statue', 'None', 'SideTable'),\n",
       " ('pick_two_obj_and_place', 'TissueBox', 'None', 'Cart'),\n",
       " ('pick_two_obj_and_place', 'TissueBox', 'None', 'CoffeeTable'),\n",
       " ('pick_two_obj_and_place', 'TissueBox', 'None', 'DiningTable'),\n",
       " ('pick_two_obj_and_place', 'TissueBox', 'None', 'Drawer'),\n",
       " ('pick_two_obj_and_place', 'TissueBox', 'None', 'GarbageCan'),\n",
       " ('pick_two_obj_and_place', 'TissueBox', 'None', 'Shelf'),\n",
       " ('pick_two_obj_and_place', 'TissueBox', 'None', 'SideTable'),\n",
       " ('pick_two_obj_and_place', 'TissueBox', 'None', 'Toilet'),\n",
       " ('pick_two_obj_and_place', 'ToiletPaper', 'None', 'Cabinet'),\n",
       " ('pick_two_obj_and_place', 'ToiletPaper', 'None', 'CounterTop'),\n",
       " ('pick_two_obj_and_place', 'ToiletPaper', 'None', 'Drawer'),\n",
       " ('pick_two_obj_and_place', 'ToiletPaper', 'None', 'Shelf'),\n",
       " ('pick_two_obj_and_place', 'ToiletPaper', 'None', 'SideTable'),\n",
       " ('pick_two_obj_and_place', 'ToiletPaper', 'None', 'Toilet'),\n",
       " ('pick_two_obj_and_place', 'Tomato', 'None', 'CounterTop'),\n",
       " ('pick_two_obj_and_place', 'TomatoSliced', 'None', 'Microwave'),\n",
       " ('pick_two_obj_and_place', 'Vase', 'None', 'CoffeeTable'),\n",
       " ('pick_two_obj_and_place', 'Vase', 'None', 'Desk'),\n",
       " ('pick_two_obj_and_place', 'Vase', 'None', 'DiningTable'),\n",
       " ('pick_two_obj_and_place', 'Vase', 'None', 'SideTable'),\n",
       " ('pick_two_obj_and_place', 'Watch', 'None', 'CoffeeTable'),\n",
       " ('pick_two_obj_and_place', 'Watch', 'None', 'Dresser'),\n",
       " ('pick_two_obj_and_place', 'Watch', 'None', 'Shelf'),\n",
       " ('pick_two_obj_and_place', 'Watch', 'None', 'SideTable'),\n",
       " ('pick_two_obj_and_place', 'WateringCan', 'None', 'Shelf'),\n",
       " ('pick_two_obj_and_place', 'WineBottle', 'None', 'Cabinet'),\n",
       " ('pick_two_obj_and_place', 'WineBottle', 'None', 'GarbageCan')}"
      ]
     },
     "execution_count": 31,
     "metadata": {},
     "output_type": "execute_result"
    }
   ],
   "source": [
    "all_tasks_and_params"
   ]
  },
  {
   "cell_type": "code",
   "execution_count": 32,
   "metadata": {},
   "outputs": [],
   "source": [
    "from random import Random\n",
    "def shuffle(items, seed=1):\n",
    "    items = list(sorted(items))\n",
    "    state = Random(seed)\n",
    "    state.shuffle(items)\n",
    "    return items"
   ]
  },
  {
   "cell_type": "code",
   "execution_count": 33,
   "metadata": {},
   "outputs": [],
   "source": [
    "def split_items(lst, len_first):\n",
    "    assert len_first <= len(lst)\n",
    "    first, second = lst[:len_first], lst[len_first:]\n",
    "    assert len(first) + len(second) == len(lst)\n",
    "    return first, second"
   ]
  },
  {
   "cell_type": "code",
   "execution_count": 36,
   "metadata": {},
   "outputs": [],
   "source": [
    "import itertools\n",
    "def object_receptable_partition(distinct_pairs_in_training_fraction=0.8, start_seed=0):\n",
    "    all_obj1_recep = set((t[1], t[3]) for t in all_tasks_and_params)\n",
    "    num_distinct_args_in_training = int(len(all_obj1_recep) * distinct_pairs_in_training_fraction)\n",
    "    \n",
    "    for seed in itertools.count(start_seed):\n",
    "        train_obj1_recep, val_obj1_recep = split_items(\n",
    "            shuffle(all_obj1_recep, seed),\n",
    "            num_distinct_args_in_training\n",
    "        )\n",
    "        assert not (set(train_obj1_recep) & set(val_obj1_recep))\n",
    "        train_objs = set(t[0] for t in train_obj1_recep)\n",
    "        val_objs = set(t[0] for t in val_obj1_recep)\n",
    "        train_receps = set(t[1] for t in train_obj1_recep)\n",
    "        val_receps = set(t[1] for t in val_obj1_recep)\n",
    "        passed = len(val_objs - train_objs) == 0 and len(val_receps - train_receps) == 0\n",
    "        if passed:\n",
    "            break\n",
    "    print(\"train obj1, recep pairs: {}\".format(len(train_obj1_recep)))\n",
    "    print(\"val obj1, recep pairs: {}\".format(len(val_obj1_recep)))\n",
    "    print(\"train objs: {}\".format(len(train_objs)))\n",
    "    print(\"val objs: {}\".format(len(val_objs)))\n",
    "    print(\"train receps: {}\".format(len(train_receps)))\n",
    "    print(\"val receps: {}\".format(len(val_receps)))\n",
    "    \n",
    "    train_obj1_recep = set(train_obj1_recep)\n",
    "    val_obj1_recep = set(val_obj1_recep)\n",
    "    \n",
    "    train_tasks_and_params = set(t for t in all_tasks_and_params if (t[1], t[3]) in train_obj1_recep)\n",
    "    val_tasks_and_params = set(t for t in all_tasks_and_params if (t[1], t[3]) in val_obj1_recep)\n",
    "    print(\"train_tasks_and_params count: {}\".format(len(train_tasks_and_params)))\n",
    "    print(\"val_tasks_and_params count: {}\".format(len(val_tasks_and_params)))\n",
    "    print('sample val_tasks_and_parmas: {}'.format(shuffle(val_tasks_and_params)[:10]))\n",
    "    return train_tasks_and_params, val_tasks_and_params"
   ]
  },
  {
   "cell_type": "code",
   "execution_count": 45,
   "metadata": {},
   "outputs": [
    {
     "name": "stdout",
     "output_type": "stream",
     "text": [
      "train obj1, recep pairs: 404\n",
      "val obj1, recep pairs: 22\n",
      "train objs: 58\n",
      "val objs: 18\n",
      "train receps: 26\n",
      "val receps: 15\n",
      "train_tasks_and_params count: 895\n",
      "val_tasks_and_params count: 48\n",
      "sample val_tasks_and_parmas: [('pick_two_obj_and_place', 'Lettuce', 'None', 'Fridge'), ('pick_and_place_with_movable_recep', 'DishSponge', 'Pot', 'SinkBasin'), ('pick_two_obj_and_place', 'Pen', 'None', 'GarbageCan'), ('pick_and_place_simple', 'Tomato', 'None', 'DiningTable'), ('pick_and_place_simple', 'Fork', 'None', 'Drawer'), ('pick_heat_then_place_in_recep', 'Potato', 'None', 'SideTable'), ('look_at_obj_in_light', 'Watch', 'None', 'FloorLamp'), ('pick_and_place_with_movable_recep', 'DishSponge', 'Pan', 'SinkBasin'), ('pick_and_place_with_movable_recep', 'Pencil', 'Mug', 'SideTable'), ('pick_heat_then_place_in_recep', 'Cup', 'None', 'Cabinet')]\n"
     ]
    }
   ],
   "source": [
    "# 0.95 chosen to get the repartitioned train and val_seen to be similar to the original size, with train slightly smaller\n",
    "repar_train_tasks_and_params, repar_val_tasks_and_params = object_receptable_partition(0.95, start_seed=0)"
   ]
  },
  {
   "cell_type": "code",
   "execution_count": 55,
   "metadata": {},
   "outputs": [
    {
     "data": {
      "text/plain": [
       "[('pick_cool_then_place_in_recep', 'Lettuce', 'None', 'GarbageCan'),\n",
       " ('pick_cool_then_place_in_recep', 'Lettuce', 'None', 'CounterTop'),\n",
       " ('pick_clean_then_place_in_recep', 'Lettuce', 'None', 'CounterTop'),\n",
       " ('pick_two_obj_and_place', 'Lettuce', 'None', 'SinkBasin'),\n",
       " ('pick_and_place_simple', 'Lettuce', 'None', 'CounterTop'),\n",
       " ('pick_clean_then_place_in_recep', 'Lettuce', 'None', 'DiningTable'),\n",
       " ('pick_clean_then_place_in_recep', 'Lettuce', 'None', 'GarbageCan'),\n",
       " ('pick_clean_then_place_in_recep', 'Lettuce', 'None', 'SideTable'),\n",
       " ('pick_cool_then_place_in_recep', 'Lettuce', 'None', 'SinkBasin'),\n",
       " ('pick_cool_then_place_in_recep', 'Lettuce', 'None', 'DiningTable')]"
      ]
     },
     "execution_count": 55,
     "metadata": {},
     "output_type": "execute_result"
    }
   ],
   "source": [
    "[t for t in repar_train_tasks_and_params if t[1] == 'Lettuce']"
   ]
  },
  {
   "cell_type": "code",
   "execution_count": 54,
   "metadata": {},
   "outputs": [
    {
     "data": {
      "text/plain": [
       "[('pick_two_obj_and_place', 'Lettuce', 'None', 'Fridge'),\n",
       " ('pick_clean_then_place_in_recep', 'Lettuce', 'None', 'Fridge')]"
      ]
     },
     "execution_count": 54,
     "metadata": {},
     "output_type": "execute_result"
    }
   ],
   "source": [
    "[t for t in repar_val_tasks_and_params if t[1] == 'Lettuce']"
   ]
  },
  {
   "cell_type": "code",
   "execution_count": 53,
   "metadata": {},
   "outputs": [
    {
     "data": {
      "text/plain": [
       "[('pick_and_place_with_movable_recep', 'DishSponge', 'Plate', 'Cabinet'),\n",
       " ('pick_and_place_with_movable_recep', 'DishSponge', 'Bowl', 'Cabinet'),\n",
       " ('pick_and_place_with_movable_recep', 'DishSponge', 'Bowl', 'Shelf'),\n",
       " ('pick_and_place_with_movable_recep', 'DishSponge', 'Pot', 'Cabinet'),\n",
       " ('pick_clean_then_place_in_recep', 'DishSponge', 'None', 'Shelf'),\n",
       " ('pick_clean_then_place_in_recep', 'DishSponge', 'None', 'CounterTop'),\n",
       " ('pick_two_obj_and_place', 'DishSponge', 'None', 'CounterTop'),\n",
       " ('pick_clean_then_place_in_recep', 'DishSponge', 'None', 'Cart'),\n",
       " ('pick_and_place_simple', 'DishSponge', 'None', 'Cart'),\n",
       " ('pick_and_place_with_movable_recep', 'DishSponge', 'Pan', 'DiningTable'),\n",
       " ('pick_and_place_with_movable_recep', 'DishSponge', 'Plate', 'DiningTable'),\n",
       " ('pick_and_place_simple', 'DishSponge', 'None', 'Cabinet'),\n",
       " ('pick_clean_then_place_in_recep', 'DishSponge', 'None', 'BathtubBasin'),\n",
       " ('pick_two_obj_and_place', 'DishSponge', 'None', 'Toilet'),\n",
       " ('pick_and_place_with_movable_recep', 'DishSponge', 'Pan', 'Cabinet'),\n",
       " ('pick_two_obj_and_place', 'DishSponge', 'None', 'GarbageCan'),\n",
       " ('pick_two_obj_and_place', 'DishSponge', 'None', 'Cart'),\n",
       " ('pick_two_obj_and_place', 'DishSponge', 'None', 'BathtubBasin'),\n",
       " ('pick_clean_then_place_in_recep', 'DishSponge', 'None', 'Toilet'),\n",
       " ('pick_clean_then_place_in_recep', 'DishSponge', 'None', 'Drawer'),\n",
       " ('pick_clean_then_place_in_recep', 'DishSponge', 'None', 'Cabinet'),\n",
       " ('pick_and_place_simple', 'DishSponge', 'None', 'Toilet'),\n",
       " ('pick_and_place_with_movable_recep', 'DishSponge', 'Pot', 'DiningTable'),\n",
       " ('pick_and_place_with_movable_recep', 'DishSponge', 'Pan', 'CounterTop')]"
      ]
     },
     "execution_count": 53,
     "metadata": {},
     "output_type": "execute_result"
    }
   ],
   "source": [
    "[t for t in repar_train_tasks_and_params if t[1] == 'DishSponge']"
   ]
  },
  {
   "cell_type": "code",
   "execution_count": 52,
   "metadata": {},
   "outputs": [
    {
     "data": {
      "text/plain": [
       "[('pick_and_place_with_movable_recep', 'DishSponge', 'Pot', 'SinkBasin'),\n",
       " ('pick_and_place_with_movable_recep', 'DishSponge', 'Pan', 'SinkBasin')]"
      ]
     },
     "execution_count": 52,
     "metadata": {},
     "output_type": "execute_result"
    }
   ],
   "source": [
    "[t for t in repar_val_tasks_and_params if t[1] == 'DishSponge']"
   ]
  },
  {
   "cell_type": "code",
   "execution_count": 56,
   "metadata": {},
   "outputs": [],
   "source": [
    "repar_splits = {\n",
    "    'tests_seen': splits['tests_seen'],\n",
    "    'tests_unseen': splits['tests_unseen'],\n",
    "    'valid_unseen': splits['valid_unseen'],\n",
    "    'valid_seen': [], # will be appended to below\n",
    "    'train': [], # will be appended to below\n",
    "}"
   ]
  },
  {
   "cell_type": "code",
   "execution_count": 57,
   "metadata": {},
   "outputs": [],
   "source": [
    "for split in ['train', 'valid_seen']:\n",
    "    for task in splits[split]:\n",
    "        task_info = parse_task_info(task['task'])\n",
    "        key = (task_info.high_level_task,) + task_info.high_level_params\n",
    "        if key in repar_train_tasks_and_params:\n",
    "            repar_splits['train'].append(task)\n",
    "        else:\n",
    "            assert key in repar_val_tasks_and_params\n",
    "            repar_splits['valid_seen'].append(task)"
   ]
  },
  {
   "cell_type": "code",
   "execution_count": 58,
   "metadata": {},
   "outputs": [
    {
     "name": "stdout",
     "output_type": "stream",
     "text": [
      "{'tests_seen': 1533, 'tests_unseen': 1529, 'train': 21023, 'valid_seen': 820, 'valid_unseen': 821}\n"
     ]
    }
   ],
   "source": [
    "print({\n",
    "    k: len(v)\n",
    "    for k, v in splits.items()\n",
    "})"
   ]
  },
  {
   "cell_type": "code",
   "execution_count": 59,
   "metadata": {},
   "outputs": [
    {
     "name": "stdout",
     "output_type": "stream",
     "text": [
      "{'tests_seen': 1533, 'tests_unseen': 1529, 'valid_unseen': 821, 'valid_seen': 973, 'train': 20870}\n"
     ]
    }
   ],
   "source": [
    "print({\n",
    "    k: len(v)\n",
    "    for k, v in repar_splits.items()\n",
    "})"
   ]
  },
  {
   "cell_type": "code",
   "execution_count": 60,
   "metadata": {},
   "outputs": [],
   "source": [
    "assert sum(len(v) for v in splits.values()) == sum(len(v) for v in repar_splits.values())"
   ]
  },
  {
   "cell_type": "code",
   "execution_count": 61,
   "metadata": {},
   "outputs": [
    {
     "data": {
      "application/vnd.jupyter.widget-view+json": {
       "model_id": "8e51a89f25b1480ba3189c02e390be12",
       "version_major": 2,
       "version_minor": 0
      },
      "text/plain": [
       "HBox(children=(FloatProgress(value=0.0, max=20870.0), HTML(value='')))"
      ]
     },
     "metadata": {},
     "output_type": "display_data"
    },
    {
     "name": "stdout",
     "output_type": "stream",
     "text": [
      "\n"
     ]
    },
    {
     "data": {
      "application/vnd.jupyter.widget-view+json": {
       "model_id": "d358bdcdb15f427fa9df58187fefa203",
       "version_major": 2,
       "version_minor": 0
      },
      "text/plain": [
       "HBox(children=(FloatProgress(value=0.0, max=973.0), HTML(value='')))"
      ]
     },
     "metadata": {},
     "output_type": "display_data"
    },
    {
     "name": "stdout",
     "output_type": "stream",
     "text": [
      "\n"
     ]
    }
   ],
   "source": [
    "repar_train_df = build_data_frame(repar_splits['train'])\n",
    "repar_valid_seen_df = build_data_frame(repar_splits['valid_seen'])"
   ]
  },
  {
   "cell_type": "code",
   "execution_count": 62,
   "metadata": {},
   "outputs": [],
   "source": [
    "def get_low_level_action_and_args_set(df):\n",
    "    actions_and_args = set()\n",
    "    for ix, row in df.iterrows():\n",
    "        actions_and_args.add((row['action'],) + row['args'])\n",
    "    return actions_and_args"
   ]
  },
  {
   "cell_type": "code",
   "execution_count": 63,
   "metadata": {},
   "outputs": [
    {
     "name": "stdout",
     "output_type": "stream",
     "text": [
      "\tin 1st       : 603\n",
      "\tin 1st \\ 2nd : 297\n",
      "\tin 2nd       : 306\n",
      "\tin 2nd \\ 1st : 0\n",
      "\tjaccard\t306 / 603 = 0.51\n"
     ]
    }
   ],
   "source": [
    "display_jaccard(get_low_level_action_and_args_set(train_df), get_low_level_action_and_args_set(valid_seen_df))"
   ]
  },
  {
   "cell_type": "code",
   "execution_count": 64,
   "metadata": {},
   "outputs": [
    {
     "name": "stdout",
     "output_type": "stream",
     "text": [
      "\tin 1st       : 592\n",
      "\tin 1st \\ 2nd : 489\n",
      "\tin 2nd       : 114\n",
      "\tin 2nd \\ 1st : 11\n",
      "\tjaccard\t103 / 603 = 0.17\n"
     ]
    }
   ],
   "source": [
    "display_jaccard(get_low_level_action_and_args_set(repar_train_df), get_low_level_action_and_args_set(repar_valid_seen_df))"
   ]
  },
  {
   "cell_type": "code",
   "execution_count": 65,
   "metadata": {},
   "outputs": [
    {
     "data": {
      "text/plain": [
       "{('GotoLocation', 'pencil'),\n",
       " ('PutObject', 'baseballbat', 'bed'),\n",
       " ('PutObject', 'cloth', 'dresser'),\n",
       " ('PutObject', 'cup', 'cabinet'),\n",
       " ('PutObject', 'cup', 'microwave'),\n",
       " ('PutObject', 'fork', 'drawer'),\n",
       " ('PutObject', 'keychain', 'safe'),\n",
       " ('PutObject', 'laptop', 'armchair'),\n",
       " ('PutObject', 'pen', 'garbagecan'),\n",
       " ('PutObject', 'pencil', 'sidetable'),\n",
       " ('PutObject', 'saltshaker', 'countertop')}"
      ]
     },
     "execution_count": 65,
     "metadata": {},
     "output_type": "execute_result"
    }
   ],
   "source": [
    "# low-level actions and args in valid_seen that aren't in train\n",
    "get_low_level_action_and_args_set(repar_valid_seen_df) - get_low_level_action_and_args_set(repar_train_df)"
   ]
  },
  {
   "cell_type": "code",
   "execution_count": 67,
   "metadata": {},
   "outputs": [],
   "source": [
    "import json\n",
    "with open('data/splits/object_receptacle_partitioned.json', 'w') as f:\n",
    "    json.dump(repar_splits, f, sort_keys=True, indent=4)"
   ]
  },
  {
   "cell_type": "markdown",
   "metadata": {},
   "source": [
    "# number of high-level actions"
   ]
  },
  {
   "cell_type": "code",
   "execution_count": 68,
   "metadata": {
    "scrolled": false
   },
   "outputs": [],
   "source": [
    "for group, series in train_df.groupby('high_level_task'):\n",
    "#     series.num_actions.hist(range=(0,20),label=group)\n",
    "    series['num_high_level_actions'].hist(label=group)\n",
    "    plt.legend()\n",
    "    plt.show()"
   ]
  },
  {
   "cell_type": "markdown",
   "metadata": {},
   "source": [
    "# number of low-level actions"
   ]
  },
  {
   "cell_type": "code",
   "execution_count": 69,
   "metadata": {
    "scrolled": false
   },
   "outputs": [],
   "source": [
    "for group, series in train_df.groupby('high_level_task'):\n",
    "#     series.num_actions.hist(range=(0,20),label=group)\n",
    "    series['num_low_level_actions'].hist(label=group)\n",
    "    plt.legend()\n",
    "    plt.show()"
   ]
  }
 ],
 "metadata": {
  "kernelspec": {
   "display_name": "Python 3",
   "language": "python",
   "name": "python3"
  },
  "language_info": {
   "codemirror_mode": {
    "name": "ipython",
    "version": 3
   },
   "file_extension": ".py",
   "mimetype": "text/x-python",
   "name": "python",
   "nbconvert_exporter": "python",
   "pygments_lexer": "ipython3",
   "version": "3.7.6"
  }
 },
 "nbformat": 4,
 "nbformat_minor": 4
}
